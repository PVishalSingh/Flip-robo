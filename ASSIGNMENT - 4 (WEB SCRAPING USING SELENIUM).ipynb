{
 "cells": [
  {
   "cell_type": "code",
   "execution_count": 1,
   "id": "f5591277",
   "metadata": {},
   "outputs": [
    {
     "name": "stdout",
     "output_type": "stream",
     "text": [
      "Requirement already satisfied: selenium in c:\\users\\visual singh\\anaconda3\\lib\\site-packages (4.1.3)\n",
      "Requirement already satisfied: trio-websocket~=0.9 in c:\\users\\visual singh\\anaconda3\\lib\\site-packages (from selenium) (0.9.2)\n",
      "Requirement already satisfied: urllib3[secure,socks]~=1.26 in c:\\users\\visual singh\\anaconda3\\lib\\site-packages (from selenium) (1.26.4)\n",
      "Requirement already satisfied: trio~=0.17 in c:\\users\\visual singh\\anaconda3\\lib\\site-packages (from selenium) (0.20.0)\n",
      "Requirement already satisfied: async-generator>=1.9 in c:\\users\\visual singh\\anaconda3\\lib\\site-packages (from trio~=0.17->selenium) (1.10)\n",
      "Requirement already satisfied: sortedcontainers in c:\\users\\visual singh\\anaconda3\\lib\\site-packages (from trio~=0.17->selenium) (2.3.0)\n",
      "Requirement already satisfied: sniffio in c:\\users\\visual singh\\anaconda3\\lib\\site-packages (from trio~=0.17->selenium) (1.2.0)\n",
      "Requirement already satisfied: cffi>=1.14 in c:\\users\\visual singh\\anaconda3\\lib\\site-packages (from trio~=0.17->selenium) (1.14.5)\n",
      "Requirement already satisfied: attrs>=19.2.0 in c:\\users\\visual singh\\anaconda3\\lib\\site-packages (from trio~=0.17->selenium) (20.3.0)\n",
      "Requirement already satisfied: outcome in c:\\users\\visual singh\\anaconda3\\lib\\site-packages (from trio~=0.17->selenium) (1.1.0)\n",
      "Requirement already satisfied: idna in c:\\users\\visual singh\\anaconda3\\lib\\site-packages (from trio~=0.17->selenium) (2.10)\n",
      "Requirement already satisfied: pycparser in c:\\users\\visual singh\\anaconda3\\lib\\site-packages (from cffi>=1.14->trio~=0.17->selenium) (2.20)\n",
      "Requirement already satisfied: wsproto>=0.14 in c:\\users\\visual singh\\anaconda3\\lib\\site-packages (from trio-websocket~=0.9->selenium) (1.1.0)\n",
      "Requirement already satisfied: certifi in c:\\users\\visual singh\\anaconda3\\lib\\site-packages (from urllib3[secure,socks]~=1.26->selenium) (2020.12.5)\n",
      "Requirement already satisfied: cryptography>=1.3.4 in c:\\users\\visual singh\\anaconda3\\lib\\site-packages (from urllib3[secure,socks]~=1.26->selenium) (3.4.7)\n",
      "Requirement already satisfied: pyOpenSSL>=0.14 in c:\\users\\visual singh\\anaconda3\\lib\\site-packages (from urllib3[secure,socks]~=1.26->selenium) (20.0.1)\n",
      "Requirement already satisfied: PySocks!=1.5.7,<2.0,>=1.5.6 in c:\\users\\visual singh\\anaconda3\\lib\\site-packages (from urllib3[secure,socks]~=1.26->selenium) (1.7.1)\n",
      "Requirement already satisfied: six>=1.5.2 in c:\\users\\visual singh\\anaconda3\\lib\\site-packages (from pyOpenSSL>=0.14->urllib3[secure,socks]~=1.26->selenium) (1.15.0)\n",
      "Requirement already satisfied: h11<1,>=0.9.0 in c:\\users\\visual singh\\anaconda3\\lib\\site-packages (from wsproto>=0.14->trio-websocket~=0.9->selenium) (0.13.0)\n"
     ]
    }
   ],
   "source": [
    "!pip install selenium"
   ]
  },
  {
   "cell_type": "code",
   "execution_count": 2,
   "id": "c9889be3",
   "metadata": {},
   "outputs": [],
   "source": [
    "# importing libraries \n",
    "import selenium\n",
    "import pandas as pd\n",
    "import time\n",
    "\n",
    "from bs4 import BeautifulSoup\n",
    "from selenium import webdriver\n",
    "# importing exception \n",
    "from selenium.common.exceptions import StaleElementReferenceException,NoSuchElementException\n",
    "\n",
    "#importinf requests\n",
    "import requests\n",
    "\n",
    "#importing regex\n",
    "import re\n",
    "from selenium.webdriver.common.by import By\n",
    "import time "
   ]
  },
  {
   "cell_type": "code",
   "execution_count": 3,
   "id": "4b7321f4",
   "metadata": {},
   "outputs": [
    {
     "name": "stderr",
     "output_type": "stream",
     "text": [
      "<ipython-input-3-a187054f8675>:1: DeprecationWarning: executable_path has been deprecated, please pass in a Service object\n",
      "  driver=webdriver.Chrome(r\"C:\\Users\\Visual singh\\Downloads\\chromedriver_win32\\chromedriver.exe\")\n"
     ]
    }
   ],
   "source": [
    "driver=webdriver.Chrome(r\"C:\\Users\\Visual singh\\Downloads\\chromedriver_win32\\chromedriver.exe\")"
   ]
  },
  {
   "cell_type": "code",
   "execution_count": 4,
   "id": "e96078b1",
   "metadata": {},
   "outputs": [],
   "source": [
    "driver.get('http://www.bcci.tv/')"
   ]
  },
  {
   "cell_type": "code",
   "execution_count": 5,
   "id": "a0902d76",
   "metadata": {},
   "outputs": [],
   "source": [
    "Match_title=[]\n",
    "title = driver.find_elements(By.XPATH,'//span[@class=\"matchOrderText ng-binding ng-scope\"]')\n",
    "\n",
    "for i in title:\n",
    "\n",
    "    Match_title.append(i.text.split('-')[0])#//span[@class=\"matchOrderText ng-binding ng-scope\"]\n",
    "    next_button=driver.find_elements(By.XPATH,'//*[@id=\"fixture-slider\"]/button[2]')"
   ]
  },
  {
   "cell_type": "code",
   "execution_count": 6,
   "id": "2548757b",
   "metadata": {},
   "outputs": [
    {
     "data": {
      "text/plain": [
       "['1st ODI ',\n",
       " '2nd ODI ',\n",
       " '3rd ODI ',\n",
       " '1st T20I ',\n",
       " '2nd T20I ',\n",
       " '',\n",
       " '',\n",
       " '',\n",
       " '',\n",
       " '',\n",
       " '',\n",
       " '',\n",
       " '',\n",
       " '']"
      ]
     },
     "execution_count": 6,
     "metadata": {},
     "output_type": "execute_result"
    }
   ],
   "source": [
    "Match_title"
   ]
  },
  {
   "cell_type": "code",
   "execution_count": 7,
   "id": "5404bb2c",
   "metadata": {},
   "outputs": [],
   "source": [
    "Series=[]\n",
    "\n",
    "series = driver.find_elements(By.XPATH,'//span[@class=\"ng-binding\"]')\n",
    "\n",
    "for i in series:\n",
    "\n",
    "    Series.append(i.text)"
   ]
  },
  {
   "cell_type": "code",
   "execution_count": 8,
   "id": "ed67b50a",
   "metadata": {},
   "outputs": [
    {
     "data": {
      "text/plain": [
       "['INDIA TOUR OF ZIMBABWE ODI SERIES 2022',\n",
       " 'INDIA TOUR OF ZIMBABWE ODI SERIES 2022',\n",
       " 'INDIA TOUR OF ZIMBABWE ODI SERIES 2022',\n",
       " 'ASIA CUP 2022',\n",
       " 'ASIA CUP 2022',\n",
       " '',\n",
       " '',\n",
       " '',\n",
       " '',\n",
       " '',\n",
       " '',\n",
       " '',\n",
       " '',\n",
       " '']"
      ]
     },
     "execution_count": 8,
     "metadata": {},
     "output_type": "execute_result"
    }
   ],
   "source": [
    "Series"
   ]
  },
  {
   "cell_type": "code",
   "execution_count": 9,
   "id": "6925d23f",
   "metadata": {},
   "outputs": [],
   "source": [
    "Matches=[]\n",
    "\n",
    "matche=driver.find_elements(By.XPATH,'//div[@class=\"match-mid-info d-flex justify-content-between\"]')\n",
    "\n",
    "for i in matche:\n",
    "\n",
    "       Matches.append(i.text.split()[0:8])"
   ]
  },
  {
   "cell_type": "code",
   "execution_count": 10,
   "id": "59e99443",
   "metadata": {},
   "outputs": [
    {
     "data": {
      "text/plain": [
       "[['Zimbabwe', 'vs', 'India'],\n",
       " ['Zimbabwe', 'vs', 'India'],\n",
       " ['Zimbabwe', 'vs', 'India'],\n",
       " ['India', 'vs', 'Pakistan'],\n",
       " ['India', 'vs'],\n",
       " [],\n",
       " [],\n",
       " [],\n",
       " [],\n",
       " [],\n",
       " [],\n",
       " [],\n",
       " [],\n",
       " []]"
      ]
     },
     "execution_count": 10,
     "metadata": {},
     "output_type": "execute_result"
    }
   ],
   "source": [
    "Matches"
   ]
  },
  {
   "cell_type": "code",
   "execution_count": 11,
   "id": "3f6a409f",
   "metadata": {},
   "outputs": [],
   "source": [
    "Places=[]\n",
    "\n",
    "Place=driver.find_elements(By.XPATH,'//span[@class=\"ng-binding ng-scope\"]')\n",
    "\n",
    "for i in Place:\n",
    "\n",
    "       Places.append(i.text)"
   ]
  },
  {
   "cell_type": "code",
   "execution_count": 12,
   "id": "2ea74cc0",
   "metadata": {},
   "outputs": [
    {
     "data": {
      "text/plain": [
       "['Harare Sports Club,',\n",
       " 'Harare Sports Club,',\n",
       " 'Harare Sports Club,',\n",
       " 'Dubai International Cricket Stadium,',\n",
       " 'Dubai International Cricket Stadium,',\n",
       " '',\n",
       " '',\n",
       " '',\n",
       " '',\n",
       " '',\n",
       " '',\n",
       " '',\n",
       " '',\n",
       " '']"
      ]
     },
     "execution_count": 12,
     "metadata": {},
     "output_type": "execute_result"
    }
   ],
   "source": [
    "Places"
   ]
  },
  {
   "cell_type": "code",
   "execution_count": 13,
   "id": "d88ffd13",
   "metadata": {},
   "outputs": [],
   "source": [
    "Dates=[]\n",
    "\n",
    "Date=driver.find_elements(By.XPATH,'//h5[@class=\"ng-binding\"]')\n",
    "\n",
    "for i in Date:\n",
    "\n",
    "       Dates.append(i.text)"
   ]
  },
  {
   "cell_type": "code",
   "execution_count": 14,
   "id": "ac6d59f2",
   "metadata": {},
   "outputs": [
    {
     "data": {
      "text/plain": [
       "['18 AUG 2022',\n",
       " '20 AUG 2022',\n",
       " '22 AUG 2022',\n",
       " '28 AUG 2022',\n",
       " '31 AUG 2022',\n",
       " '',\n",
       " '',\n",
       " '',\n",
       " '',\n",
       " '',\n",
       " '',\n",
       " '',\n",
       " '',\n",
       " '']"
      ]
     },
     "execution_count": 14,
     "metadata": {},
     "output_type": "execute_result"
    }
   ],
   "source": [
    "Dates"
   ]
  },
  {
   "cell_type": "code",
   "execution_count": 15,
   "id": "b7452abe",
   "metadata": {},
   "outputs": [],
   "source": [
    "Timing=[]\n",
    "\n",
    "Timings=driver.find_elements(By.XPATH,'//h5[@class=\"match-time ng-binding\"]')\n",
    "\n",
    "for i in Timings:\n",
    "\n",
    "       Timing.append(i.text)"
   ]
  },
  {
   "cell_type": "code",
   "execution_count": 16,
   "id": "940f9cf9",
   "metadata": {},
   "outputs": [
    {
     "data": {
      "text/plain": [
       "['12:45 PM IST',\n",
       " '12:45 PM IST',\n",
       " '12:45 PM IST',\n",
       " '7:30 PM IST',\n",
       " '',\n",
       " '',\n",
       " '',\n",
       " '',\n",
       " '',\n",
       " '',\n",
       " '',\n",
       " '',\n",
       " '',\n",
       " '']"
      ]
     },
     "execution_count": 16,
     "metadata": {},
     "output_type": "execute_result"
    }
   ],
   "source": [
    "Timing"
   ]
  },
  {
   "cell_type": "code",
   "execution_count": 17,
   "id": "2f8edfd1",
   "metadata": {},
   "outputs": [
    {
     "name": "stdout",
     "output_type": "stream",
     "text": [
      "14 14 14 14 14 14\n"
     ]
    }
   ],
   "source": [
    "print(len(Match_title),len(Series),len(Matches),len(Places),len(Dates),len(Timing))"
   ]
  },
  {
   "cell_type": "code",
   "execution_count": 18,
   "id": "5c7ef9cc",
   "metadata": {},
   "outputs": [],
   "source": [
    "India_Tour = pd.DataFrame({\"Match_title\":Match_title,\"Series\":Series,\"Matches\":Matches,\"Places\":Places, \"Dates\":Dates,\"Timing\":Timing})"
   ]
  },
  {
   "cell_type": "code",
   "execution_count": 19,
   "id": "2b2bc4b9",
   "metadata": {},
   "outputs": [
    {
     "data": {
      "text/html": [
       "<div>\n",
       "<style scoped>\n",
       "    .dataframe tbody tr th:only-of-type {\n",
       "        vertical-align: middle;\n",
       "    }\n",
       "\n",
       "    .dataframe tbody tr th {\n",
       "        vertical-align: top;\n",
       "    }\n",
       "\n",
       "    .dataframe thead th {\n",
       "        text-align: right;\n",
       "    }\n",
       "</style>\n",
       "<table border=\"1\" class=\"dataframe\">\n",
       "  <thead>\n",
       "    <tr style=\"text-align: right;\">\n",
       "      <th></th>\n",
       "      <th>Match_title</th>\n",
       "      <th>Series</th>\n",
       "      <th>Matches</th>\n",
       "      <th>Places</th>\n",
       "      <th>Dates</th>\n",
       "      <th>Timing</th>\n",
       "    </tr>\n",
       "  </thead>\n",
       "  <tbody>\n",
       "    <tr>\n",
       "      <th>0</th>\n",
       "      <td>1st ODI</td>\n",
       "      <td>INDIA TOUR OF ZIMBABWE ODI SERIES 2022</td>\n",
       "      <td>[Zimbabwe, vs, India]</td>\n",
       "      <td>Harare Sports Club,</td>\n",
       "      <td>18 AUG 2022</td>\n",
       "      <td>12:45 PM IST</td>\n",
       "    </tr>\n",
       "    <tr>\n",
       "      <th>1</th>\n",
       "      <td>2nd ODI</td>\n",
       "      <td>INDIA TOUR OF ZIMBABWE ODI SERIES 2022</td>\n",
       "      <td>[Zimbabwe, vs, India]</td>\n",
       "      <td>Harare Sports Club,</td>\n",
       "      <td>20 AUG 2022</td>\n",
       "      <td>12:45 PM IST</td>\n",
       "    </tr>\n",
       "    <tr>\n",
       "      <th>2</th>\n",
       "      <td>3rd ODI</td>\n",
       "      <td>INDIA TOUR OF ZIMBABWE ODI SERIES 2022</td>\n",
       "      <td>[Zimbabwe, vs, India]</td>\n",
       "      <td>Harare Sports Club,</td>\n",
       "      <td>22 AUG 2022</td>\n",
       "      <td>12:45 PM IST</td>\n",
       "    </tr>\n",
       "    <tr>\n",
       "      <th>3</th>\n",
       "      <td>1st T20I</td>\n",
       "      <td>ASIA CUP 2022</td>\n",
       "      <td>[India, vs, Pakistan]</td>\n",
       "      <td>Dubai International Cricket Stadium,</td>\n",
       "      <td>28 AUG 2022</td>\n",
       "      <td>7:30 PM IST</td>\n",
       "    </tr>\n",
       "    <tr>\n",
       "      <th>4</th>\n",
       "      <td>2nd T20I</td>\n",
       "      <td>ASIA CUP 2022</td>\n",
       "      <td>[India, vs]</td>\n",
       "      <td>Dubai International Cricket Stadium,</td>\n",
       "      <td>31 AUG 2022</td>\n",
       "      <td></td>\n",
       "    </tr>\n",
       "    <tr>\n",
       "      <th>5</th>\n",
       "      <td></td>\n",
       "      <td></td>\n",
       "      <td>[]</td>\n",
       "      <td></td>\n",
       "      <td></td>\n",
       "      <td></td>\n",
       "    </tr>\n",
       "    <tr>\n",
       "      <th>6</th>\n",
       "      <td></td>\n",
       "      <td></td>\n",
       "      <td>[]</td>\n",
       "      <td></td>\n",
       "      <td></td>\n",
       "      <td></td>\n",
       "    </tr>\n",
       "    <tr>\n",
       "      <th>7</th>\n",
       "      <td></td>\n",
       "      <td></td>\n",
       "      <td>[]</td>\n",
       "      <td></td>\n",
       "      <td></td>\n",
       "      <td></td>\n",
       "    </tr>\n",
       "    <tr>\n",
       "      <th>8</th>\n",
       "      <td></td>\n",
       "      <td></td>\n",
       "      <td>[]</td>\n",
       "      <td></td>\n",
       "      <td></td>\n",
       "      <td></td>\n",
       "    </tr>\n",
       "    <tr>\n",
       "      <th>9</th>\n",
       "      <td></td>\n",
       "      <td></td>\n",
       "      <td>[]</td>\n",
       "      <td></td>\n",
       "      <td></td>\n",
       "      <td></td>\n",
       "    </tr>\n",
       "    <tr>\n",
       "      <th>10</th>\n",
       "      <td></td>\n",
       "      <td></td>\n",
       "      <td>[]</td>\n",
       "      <td></td>\n",
       "      <td></td>\n",
       "      <td></td>\n",
       "    </tr>\n",
       "    <tr>\n",
       "      <th>11</th>\n",
       "      <td></td>\n",
       "      <td></td>\n",
       "      <td>[]</td>\n",
       "      <td></td>\n",
       "      <td></td>\n",
       "      <td></td>\n",
       "    </tr>\n",
       "    <tr>\n",
       "      <th>12</th>\n",
       "      <td></td>\n",
       "      <td></td>\n",
       "      <td>[]</td>\n",
       "      <td></td>\n",
       "      <td></td>\n",
       "      <td></td>\n",
       "    </tr>\n",
       "    <tr>\n",
       "      <th>13</th>\n",
       "      <td></td>\n",
       "      <td></td>\n",
       "      <td>[]</td>\n",
       "      <td></td>\n",
       "      <td></td>\n",
       "      <td></td>\n",
       "    </tr>\n",
       "  </tbody>\n",
       "</table>\n",
       "</div>"
      ],
      "text/plain": [
       "   Match_title                                  Series                Matches  \\\n",
       "0     1st ODI   INDIA TOUR OF ZIMBABWE ODI SERIES 2022  [Zimbabwe, vs, India]   \n",
       "1     2nd ODI   INDIA TOUR OF ZIMBABWE ODI SERIES 2022  [Zimbabwe, vs, India]   \n",
       "2     3rd ODI   INDIA TOUR OF ZIMBABWE ODI SERIES 2022  [Zimbabwe, vs, India]   \n",
       "3    1st T20I                            ASIA CUP 2022  [India, vs, Pakistan]   \n",
       "4    2nd T20I                            ASIA CUP 2022            [India, vs]   \n",
       "5                                                                          []   \n",
       "6                                                                          []   \n",
       "7                                                                          []   \n",
       "8                                                                          []   \n",
       "9                                                                          []   \n",
       "10                                                                         []   \n",
       "11                                                                         []   \n",
       "12                                                                         []   \n",
       "13                                                                         []   \n",
       "\n",
       "                                  Places        Dates        Timing  \n",
       "0                    Harare Sports Club,  18 AUG 2022  12:45 PM IST  \n",
       "1                    Harare Sports Club,  20 AUG 2022  12:45 PM IST  \n",
       "2                    Harare Sports Club,  22 AUG 2022  12:45 PM IST  \n",
       "3   Dubai International Cricket Stadium,  28 AUG 2022   7:30 PM IST  \n",
       "4   Dubai International Cricket Stadium,  31 AUG 2022                \n",
       "5                                                                    \n",
       "6                                                                    \n",
       "7                                                                    \n",
       "8                                                                    \n",
       "9                                                                    \n",
       "10                                                                   \n",
       "11                                                                   \n",
       "12                                                                   \n",
       "13                                                                   "
      ]
     },
     "execution_count": 19,
     "metadata": {},
     "output_type": "execute_result"
    }
   ],
   "source": [
    "India_Tour"
   ]
  },
  {
   "cell_type": "code",
   "execution_count": 20,
   "id": "88289f6c",
   "metadata": {},
   "outputs": [],
   "source": [
    "driver.get('http://www.guru99.com/')"
   ]
  },
  {
   "cell_type": "code",
   "execution_count": 24,
   "id": "09cb13df",
   "metadata": {},
   "outputs": [],
   "source": [
    "search_input=driver.find_element(By.XPATH,\"/html/body/div[1]/div/div/div/main/div/article/div/div[1]/div[1]/div[2]/div/div[1]/div/div/div/form/table/tbody/tr/td[1]/div/table/tbody/tr/td[1]/input\")"
   ]
  },
  {
   "cell_type": "code",
   "execution_count": 25,
   "id": "3c0afd3d",
   "metadata": {},
   "outputs": [],
   "source": [
    "search_input=driver.find_element(By.XPATH,\"/html/body/div[1]/div/div/div/main/div/article/div/div[1]/div[1]/div[2]/div/div[1]/div/div/div/form/table/tbody/tr/td[1]/div/table/tbody/tr/td[1]/input\")\n",
    "search_input.send_keys(\"selenium exception\")\n",
    "search_button=driver.find_element(By.CLASS_NAME,'gsc-search-button')\n",
    "search_button.click()\n",
    "time.sleep(3)"
   ]
  },
  {
   "cell_type": "code",
   "execution_count": 32,
   "id": "af05ab0e",
   "metadata": {},
   "outputs": [],
   "source": [
    "exception=driver.find_element(By.XPATH,'/html/body/div[1]/div/div/div/main/div/article/div/div[1]/div[1]/div[2]/div/div[1]/div/div/div/div[1]/div[6]/div[2]/div/div/div[1]/div[1]/div[1]/div[1]/div')\n",
    "exception.click()"
   ]
  },
  {
   "cell_type": "code",
   "execution_count": 48,
   "id": "4c4b11b1",
   "metadata": {},
   "outputs": [],
   "source": [
    "Exception=[]\n",
    "Name=driver.find_elements(By.XPATH,'//*[@id=\"post-1953\"]/div/div/table/tbody/tr[2]/td[2]')\n",
    "\n",
    "for i in Name:\n",
    "\n",
    "       Exception.append(i.text)"
   ]
  },
  {
   "cell_type": "code",
   "execution_count": 49,
   "id": "258966fb",
   "metadata": {},
   "outputs": [
    {
     "data": {
      "text/plain": [
       "[]"
      ]
     },
     "execution_count": 49,
     "metadata": {},
     "output_type": "execute_result"
    }
   ],
   "source": [
    "Exception"
   ]
  },
  {
   "cell_type": "code",
   "execution_count": null,
   "id": "b0f7fab8",
   "metadata": {},
   "outputs": [],
   "source": [
    "Description=[]\n",
    "About=driver.find_elements(By.XPATH,'//*[@id=\"post-1953\"]/div/div/table/tbody/tr[2]/td[2]')\n",
    "\n",
    "for i in About:\n",
    "\n",
    "       Description.append(i.text)"
   ]
  },
  {
   "cell_type": "code",
   "execution_count": null,
   "id": "bbfd5e8b",
   "metadata": {},
   "outputs": [],
   "source": [
    "Description"
   ]
  },
  {
   "cell_type": "code",
   "execution_count": null,
   "id": "b02a0d80",
   "metadata": {},
   "outputs": [],
   "source": [
    "Dates=[]\n",
    "\n",
    "Date=driver.find_elements(By.XPATH,'//h5[@class=\"ng-binding\"]')\n",
    "\n",
    "for i in Date:\n",
    "\n",
    "       Dates.append(i.text)"
   ]
  },
  {
   "cell_type": "code",
   "execution_count": 50,
   "id": "cb46b23f",
   "metadata": {},
   "outputs": [],
   "source": [
    "driver.get('http://statisticstimes.com/')"
   ]
  },
  {
   "cell_type": "code",
   "execution_count": 54,
   "id": "9c3bac62",
   "metadata": {},
   "outputs": [],
   "source": [
    "search_input=driver.find_element(By.XPATH,\"/html/body/div[2]/div[1]/div[2]/div[2]\")"
   ]
  },
  {
   "cell_type": "code",
   "execution_count": null,
   "id": "4aa28465",
   "metadata": {},
   "outputs": [],
   "source": [
    "/html/body/div[2]/div[1]/div[2]/div[2]/div/a[3]"
   ]
  },
  {
   "cell_type": "code",
   "execution_count": 55,
   "id": "5acd71e0",
   "metadata": {},
   "outputs": [
    {
     "ename": "StaleElementReferenceException",
     "evalue": "Message: stale element reference: element is not attached to the page document\n  (Session info: chrome=103.0.5060.134)\nStacktrace:\nBacktrace:\n\tOrdinal0 [0x01006463+2188387]\n\tOrdinal0 [0x00F9E461+1762401]\n\tOrdinal0 [0x00EB3D78+802168]\n\tOrdinal0 [0x00EB6754+812884]\n\tOrdinal0 [0x00EB6612+812562]\n\tOrdinal0 [0x00EB68A0+813216]\n\tOrdinal0 [0x00EE3259+995929]\n\tOrdinal0 [0x00ED8536+951606]\n\tOrdinal0 [0x00EFC7DC+1099740]\n\tOrdinal0 [0x00ED7FF4+950260]\n\tOrdinal0 [0x00EFC9F4+1100276]\n\tOrdinal0 [0x00F0CC22+1166370]\n\tOrdinal0 [0x00EFC5F6+1099254]\n\tOrdinal0 [0x00ED6BE0+945120]\n\tOrdinal0 [0x00ED7AD6+948950]\n\tGetHandleVerifier [0x012A71F2+2712546]\n\tGetHandleVerifier [0x0129886D+2652765]\n\tGetHandleVerifier [0x0109002A+520730]\n\tGetHandleVerifier [0x0108EE06+516086]\n\tOrdinal0 [0x00FA468B+1787531]\n\tOrdinal0 [0x00FA8E88+1805960]\n\tOrdinal0 [0x00FA8F75+1806197]\n\tOrdinal0 [0x00FB1DF1+1842673]\n\tBaseThreadInitThunk [0x763B6739+25]\n\tRtlGetFullPathName_UEx [0x77298FEF+1215]\n\tRtlGetFullPathName_UEx [0x77298FBD+1165]\n",
     "output_type": "error",
     "traceback": [
      "\u001b[1;31m---------------------------------------------------------------------------\u001b[0m",
      "\u001b[1;31mStaleElementReferenceException\u001b[0m            Traceback (most recent call last)",
      "\u001b[1;32m<ipython-input-55-270ca4ca9b8e>\u001b[0m in \u001b[0;36m<module>\u001b[1;34m\u001b[0m\n\u001b[0;32m      1\u001b[0m \u001b[0msearch_input\u001b[0m\u001b[1;33m=\u001b[0m\u001b[0mdriver\u001b[0m\u001b[1;33m.\u001b[0m\u001b[0mfind_element\u001b[0m\u001b[1;33m(\u001b[0m\u001b[0mBy\u001b[0m\u001b[1;33m.\u001b[0m\u001b[0mXPATH\u001b[0m\u001b[1;33m,\u001b[0m\u001b[1;34m\"/html/body/div[2]/div[1]/div[2]/div[2]\"\u001b[0m\u001b[1;33m)\u001b[0m\u001b[1;33m\u001b[0m\u001b[1;33m\u001b[0m\u001b[0m\n\u001b[0;32m      2\u001b[0m \u001b[0msearch_input\u001b[0m\u001b[1;33m=\u001b[0m\u001b[0mdriver\u001b[0m\u001b[1;33m.\u001b[0m\u001b[0mfind_element\u001b[0m\u001b[1;33m(\u001b[0m\u001b[0mBy\u001b[0m\u001b[1;33m.\u001b[0m\u001b[0mXPATH\u001b[0m\u001b[1;33m,\u001b[0m\u001b[1;34m\"/html/body/div[2]/div[1]/div[2]/div[2]/div/a[3]\"\u001b[0m\u001b[1;33m)\u001b[0m\u001b[1;33m\u001b[0m\u001b[1;33m\u001b[0m\u001b[0m\n\u001b[1;32m----> 3\u001b[1;33m \u001b[0msearch_button\u001b[0m\u001b[1;33m.\u001b[0m\u001b[0mclick\u001b[0m\u001b[1;33m(\u001b[0m\u001b[1;33m)\u001b[0m\u001b[1;33m\u001b[0m\u001b[1;33m\u001b[0m\u001b[0m\n\u001b[0m\u001b[0;32m      4\u001b[0m \u001b[0mtime\u001b[0m\u001b[1;33m.\u001b[0m\u001b[0msleep\u001b[0m\u001b[1;33m(\u001b[0m\u001b[1;36m3\u001b[0m\u001b[1;33m)\u001b[0m\u001b[1;33m\u001b[0m\u001b[1;33m\u001b[0m\u001b[0m\n",
      "\u001b[1;32m~\\anaconda3\\lib\\site-packages\\selenium\\webdriver\\remote\\webelement.py\u001b[0m in \u001b[0;36mclick\u001b[1;34m(self)\u001b[0m\n\u001b[0;32m     79\u001b[0m     \u001b[1;32mdef\u001b[0m \u001b[0mclick\u001b[0m\u001b[1;33m(\u001b[0m\u001b[0mself\u001b[0m\u001b[1;33m)\u001b[0m \u001b[1;33m->\u001b[0m \u001b[1;32mNone\u001b[0m\u001b[1;33m:\u001b[0m\u001b[1;33m\u001b[0m\u001b[1;33m\u001b[0m\u001b[0m\n\u001b[0;32m     80\u001b[0m         \u001b[1;34m\"\"\"Clicks the element.\"\"\"\u001b[0m\u001b[1;33m\u001b[0m\u001b[1;33m\u001b[0m\u001b[0m\n\u001b[1;32m---> 81\u001b[1;33m         \u001b[0mself\u001b[0m\u001b[1;33m.\u001b[0m\u001b[0m_execute\u001b[0m\u001b[1;33m(\u001b[0m\u001b[0mCommand\u001b[0m\u001b[1;33m.\u001b[0m\u001b[0mCLICK_ELEMENT\u001b[0m\u001b[1;33m)\u001b[0m\u001b[1;33m\u001b[0m\u001b[1;33m\u001b[0m\u001b[0m\n\u001b[0m\u001b[0;32m     82\u001b[0m \u001b[1;33m\u001b[0m\u001b[0m\n\u001b[0;32m     83\u001b[0m     \u001b[1;32mdef\u001b[0m \u001b[0msubmit\u001b[0m\u001b[1;33m(\u001b[0m\u001b[0mself\u001b[0m\u001b[1;33m)\u001b[0m\u001b[1;33m:\u001b[0m\u001b[1;33m\u001b[0m\u001b[1;33m\u001b[0m\u001b[0m\n",
      "\u001b[1;32m~\\anaconda3\\lib\\site-packages\\selenium\\webdriver\\remote\\webelement.py\u001b[0m in \u001b[0;36m_execute\u001b[1;34m(self, command, params)\u001b[0m\n\u001b[0;32m    708\u001b[0m             \u001b[0mparams\u001b[0m \u001b[1;33m=\u001b[0m \u001b[1;33m{\u001b[0m\u001b[1;33m}\u001b[0m\u001b[1;33m\u001b[0m\u001b[1;33m\u001b[0m\u001b[0m\n\u001b[0;32m    709\u001b[0m         \u001b[0mparams\u001b[0m\u001b[1;33m[\u001b[0m\u001b[1;34m'id'\u001b[0m\u001b[1;33m]\u001b[0m \u001b[1;33m=\u001b[0m \u001b[0mself\u001b[0m\u001b[1;33m.\u001b[0m\u001b[0m_id\u001b[0m\u001b[1;33m\u001b[0m\u001b[1;33m\u001b[0m\u001b[0m\n\u001b[1;32m--> 710\u001b[1;33m         \u001b[1;32mreturn\u001b[0m \u001b[0mself\u001b[0m\u001b[1;33m.\u001b[0m\u001b[0m_parent\u001b[0m\u001b[1;33m.\u001b[0m\u001b[0mexecute\u001b[0m\u001b[1;33m(\u001b[0m\u001b[0mcommand\u001b[0m\u001b[1;33m,\u001b[0m \u001b[0mparams\u001b[0m\u001b[1;33m)\u001b[0m\u001b[1;33m\u001b[0m\u001b[1;33m\u001b[0m\u001b[0m\n\u001b[0m\u001b[0;32m    711\u001b[0m \u001b[1;33m\u001b[0m\u001b[0m\n\u001b[0;32m    712\u001b[0m     \u001b[1;32mdef\u001b[0m \u001b[0mfind_element\u001b[0m\u001b[1;33m(\u001b[0m\u001b[0mself\u001b[0m\u001b[1;33m,\u001b[0m \u001b[0mby\u001b[0m\u001b[1;33m=\u001b[0m\u001b[0mBy\u001b[0m\u001b[1;33m.\u001b[0m\u001b[0mID\u001b[0m\u001b[1;33m,\u001b[0m \u001b[0mvalue\u001b[0m\u001b[1;33m=\u001b[0m\u001b[1;32mNone\u001b[0m\u001b[1;33m)\u001b[0m\u001b[1;33m:\u001b[0m\u001b[1;33m\u001b[0m\u001b[1;33m\u001b[0m\u001b[0m\n",
      "\u001b[1;32m~\\anaconda3\\lib\\site-packages\\selenium\\webdriver\\remote\\webdriver.py\u001b[0m in \u001b[0;36mexecute\u001b[1;34m(self, driver_command, params)\u001b[0m\n\u001b[0;32m    423\u001b[0m         \u001b[0mresponse\u001b[0m \u001b[1;33m=\u001b[0m \u001b[0mself\u001b[0m\u001b[1;33m.\u001b[0m\u001b[0mcommand_executor\u001b[0m\u001b[1;33m.\u001b[0m\u001b[0mexecute\u001b[0m\u001b[1;33m(\u001b[0m\u001b[0mdriver_command\u001b[0m\u001b[1;33m,\u001b[0m \u001b[0mparams\u001b[0m\u001b[1;33m)\u001b[0m\u001b[1;33m\u001b[0m\u001b[1;33m\u001b[0m\u001b[0m\n\u001b[0;32m    424\u001b[0m         \u001b[1;32mif\u001b[0m \u001b[0mresponse\u001b[0m\u001b[1;33m:\u001b[0m\u001b[1;33m\u001b[0m\u001b[1;33m\u001b[0m\u001b[0m\n\u001b[1;32m--> 425\u001b[1;33m             \u001b[0mself\u001b[0m\u001b[1;33m.\u001b[0m\u001b[0merror_handler\u001b[0m\u001b[1;33m.\u001b[0m\u001b[0mcheck_response\u001b[0m\u001b[1;33m(\u001b[0m\u001b[0mresponse\u001b[0m\u001b[1;33m)\u001b[0m\u001b[1;33m\u001b[0m\u001b[1;33m\u001b[0m\u001b[0m\n\u001b[0m\u001b[0;32m    426\u001b[0m             response['value'] = self._unwrap_value(\n\u001b[0;32m    427\u001b[0m                 response.get('value', None))\n",
      "\u001b[1;32m~\\anaconda3\\lib\\site-packages\\selenium\\webdriver\\remote\\errorhandler.py\u001b[0m in \u001b[0;36mcheck_response\u001b[1;34m(self, response)\u001b[0m\n\u001b[0;32m    245\u001b[0m                 \u001b[0malert_text\u001b[0m \u001b[1;33m=\u001b[0m \u001b[0mvalue\u001b[0m\u001b[1;33m[\u001b[0m\u001b[1;34m'alert'\u001b[0m\u001b[1;33m]\u001b[0m\u001b[1;33m.\u001b[0m\u001b[0mget\u001b[0m\u001b[1;33m(\u001b[0m\u001b[1;34m'text'\u001b[0m\u001b[1;33m)\u001b[0m\u001b[1;33m\u001b[0m\u001b[1;33m\u001b[0m\u001b[0m\n\u001b[0;32m    246\u001b[0m             \u001b[1;32mraise\u001b[0m \u001b[0mexception_class\u001b[0m\u001b[1;33m(\u001b[0m\u001b[0mmessage\u001b[0m\u001b[1;33m,\u001b[0m \u001b[0mscreen\u001b[0m\u001b[1;33m,\u001b[0m \u001b[0mstacktrace\u001b[0m\u001b[1;33m,\u001b[0m \u001b[0malert_text\u001b[0m\u001b[1;33m)\u001b[0m  \u001b[1;31m# type: ignore[call-arg]  # mypy is not smart enough here\u001b[0m\u001b[1;33m\u001b[0m\u001b[1;33m\u001b[0m\u001b[0m\n\u001b[1;32m--> 247\u001b[1;33m         \u001b[1;32mraise\u001b[0m \u001b[0mexception_class\u001b[0m\u001b[1;33m(\u001b[0m\u001b[0mmessage\u001b[0m\u001b[1;33m,\u001b[0m \u001b[0mscreen\u001b[0m\u001b[1;33m,\u001b[0m \u001b[0mstacktrace\u001b[0m\u001b[1;33m)\u001b[0m\u001b[1;33m\u001b[0m\u001b[1;33m\u001b[0m\u001b[0m\n\u001b[0m\u001b[0;32m    248\u001b[0m \u001b[1;33m\u001b[0m\u001b[0m\n\u001b[0;32m    249\u001b[0m     \u001b[1;32mdef\u001b[0m \u001b[0m_value_or_default\u001b[0m\u001b[1;33m(\u001b[0m\u001b[0mself\u001b[0m\u001b[1;33m,\u001b[0m \u001b[0mobj\u001b[0m\u001b[1;33m:\u001b[0m \u001b[0mMapping\u001b[0m\u001b[1;33m[\u001b[0m\u001b[0m_KT\u001b[0m\u001b[1;33m,\u001b[0m \u001b[0m_VT\u001b[0m\u001b[1;33m]\u001b[0m\u001b[1;33m,\u001b[0m \u001b[0mkey\u001b[0m\u001b[1;33m:\u001b[0m \u001b[0m_KT\u001b[0m\u001b[1;33m,\u001b[0m \u001b[0mdefault\u001b[0m\u001b[1;33m:\u001b[0m \u001b[0m_VT\u001b[0m\u001b[1;33m)\u001b[0m \u001b[1;33m->\u001b[0m \u001b[0m_VT\u001b[0m\u001b[1;33m:\u001b[0m\u001b[1;33m\u001b[0m\u001b[1;33m\u001b[0m\u001b[0m\n",
      "\u001b[1;31mStaleElementReferenceException\u001b[0m: Message: stale element reference: element is not attached to the page document\n  (Session info: chrome=103.0.5060.134)\nStacktrace:\nBacktrace:\n\tOrdinal0 [0x01006463+2188387]\n\tOrdinal0 [0x00F9E461+1762401]\n\tOrdinal0 [0x00EB3D78+802168]\n\tOrdinal0 [0x00EB6754+812884]\n\tOrdinal0 [0x00EB6612+812562]\n\tOrdinal0 [0x00EB68A0+813216]\n\tOrdinal0 [0x00EE3259+995929]\n\tOrdinal0 [0x00ED8536+951606]\n\tOrdinal0 [0x00EFC7DC+1099740]\n\tOrdinal0 [0x00ED7FF4+950260]\n\tOrdinal0 [0x00EFC9F4+1100276]\n\tOrdinal0 [0x00F0CC22+1166370]\n\tOrdinal0 [0x00EFC5F6+1099254]\n\tOrdinal0 [0x00ED6BE0+945120]\n\tOrdinal0 [0x00ED7AD6+948950]\n\tGetHandleVerifier [0x012A71F2+2712546]\n\tGetHandleVerifier [0x0129886D+2652765]\n\tGetHandleVerifier [0x0109002A+520730]\n\tGetHandleVerifier [0x0108EE06+516086]\n\tOrdinal0 [0x00FA468B+1787531]\n\tOrdinal0 [0x00FA8E88+1805960]\n\tOrdinal0 [0x00FA8F75+1806197]\n\tOrdinal0 [0x00FB1DF1+1842673]\n\tBaseThreadInitThunk [0x763B6739+25]\n\tRtlGetFullPathName_UEx [0x77298FEF+1215]\n\tRtlGetFullPathName_UEx [0x77298FBD+1165]\n"
     ]
    }
   ],
   "source": [
    "search_input=driver.find_element(By.XPATH,\"/html/body/div[2]/div[1]/div[2]/div[2]\")\n",
    "search_input=driver.find_element(By.XPATH,\"/html/body/div[2]/div[1]/div[2]/div[2]/div/a[3]\")\n",
    "search_button.click()\n",
    "time.sleep(3)"
   ]
  },
  {
   "cell_type": "code",
   "execution_count": 56,
   "id": "6beb196c",
   "metadata": {},
   "outputs": [],
   "source": [
    "driver.get('https://github.com/')"
   ]
  },
  {
   "cell_type": "code",
   "execution_count": null,
   "id": "f4a747a3",
   "metadata": {},
   "outputs": [],
   "source": [
    "search_input=driver.find_element(By.XPATH,\"/html/body/div[1]/header/div/div[2]/div[2]/div[1]/div/div\")\n",
    "search_input.send_keys(\"selenium exception\")\n",
    "search_button=driver.find_element(By.CLASS_NAME,'gsc-search-button')\n",
    "search_button.click()\n",
    "time.sleep(3)"
   ]
  },
  {
   "cell_type": "code",
   "execution_count": null,
   "id": "51dd581e",
   "metadata": {},
   "outputs": [],
   "source": [
    "driver.get('http://statisticstimes.com/')"
   ]
  },
  {
   "cell_type": "code",
   "execution_count": null,
   "id": "58163f67",
   "metadata": {},
   "outputs": [],
   "source": [
    "search_input=driver.find_element(By.XPATH,\"/html/body/div[1]/div/div/div/main/div/article/div/div[1]/div[1]/div[2]/div/div[1]/div/div/div/form/table/tbody/tr/td[1]/div/table/tbody/tr/td[1]/input\")\n",
    "search_input.send_keys(\"trending repositories\")\n",
    "search_button=driver.find_element(By.CLASS_NAME,'gsc-search-button')\n",
    "search_button.click()\n",
    "time.sleep(3)"
   ]
  },
  {
   "cell_type": "code",
   "execution_count": 50,
   "id": "2fefee2c",
   "metadata": {},
   "outputs": [],
   "source": [
    "driver.get('http://statisticstimes.com/')"
   ]
  },
  {
   "cell_type": "code",
   "execution_count": null,
   "id": "12e94792",
   "metadata": {},
   "outputs": [],
   "source": [
    "search_input=driver.find_element(By.XPATH,\"/html/body/div[1]/div/div/div/main/div/article/div/div[1]/div[1]/div[2]/div/div[1]/div/div/div/form/table/tbody/tr/td[1]/div/table/tbody/tr/td[1]/input\")\n",
    "search_input.send_keys(\"selenium exception\")\n",
    "search_button=driver.find_element(By.CLASS_NAME,'gsc-search-button')\n",
    "search_button.click()\n",
    "time.sleep(3)"
   ]
  },
  {
   "cell_type": "code",
   "execution_count": null,
   "id": "3e46d81d",
   "metadata": {},
   "outputs": [],
   "source": []
  },
  {
   "cell_type": "code",
   "execution_count": null,
   "id": "9df8d0cf",
   "metadata": {},
   "outputs": [],
   "source": []
  },
  {
   "cell_type": "code",
   "execution_count": null,
   "id": "dc814b2b",
   "metadata": {},
   "outputs": [],
   "source": []
  },
  {
   "cell_type": "code",
   "execution_count": null,
   "id": "c59a0674",
   "metadata": {},
   "outputs": [],
   "source": []
  }
 ],
 "metadata": {
  "kernelspec": {
   "display_name": "Python 3",
   "language": "python",
   "name": "python3"
  },
  "language_info": {
   "codemirror_mode": {
    "name": "ipython",
    "version": 3
   },
   "file_extension": ".py",
   "mimetype": "text/x-python",
   "name": "python",
   "nbconvert_exporter": "python",
   "pygments_lexer": "ipython3",
   "version": "3.8.8"
  }
 },
 "nbformat": 4,
 "nbformat_minor": 5
}
