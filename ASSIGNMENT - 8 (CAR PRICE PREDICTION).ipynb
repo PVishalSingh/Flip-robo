{
 "cells": [
  {
   "cell_type": "code",
   "execution_count": 1,
   "id": "cab44249",
   "metadata": {},
   "outputs": [
    {
     "name": "stdout",
     "output_type": "stream",
     "text": [
      "Requirement already satisfied: selenium in c:\\users\\visual singh\\anaconda3\\lib\\site-packages (4.1.3)\n",
      "Requirement already satisfied: trio~=0.17 in c:\\users\\visual singh\\anaconda3\\lib\\site-packages (from selenium) (0.20.0)\n",
      "Requirement already satisfied: trio-websocket~=0.9 in c:\\users\\visual singh\\anaconda3\\lib\\site-packages (from selenium) (0.9.2)\n",
      "Requirement already satisfied: urllib3[secure,socks]~=1.26 in c:\\users\\visual singh\\anaconda3\\lib\\site-packages (from selenium) (1.26.4)\n",
      "Requirement already satisfied: idna in c:\\users\\visual singh\\anaconda3\\lib\\site-packages (from trio~=0.17->selenium) (2.10)\n",
      "Requirement already satisfied: async-generator>=1.9 in c:\\users\\visual singh\\anaconda3\\lib\\site-packages (from trio~=0.17->selenium) (1.10)\n",
      "Requirement already satisfied: attrs>=19.2.0 in c:\\users\\visual singh\\anaconda3\\lib\\site-packages (from trio~=0.17->selenium) (20.3.0)\n",
      "Requirement already satisfied: sortedcontainers in c:\\users\\visual singh\\anaconda3\\lib\\site-packages (from trio~=0.17->selenium) (2.3.0)\n",
      "Requirement already satisfied: cffi>=1.14 in c:\\users\\visual singh\\anaconda3\\lib\\site-packages (from trio~=0.17->selenium) (1.14.5)\n",
      "Requirement already satisfied: outcome in c:\\users\\visual singh\\anaconda3\\lib\\site-packages (from trio~=0.17->selenium) (1.1.0)\n",
      "Requirement already satisfied: sniffio in c:\\users\\visual singh\\anaconda3\\lib\\site-packages (from trio~=0.17->selenium) (1.2.0)\n",
      "Requirement already satisfied: pycparser in c:\\users\\visual singh\\anaconda3\\lib\\site-packages (from cffi>=1.14->trio~=0.17->selenium) (2.20)\n",
      "Requirement already satisfied: wsproto>=0.14 in c:\\users\\visual singh\\anaconda3\\lib\\site-packages (from trio-websocket~=0.9->selenium) (1.1.0)\n",
      "Requirement already satisfied: cryptography>=1.3.4 in c:\\users\\visual singh\\anaconda3\\lib\\site-packages (from urllib3[secure,socks]~=1.26->selenium) (3.4.7)\n",
      "Requirement already satisfied: certifi in c:\\users\\visual singh\\anaconda3\\lib\\site-packages (from urllib3[secure,socks]~=1.26->selenium) (2020.12.5)\n",
      "Requirement already satisfied: pyOpenSSL>=0.14 in c:\\users\\visual singh\\anaconda3\\lib\\site-packages (from urllib3[secure,socks]~=1.26->selenium) (20.0.1)\n",
      "Requirement already satisfied: PySocks!=1.5.7,<2.0,>=1.5.6 in c:\\users\\visual singh\\anaconda3\\lib\\site-packages (from urllib3[secure,socks]~=1.26->selenium) (1.7.1)\n",
      "Requirement already satisfied: six>=1.5.2 in c:\\users\\visual singh\\anaconda3\\lib\\site-packages (from pyOpenSSL>=0.14->urllib3[secure,socks]~=1.26->selenium) (1.15.0)\n",
      "Requirement already satisfied: h11<1,>=0.9.0 in c:\\users\\visual singh\\anaconda3\\lib\\site-packages (from wsproto>=0.14->trio-websocket~=0.9->selenium) (0.13.0)\n"
     ]
    }
   ],
   "source": [
    "!pip install selenium"
   ]
  },
  {
   "cell_type": "code",
   "execution_count": 2,
   "id": "f2d9df78",
   "metadata": {},
   "outputs": [],
   "source": [
    "# lets now import all the required libraries\n",
    "\n",
    "import selenium\n",
    "import pandas as pd\n",
    "\n",
    "from selenium import webdriver\n",
    "\n",
    "from selenium.webdriver.common.by import By\n",
    "import warnings\n",
    "warnings.filterwarnings('ignore')\n",
    "import time\n"
   ]
  },
  {
   "cell_type": "code",
   "execution_count": 3,
   "id": "eca9c41f",
   "metadata": {},
   "outputs": [],
   "source": [
    "# Lets first connect to the web driver\n",
    "\n",
    "driver=webdriver.Chrome(r\"C:\\Users\\Visual singh\\Downloads\\chromedriver_win32 (1)\\chromedriver.exe\")"
   ]
  },
  {
   "cell_type": "code",
   "execution_count": 4,
   "id": "ebaa444c",
   "metadata": {},
   "outputs": [],
   "source": [
    "url='https://www.olx.in/'\n",
    "driver.get(url)"
   ]
  },
  {
   "cell_type": "code",
   "execution_count": 5,
   "id": "df5cbc0f",
   "metadata": {},
   "outputs": [],
   "source": [
    "search_car=driver.find_element_by_xpath(\"/html/body/div[1]/div/header/div/div/div[2]/div/div/div[2]/div[1]/form/fieldset/div/input\")"
   ]
  },
  {
   "cell_type": "code",
   "execution_count": 6,
   "id": "5baef78f",
   "metadata": {},
   "outputs": [],
   "source": [
    "# finding element for job search bar\n",
    "\n",
    "car=driver.find_element_by_xpath(\"/html/body/div[1]/div/header/div/div/div[2]/div/div/div[2]/div[1]/form/fieldset/div/input\")\n",
    "car.send_keys('Cars')"
   ]
  },
  {
   "cell_type": "code",
   "execution_count": 7,
   "id": "47b7dbc2",
   "metadata": {},
   "outputs": [],
   "source": [
    "search_button=driver.find_element(By.XPATH,'/html/body/div[1]/div/header/div/div/div[2]/div/div/div[3]')\n",
    "search_button.click()\n",
    "time.sleep(3)"
   ]
  },
  {
   "cell_type": "code",
   "execution_count": 8,
   "id": "2fce6bed",
   "metadata": {},
   "outputs": [],
   "source": [
    "# fetching url to open each product name\n",
    "URL=[]\n",
    "start=0\n",
    "end=3\n",
    "\n",
    "for page in range (start,end):\n",
    "    url=driver.find_elements(By.XPATH,'//a[@class=\"a-link-normal s-underline-text s-underline-link-text s-link-style a-text-normal\"]')\n",
    "    \n",
    "    for i in url:\n",
    "     URL.append(i.get_attribute('href'))\n",
    "    \n",
    "    load_button=driver.find_elements(By.XPATH,'/html/body/div[1]/div/main/div/div/section/div/div/div[4]/div[2]/div/div[2]/ul/li[22]/div/button/span')"
   ]
  },
  {
   "cell_type": "code",
   "execution_count": 9,
   "id": "c5f8c147",
   "metadata": {},
   "outputs": [],
   "source": [
    "# Creating empty list\n",
    "\n",
    "Car=[]\n",
    "Model=[]\n",
    "Price=[]\n",
    "Fuel=[]\n",
    "Travelled=[]\n",
    "Owner=[]\n",
    "Location=[]\n",
    "Posting_date=[]\n",
    "Description=[]\n",
    "SOLD_BY=[]\n",
    "\n",
    "for url in URL[:1000]: ##loop for every guitar in the list\n",
    "    driver.get(url)\n",
    "    time.sleep(2)\n",
    "    \n",
    "    try:\n",
    "        car= driver.find_element(By.XPATH,'//*[@id=\"container\"]/main/div/div/div/div[5]/div[1]/div[2]/div/div/div[2]')\n",
    "        Car.append(car.text)\n",
    "    except NoSuchElementException:\n",
    "        Car.append('-') \n",
    "    \n",
    "    try:\n",
    "        model= driver.find_element(By.XPATH,'//*[@id=\"container\"]/main/div/div/div/div[5]/div[1]/div[2]/div/div/div[3]')\n",
    "        Model.append(model.text)\n",
    "    except NoSuchElementException:\n",
    "        Model.append('-') \n",
    "        \n",
    "    try:\n",
    "        fuel= driver.find_element(By.XPATH,'//*[@id=\"container\"]/main/div/div/div/div[5]/div[1]/div[2]/div/div/div[4]/div[1]/div')\n",
    "        Fuel.append(fuel.text)\n",
    "    except NoSuchElementException:\n",
    "        Fuel.append('-') \n",
    "        \n",
    "    try:\n",
    "        travelled= driver.find_element(By.XPATH,'//*[@id=\"container\"]/main/div/div/div/div[5]/div[1]/div[2]/div/div/div[4]/div[2]/div')\n",
    "        Travelled.append(travelled.text)\n",
    "    except NoSuchElementException:\n",
    "        Travelled.append('-')   \n",
    "\n",
    "    try:\n",
    "        owner= driver.find_element(By.XPATH,'//*[@id=\"container\"]/main/div/div/div/div[5]/div[1]/div[3]/div/div[2]/div/div[1]/div[2]/div[2]')\n",
    "        Owner.append(owner.text)\n",
    "    except NoSuchElementException:\n",
    "        Owner.append('-') \n",
    "    \n",
    "    try:\n",
    "        location= driver.find_element(By.XPATH,'//*[@id=\"container\"]/main/div/div/div/div[5]/div[1]/div[3]/div/div[2]/div/div[2]/div[2]/div[2]')\n",
    "        Location.append(location.text)\n",
    "    except NoSuchElementException:\n",
    "        Location.append('-') \n",
    "    \n",
    "    try:\n",
    "        date= driver.find_element(By.XPATH,'//*[@id=\"container\"]/main/div/div/div/div[5]/div[1]/div[3]/div/div[2]/div/div[3]/div[2]/div[2]')\n",
    "        Posting_date.append(date.text)\n",
    "    except NoSuchElementException:\n",
    "        Posting_date.append('-')     \n",
    "    \n",
    "    try:\n",
    "        description= driver.find_element(By.XPATH,'//*[@id=\"container\"]/main/div/div/div/div[6]/div[1]/div[4]/div')\n",
    "        Description.append(description.text)\n",
    "    except NoSuchElementException:\n",
    "        Description.append('-') \n",
    "   \n",
    "    try:\n",
    "        try:\n",
    "            Price.append(driver.find_element(By.XPATH,'//*[@id=\"container\"]/main/div/div/div/div[5]/div[2]/div[1]/div/div[1]').text)\n",
    "        except:\n",
    "            Price.append(driver.find_element_by_css_selector('div[class=\"_3FkyT\"]').text)             \n",
    "    except:\n",
    "        Price.append('-')\n",
    "        \n",
    "        \n",
    "    try:\n",
    "        SOLD_BY.append( driver.find_element(By.XPATH,'//*[@id=\"container\"]/main/div/div/div/div[5]/div[2]/div[2]/div[1]/div[2]').text)\n",
    "    except:\n",
    "        SOLD_BY.append('-')"
   ]
  },
  {
   "cell_type": "code",
   "execution_count": 10,
   "id": "ca8855de",
   "metadata": {},
   "outputs": [
    {
     "data": {
      "text/plain": [
       "[]"
      ]
     },
     "execution_count": 10,
     "metadata": {},
     "output_type": "execute_result"
    }
   ],
   "source": [
    "Car"
   ]
  },
  {
   "cell_type": "code",
   "execution_count": 13,
   "id": "af145bd8",
   "metadata": {},
   "outputs": [
    {
     "data": {
      "text/plain": [
       "<selenium.webdriver.remote.webelement.WebElement (session=\"01d1e4e862a4a3e58ec3139de1b7c9c4\", element=\"807e8d35-d4f8-4c97-9d48-889deaf1c091\")>"
      ]
     },
     "execution_count": 13,
     "metadata": {},
     "output_type": "execute_result"
    }
   ],
   "source": [
    "first_car=driver.find_element(By.XPATH,'/html/body/div[1]/div/main/div/div/div/div[5]/div[1]/div[2]/div/div/div[2]')\n",
    "first_car"
   ]
  },
  {
   "cell_type": "code",
   "execution_count": 14,
   "id": "e6ecc009",
   "metadata": {},
   "outputs": [
    {
     "data": {
      "text/plain": [
       "'Mahindra Scorpio (2010)'"
      ]
     },
     "execution_count": 14,
     "metadata": {},
     "output_type": "execute_result"
    }
   ],
   "source": [
    "# To show the first name as result\n",
    "\n",
    "first_car.text"
   ]
  },
  {
   "cell_type": "code",
   "execution_count": 15,
   "id": "74f63ba0",
   "metadata": {},
   "outputs": [
    {
     "data": {
      "text/plain": [
       "<selenium.webdriver.remote.webelement.WebElement (session=\"01d1e4e862a4a3e58ec3139de1b7c9c4\", element=\"cf0fcfc1-312c-4d82-9e36-a27f341f2f5f\")>"
      ]
     },
     "execution_count": 15,
     "metadata": {},
     "output_type": "execute_result"
    }
   ],
   "source": [
    "first_model=driver.find_element(By.XPATH,'/html/body/div[1]/div/main/div/div/div/div[5]/div[1]/div[2]/div/div/div[3]')\n",
    "first_model"
   ]
  },
  {
   "cell_type": "code",
   "execution_count": 16,
   "id": "af58e56e",
   "metadata": {},
   "outputs": [
    {
     "data": {
      "text/plain": [
       "'VLX BS III'"
      ]
     },
     "execution_count": 16,
     "metadata": {},
     "output_type": "execute_result"
    }
   ],
   "source": [
    "first_model.text"
   ]
  },
  {
   "cell_type": "code",
   "execution_count": 17,
   "id": "e4635f29",
   "metadata": {},
   "outputs": [
    {
     "data": {
      "text/plain": [
       "<selenium.webdriver.remote.webelement.WebElement (session=\"01d1e4e862a4a3e58ec3139de1b7c9c4\", element=\"37c28859-6055-4fd4-9777-d6c676a6c512\")>"
      ]
     },
     "execution_count": 17,
     "metadata": {},
     "output_type": "execute_result"
    }
   ],
   "source": [
    "first_price=driver.find_element(By.XPATH,'/html/body/div[1]/div/main/div/div/div/div[5]/div[2]/div[1]/div/div[1]')\n",
    "first_price"
   ]
  },
  {
   "cell_type": "code",
   "execution_count": 18,
   "id": "051b6953",
   "metadata": {},
   "outputs": [
    {
     "data": {
      "text/plain": [
       "'₹ 5,60,000'"
      ]
     },
     "execution_count": 18,
     "metadata": {},
     "output_type": "execute_result"
    }
   ],
   "source": [
    "first_price.text"
   ]
  },
  {
   "cell_type": "code",
   "execution_count": 19,
   "id": "76150303",
   "metadata": {},
   "outputs": [
    {
     "data": {
      "text/plain": [
       "<selenium.webdriver.remote.webelement.WebElement (session=\"01d1e4e862a4a3e58ec3139de1b7c9c4\", element=\"46cfb904-9be7-4e4f-b2df-1d49f3877a0f\")>"
      ]
     },
     "execution_count": 19,
     "metadata": {},
     "output_type": "execute_result"
    }
   ],
   "source": [
    "first_fuel=driver.find_element(By.XPATH,'/html/body/div[1]/div/main/div/div/div/div[5]/div[1]/div[2]/div/div/div[4]/div[1]/div')\n",
    "first_fuel"
   ]
  },
  {
   "cell_type": "code",
   "execution_count": 20,
   "id": "2790b526",
   "metadata": {},
   "outputs": [
    {
     "data": {
      "text/plain": [
       "'DIESEL'"
      ]
     },
     "execution_count": 20,
     "metadata": {},
     "output_type": "execute_result"
    }
   ],
   "source": [
    "first_fuel.text"
   ]
  },
  {
   "cell_type": "code",
   "execution_count": 21,
   "id": "ba887e15",
   "metadata": {},
   "outputs": [
    {
     "data": {
      "text/plain": [
       "<selenium.webdriver.remote.webelement.WebElement (session=\"01d1e4e862a4a3e58ec3139de1b7c9c4\", element=\"7fa37d1b-9a1d-4763-9d44-af18efad227e\")>"
      ]
     },
     "execution_count": 21,
     "metadata": {},
     "output_type": "execute_result"
    }
   ],
   "source": [
    "first_travelled=driver.find_element(By.XPATH,'/html/body/div[1]/div/main/div/div/div/div[5]/div[1]/div[2]/div/div/div[4]/div[2]/div')\n",
    "first_travelled"
   ]
  },
  {
   "cell_type": "code",
   "execution_count": 22,
   "id": "0c617f71",
   "metadata": {},
   "outputs": [
    {
     "data": {
      "text/plain": [
       "'99000.0 KM'"
      ]
     },
     "execution_count": 22,
     "metadata": {},
     "output_type": "execute_result"
    }
   ],
   "source": [
    "first_travelled.text"
   ]
  },
  {
   "cell_type": "code",
   "execution_count": 24,
   "id": "0eb568a0",
   "metadata": {},
   "outputs": [
    {
     "data": {
      "text/plain": [
       "<selenium.webdriver.remote.webelement.WebElement (session=\"01d1e4e862a4a3e58ec3139de1b7c9c4\", element=\"789aed4c-896e-4675-a06f-d8cd89811114\")>"
      ]
     },
     "execution_count": 24,
     "metadata": {},
     "output_type": "execute_result"
    }
   ],
   "source": [
    "owner=driver.find_element(By.XPATH,'/html/body/div[1]/div/main/div/div/div/div[6]/div[1]/div[3]/div/div[2]/div/div[1]/div[2]/div[2]')\n",
    "owner"
   ]
  },
  {
   "cell_type": "code",
   "execution_count": 25,
   "id": "e12c1574",
   "metadata": {},
   "outputs": [
    {
     "data": {
      "text/plain": [
       "'1st'"
      ]
     },
     "execution_count": 25,
     "metadata": {},
     "output_type": "execute_result"
    }
   ],
   "source": [
    "owner.text"
   ]
  },
  {
   "cell_type": "code",
   "execution_count": 26,
   "id": "5fcd4f46",
   "metadata": {},
   "outputs": [
    {
     "data": {
      "text/plain": [
       "<selenium.webdriver.remote.webelement.WebElement (session=\"01d1e4e862a4a3e58ec3139de1b7c9c4\", element=\"962880bc-b52a-4f7f-9e79-27d503b70097\")>"
      ]
     },
     "execution_count": 26,
     "metadata": {},
     "output_type": "execute_result"
    }
   ],
   "source": [
    "first_location=driver.find_element(By.XPATH,'/html/body/div[1]/div/main/div/div/div/div[6]/div[1]/div[3]/div/div[2]/div/div[2]/div[2]/div[2]')\n",
    "first_location"
   ]
  },
  {
   "cell_type": "code",
   "execution_count": 27,
   "id": "32024354",
   "metadata": {},
   "outputs": [
    {
     "data": {
      "text/plain": [
       "'Kiratturai, Madurai'"
      ]
     },
     "execution_count": 27,
     "metadata": {},
     "output_type": "execute_result"
    }
   ],
   "source": [
    "first_location.text"
   ]
  },
  {
   "cell_type": "code",
   "execution_count": 28,
   "id": "3f338fa7",
   "metadata": {},
   "outputs": [
    {
     "data": {
      "text/plain": [
       "<selenium.webdriver.remote.webelement.WebElement (session=\"01d1e4e862a4a3e58ec3139de1b7c9c4\", element=\"675ba21d-e06d-4ed4-8b1c-c402c81b728e\")>"
      ]
     },
     "execution_count": 28,
     "metadata": {},
     "output_type": "execute_result"
    }
   ],
   "source": [
    "first_post_date=driver.find_element(By.XPATH,'/html/body/div[1]/div/main/div/div/div/div[6]/div[1]/div[3]/div/div[2]/div/div[3]/div[2]/div[2]')\n",
    "first_post_date"
   ]
  },
  {
   "cell_type": "code",
   "execution_count": 29,
   "id": "bc6a6417",
   "metadata": {},
   "outputs": [
    {
     "data": {
      "text/plain": [
       "'06-SEP-22'"
      ]
     },
     "execution_count": 29,
     "metadata": {},
     "output_type": "execute_result"
    }
   ],
   "source": [
    "first_post_date.text"
   ]
  },
  {
   "cell_type": "code",
   "execution_count": 30,
   "id": "b3465142",
   "metadata": {},
   "outputs": [
    {
     "data": {
      "text/plain": [
       "<selenium.webdriver.remote.webelement.WebElement (session=\"01d1e4e862a4a3e58ec3139de1b7c9c4\", element=\"92eb34c8-44d2-4d84-ab37-f08083eac106\")>"
      ]
     },
     "execution_count": 30,
     "metadata": {},
     "output_type": "execute_result"
    }
   ],
   "source": [
    "first_description=driver.find_element(By.XPATH,'/html/body/div[1]/div/main/div/div/div/div[6]/div[1]/div[4]/div')\n",
    "first_description"
   ]
  },
  {
   "cell_type": "code",
   "execution_count": 31,
   "id": "926cb8a4",
   "metadata": {},
   "outputs": [
    {
     "data": {
      "text/plain": [
       "'Description\\nADDITIONAL VEHICLE INFORMATION:\\nABS: Yes\\nAccidental: No\\nAdjustable External Mirror: Power\\nAdjustable Steering: Yes\\nAir Conditioning: Automatic Climate Control\\nNumber of Airbags: 2 airbags\\nAlloy Wheels: Yes\\nBattery Condition: New\\nBluetooth: Yes\\nVehicle Certified: Yes\\nColor: White\\nInsurance Type: Comprehensive\\nLock System: Remote Controlled Central\\nMake Month: March\\nParking Sensors: Yes\\nPower steering: Yes\\nPower Windows: Front & rear\\nAM/FM Radio: Yes\\nRegistration Place: TN\\nExchange: Yes\\nFinance: Yes\\nService History: Available\\nTyre Condition: New\\nUSB Compatibility: Yes'"
      ]
     },
     "execution_count": 31,
     "metadata": {},
     "output_type": "execute_result"
    }
   ],
   "source": [
    "first_description.text"
   ]
  },
  {
   "cell_type": "code",
   "execution_count": 32,
   "id": "c04b72c2",
   "metadata": {},
   "outputs": [
    {
     "data": {
      "text/plain": [
       "<selenium.webdriver.remote.webelement.WebElement (session=\"01d1e4e862a4a3e58ec3139de1b7c9c4\", element=\"acf465fc-329e-461f-b3ab-2dac9f6bae88\")>"
      ]
     },
     "execution_count": 32,
     "metadata": {},
     "output_type": "execute_result"
    }
   ],
   "source": [
    "first_SOLD_BY=driver.find_element(By.XPATH,'/html/body/div[1]/div/main/div/div/div/div[5]/div[2]/div[2]/div[1]/div[2]/span')\n",
    "first_SOLD_BY"
   ]
  },
  {
   "cell_type": "code",
   "execution_count": 33,
   "id": "08d7d04b",
   "metadata": {},
   "outputs": [
    {
     "data": {
      "text/plain": [
       "'Mano- Cars'"
      ]
     },
     "execution_count": 33,
     "metadata": {},
     "output_type": "execute_result"
    }
   ],
   "source": [
    "first_SOLD_BY.text"
   ]
  },
  {
   "cell_type": "code",
   "execution_count": null,
   "id": "f67bd49d",
   "metadata": {},
   "outputs": [],
   "source": [
    "Cars=[]  # empty list for store\n",
    "\n",
    "for i in driver.find_element(By.XPATH,'/html/body/div[1]/div/main/div/div/div/div[6]/div[2]/div[2]/div[1]/div[2]'):\n",
    "    location.append(i.text)\n",
    "\n",
    "Cars"
   ]
  },
  {
   "cell_type": "code",
   "execution_count": null,
   "id": "86f97896",
   "metadata": {},
   "outputs": [],
   "source": [
    "Car=[]  # empty list for store\n",
    "\n",
    "for i in driver.find_all_('div',class_='restnt-loc ellipsis'):\n",
    "    location.append(i.text)\n",
    "\n",
    "location"
   ]
  }
 ],
 "metadata": {
  "kernelspec": {
   "display_name": "Python 3 (ipykernel)",
   "language": "python",
   "name": "python3"
  },
  "language_info": {
   "codemirror_mode": {
    "name": "ipython",
    "version": 3
   },
   "file_extension": ".py",
   "mimetype": "text/x-python",
   "name": "python",
   "nbconvert_exporter": "python",
   "pygments_lexer": "ipython3",
   "version": "3.9.12"
  }
 },
 "nbformat": 4,
 "nbformat_minor": 5
}
