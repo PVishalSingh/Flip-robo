{
 "cells": [
  {
   "cell_type": "code",
   "execution_count": 1,
   "id": "cab44249",
   "metadata": {},
   "outputs": [
    {
     "name": "stdout",
     "output_type": "stream",
     "text": [
      "Requirement already satisfied: selenium in c:\\users\\visual singh\\anaconda3\\lib\\site-packages (4.1.3)\n",
      "Requirement already satisfied: urllib3[secure,socks]~=1.26 in c:\\users\\visual singh\\anaconda3\\lib\\site-packages (from selenium) (1.26.4)\n",
      "Requirement already satisfied: trio-websocket~=0.9 in c:\\users\\visual singh\\anaconda3\\lib\\site-packages (from selenium) (0.9.2)\n",
      "Requirement already satisfied: trio~=0.17 in c:\\users\\visual singh\\anaconda3\\lib\\site-packages (from selenium) (0.20.0)\n",
      "Requirement already satisfied: attrs>=19.2.0 in c:\\users\\visual singh\\anaconda3\\lib\\site-packages (from trio~=0.17->selenium) (20.3.0)\n",
      "Requirement already satisfied: sortedcontainers in c:\\users\\visual singh\\anaconda3\\lib\\site-packages (from trio~=0.17->selenium) (2.3.0)\n",
      "Requirement already satisfied: idna in c:\\users\\visual singh\\anaconda3\\lib\\site-packages (from trio~=0.17->selenium) (2.10)\n",
      "Requirement already satisfied: async-generator>=1.9 in c:\\users\\visual singh\\anaconda3\\lib\\site-packages (from trio~=0.17->selenium) (1.10)\n",
      "Requirement already satisfied: sniffio in c:\\users\\visual singh\\anaconda3\\lib\\site-packages (from trio~=0.17->selenium) (1.2.0)\n",
      "Requirement already satisfied: cffi>=1.14 in c:\\users\\visual singh\\anaconda3\\lib\\site-packages (from trio~=0.17->selenium) (1.14.5)\n",
      "Requirement already satisfied: outcome in c:\\users\\visual singh\\anaconda3\\lib\\site-packages (from trio~=0.17->selenium) (1.1.0)\n",
      "Requirement already satisfied: pycparser in c:\\users\\visual singh\\anaconda3\\lib\\site-packages (from cffi>=1.14->trio~=0.17->selenium) (2.20)\n",
      "Requirement already satisfied: wsproto>=0.14 in c:\\users\\visual singh\\anaconda3\\lib\\site-packages (from trio-websocket~=0.9->selenium) (1.1.0)\n",
      "Requirement already satisfied: cryptography>=1.3.4 in c:\\users\\visual singh\\anaconda3\\lib\\site-packages (from urllib3[secure,socks]~=1.26->selenium) (3.4.7)\n",
      "Requirement already satisfied: certifi in c:\\users\\visual singh\\anaconda3\\lib\\site-packages (from urllib3[secure,socks]~=1.26->selenium) (2020.12.5)\n",
      "Requirement already satisfied: pyOpenSSL>=0.14 in c:\\users\\visual singh\\anaconda3\\lib\\site-packages (from urllib3[secure,socks]~=1.26->selenium) (20.0.1)\n",
      "Requirement already satisfied: PySocks!=1.5.7,<2.0,>=1.5.6 in c:\\users\\visual singh\\anaconda3\\lib\\site-packages (from urllib3[secure,socks]~=1.26->selenium) (1.7.1)\n",
      "Requirement already satisfied: six>=1.5.2 in c:\\users\\visual singh\\anaconda3\\lib\\site-packages (from pyOpenSSL>=0.14->urllib3[secure,socks]~=1.26->selenium) (1.15.0)\n",
      "Requirement already satisfied: h11<1,>=0.9.0 in c:\\users\\visual singh\\anaconda3\\lib\\site-packages (from wsproto>=0.14->trio-websocket~=0.9->selenium) (0.13.0)\n"
     ]
    }
   ],
   "source": [
    "!pip install selenium"
   ]
  },
  {
   "cell_type": "code",
   "execution_count": 2,
   "id": "f2d9df78",
   "metadata": {},
   "outputs": [],
   "source": [
    "# lets now import all the required libraries\n",
    "\n",
    "import selenium\n",
    "import pandas as pd\n",
    "\n",
    "from selenium import webdriver\n",
    "\n",
    "from selenium.webdriver.common.by import By\n",
    "import warnings\n",
    "warnings.filterwarnings('ignore')\n",
    "import time\n"
   ]
  },
  {
   "cell_type": "code",
   "execution_count": 6,
   "id": "eca9c41f",
   "metadata": {},
   "outputs": [],
   "source": [
    "# Lets first connect to the web driver\n",
    "\n",
    "driver=webdriver.Chrome(r\"C:\\Users\\Visual singh\\Chromedriver\\chromedriver_win32\\chromedriver.exe\")"
   ]
  },
  {
   "cell_type": "code",
   "execution_count": 7,
   "id": "ebaa444c",
   "metadata": {},
   "outputs": [],
   "source": [
    "flights='https://www.goibibo.com/flights/'\n",
    "driver.get(flights)\n",
    "time.sleep(5)"
   ]
  },
  {
   "cell_type": "code",
   "execution_count": 5,
   "id": "ab506d71",
   "metadata": {},
   "outputs": [],
   "source": [
    "# Clicking on search flight\n",
    "\n",
    "search_flight=driver.find_element_by_xpath(\"/html/body/div[2]/div/section/div[1]/div/div[1]/section/div/div/div/div[1]/div[3]/div[2]/div[1]/input\")\n",
    "\n",
    "search_flight.click()"
   ]
  },
  {
   "cell_type": "code",
   "execution_count": null,
   "id": "48b06713",
   "metadata": {},
   "outputs": [],
   "source": [
    "# Location for Scraping the data of Source and Destination\n",
    "\n",
    "location=['Chennai','Bangalore','Hyderabad','Goa','New Delhi','Mumbai']"
   ]
  },
  {
   "cell_type": "code",
   "execution_count": null,
   "id": "4c2dfe90",
   "metadata": {},
   "outputs": [],
   "source": [
    "# Clicking on search flight\n",
    "\n",
    "search_flight=driver.find_element_by_xpath(\"/html/body/div[2]/div/section/div[1]/div/div[1]/section/div/div/div/div[1]/div[3]/div[2]/div[1]/input\")\n",
    "\n",
    "search_flight.click()\n",
    "\n",
    "# Location for Scraping the data of Source and Destination\n",
    "\n",
    "location=['Chennai','Bangalore','Hyderabad','Goa','New Delhi','Mumbai']\n",
    "\n",
    "\n",
    "\n",
    "# Creating an empty list\n",
    "\n",
    "\n",
    "\n",
    "Airline_name=[]\n",
    "\n",
    "Source=[]\n",
    "\n",
    "Destination=[]\n",
    "\n",
    "Departure_time=[]\n",
    "\n",
    "Arrival_time=[]\n",
    "\n",
    "Duration=[]\n",
    "\n",
    "Stops=[]\n",
    "\n",
    "Location=[]\n",
    "\n",
    "Price=[]\n",
    "\n",
    "\n",
    "\n",
    "\n",
    "\n",
    "for x in location:\n",
    "\n",
    "    for y in location:\n",
    "\n",
    "        if x!=y:\n",
    "\n",
    "            #Entering the Source Location\n",
    "\n",
    "            source=driver.find_element_by_xpath(\"/html/body/section[1]/section/div/div/form/ul[2]/li[2]/div/input\")\n",
    "\n",
    "            time.sleep(2)\n",
    "\n",
    "            source.clear()\n",
    "\n",
    "            source.send_keys(x)\n",
    "\n",
    "            time.sleep(2)\n",
    "\n",
    "            \n",
    "\n",
    "            #Entering the Destination Location\n",
    "\n",
    "            destination=driver.find_element_by_xpath(\"/html/body/section[1]/section/div/div/form/ul[2]/li[3]/div/input\")\n",
    "\n",
    "            destination.click()\n",
    "\n",
    "            time.sleep(2)\n",
    "\n",
    "            destination.clear()\n",
    "\n",
    "            destination.send_keys(y)\n",
    "\n",
    "            time.sleep(2)\n",
    "\n",
    "            \n",
    "\n",
    "            try:\n",
    "\n",
    "                driver.find_element_by_xpath(\"/html/body/section[2]/section/div[1]/div/div[1]\").click()\n",
    "\n",
    "            except NoSuchElementException:\n",
    "\n",
    "                pass\n",
    "\n",
    "            \n",
    "\n",
    "            #Click on Search Flight\n",
    "\n",
    "            try:\n",
    "\n",
    "                srch_btn = driver.find_element_by_xpath(\"//button[@class='fs-14 btn-submit cursor-pointer bold']\")\n",
    "\n",
    "                wait = WebDriverWait(driver, 10)\n",
    "\n",
    "                wait.until(EC.visibility_of(srch_btn))\n",
    "\n",
    "                srch_btn.click()\n",
    "\n",
    "            except NoSuchElementException:\n",
    "\n",
    "                pass\n",
    "\n",
    "            time.sleep(2)\n",
    "\n",
    " #Scrolling the data\n",
    "\n",
    "            for _ in range(15):\n",
    "\n",
    "                time.sleep(2)\n",
    "\n",
    "                driver.execute_script(\"window.scrollBy(0,5000)\")\n",
    "\n",
    "                \n",
    "\n",
    "            #Scrolling to top button\n",
    "\n",
    "            try:\n",
    "\n",
    "                driver.find_element_by_xpath(\"//div[@title='scroll to top']\").click()\n",
    "\n",
    "            except NoSuchElementException:\n",
    "\n",
    "                pass\n",
    "\n",
    "            \n",
    "\n",
    "            #Fetching the name of Airline\n",
    "\n",
    "            try:\n",
    "\n",
    "                for i in driver.find_elements_by_xpath(\"//div[@class='fs-13 airline-name no-pad col-8']/span\"):\n",
    "\n",
    "                    Airline_name.append(i.text)\n",
    "\n",
    "            except NoSuchElementException:\n",
    "\n",
    "                Airline_name.append('--')\n",
    "\n",
    "                \n",
    "\n",
    "            #Fetching the Source data\n",
    "\n",
    "            try:\n",
    "\n",
    "                for i in driver.find_elements_by_xpath(\"//p[@class='fs-10 font-lightgrey no-wrap city ellipsis']\"):\n",
    "\n",
    "                    Source.append(i.text)\n",
    "\n",
    "            except NoSuchElementException:\n",
    "\n",
    "                Source.append('--')\n",
    "\n",
    "                \n",
    "\n",
    "            #Fetching the Destination data\n",
    "\n",
    "            try:\n",
    "\n",
    "                for i in driver.find_elements_by_xpath(\"//div[@class='i-b pdd-0 text-left atime col-5']/p[2]\"):\n",
    "\n",
    "                    Destination.append(i.text)\n",
    "\n",
    "            except NoSuchElementException:\n",
    "\n",
    "                Destination.append('--')\n",
    "                \n",
    "            \n",
    "            #Fetching the Departure_time\n",
    "\n",
    "            try:\n",
    "\n",
    "                for i in driver.find_elements_by_xpath(\"//div[@class='i-b pdd-0 text-left atime col-5']/p[2]\"):\n",
    "\n",
    "                    Departure_time.append(i.text)\n",
    "\n",
    "            except NoSuchElementException:\n",
    "\n",
    "                Departure_time.append('--') \n",
    "                \n",
    "            \n",
    "            #Fetching the Arrival_time\n",
    "\n",
    "            try:\n",
    "\n",
    "                for i in driver.find_elements_by_xpath(\"//div[@class='i-b pdd-0 text-left atime col-5']/p[2]\"):\n",
    "\n",
    "                    Arrival_time.append(i.text)\n",
    "\n",
    "            except NoSuchElementException:\n",
    "\n",
    "                Arrival_time.append('--') \n",
    "                \n",
    " \n",
    "\n",
    "\n",
    "  "
   ]
  },
  {
   "cell_type": "code",
   "execution_count": null,
   "id": "9b513229",
   "metadata": {},
   "outputs": [],
   "source": [
    "# finding element for job search bar\n",
    "\n",
    "search_field_designation=driver.find_element_by_class_name('ModalAutosuggest_modal-autosuggest__textfield-container__YjA1O')\n",
    "search_field_designation.send_keys('Bangalore')\n",
    "search_field_location=driver.find_element_by_xpath('ModalAutosuggest_modal-autosuggest__textfield-container__YjA1O')\n",
    "search_field_location.send_keys('Delhi')\n",
    "search_field_date=driver.find_element_by_xpath('/html/body/div[2]/div/section/div[1]/div/div[1]/section/div/div/div/div[1]/div[1]/div[2]/ul/li[2]/ul/li[1]/section/label/input')\n",
    "search_field_date.send_keys('October' 22')"
   ]
  },
  {
   "cell_type": "code",
   "execution_count": null,
   "id": "0a993a23",
   "metadata": {},
   "outputs": [],
   "source": [
    "search_button=driver.find_element_by_xpath('/html/body/div[2]/div/section/div[1]/div/div[1]/section/div/div/div/div[1]/div[3]/div[2]/div[1]/input')\n",
    "search_button.click()"
   ]
  },
  {
   "cell_type": "code",
   "execution_count": null,
   "id": "df5cbc0f",
   "metadata": {},
   "outputs": [],
   "source": [
    "search_car=driver.find_element_by_xpath(\"/html/body/div[1]/div/header/div/div/div[2]/div/div/div[2]/div[1]/form/fieldset/div/input\")"
   ]
  },
  {
   "cell_type": "code",
   "execution_count": null,
   "id": "5baef78f",
   "metadata": {},
   "outputs": [],
   "source": [
    "# finding element for job search bar\n",
    "\n",
    "car=driver.find_element_by_xpath(\"/html/body/div[1]/div/header/div/div/div[2]/div/div/div[2]/div[1]/form/fieldset/div/input\")\n",
    "car.send_keys('Cars')"
   ]
  },
  {
   "cell_type": "code",
   "execution_count": null,
   "id": "47b7dbc2",
   "metadata": {},
   "outputs": [],
   "source": [
    "search_button=driver.find_element(By.XPATH,'/html/body/div[1]/div/header/div/div/div[2]/div/div/div[3]')\n",
    "search_button.click()\n",
    "time.sleep(3)"
   ]
  },
  {
   "cell_type": "code",
   "execution_count": null,
   "id": "2fce6bed",
   "metadata": {},
   "outputs": [],
   "source": [
    "# fetching url to open each product name\n",
    "URL=[]\n",
    "start=0\n",
    "end=3\n",
    "\n",
    "for page in range (start,end):\n",
    "    url=driver.find_elements(By.XPATH,'//a[@class=\"a-link-normal s-underline-text s-underline-link-text s-link-style a-text-normal\"]')\n",
    "    \n",
    "    for i in url:\n",
    "     URL.append(i.get_attribute('href'))\n",
    "    \n",
    "    load_button=driver.find_elements(By.XPATH,'/html/body/div[1]/div/main/div/div/section/div/div/div[4]/div[2]/div/div[2]/ul/li[22]/div/button/span')"
   ]
  },
  {
   "cell_type": "code",
   "execution_count": null,
   "id": "c5f8c147",
   "metadata": {},
   "outputs": [],
   "source": [
    "# Creating empty list\n",
    "\n",
    "Car=[]\n",
    "Model=[]\n",
    "Price=[]\n",
    "Fuel=[]\n",
    "Travelled=[]\n",
    "Owner=[]\n",
    "Location=[]\n",
    "Posting_date=[]\n",
    "Description=[]\n",
    "SOLD_BY=[]\n",
    "\n",
    "for url in URL[:1000]: ##loop for every guitar in the list\n",
    "    driver.get(url)\n",
    "    time.sleep(2)\n",
    "    \n",
    "    try:\n",
    "        car= driver.find_element(By.XPATH,'//*[@id=\"container\"]/main/div/div/div/div[5]/div[1]/div[2]/div/div/div[2]')\n",
    "        Car.append(car.text)\n",
    "    except NoSuchElementException:\n",
    "        Car.append('-') \n",
    "    \n",
    "    try:\n",
    "        model= driver.find_element(By.XPATH,'//*[@id=\"container\"]/main/div/div/div/div[5]/div[1]/div[2]/div/div/div[3]')\n",
    "        Model.append(model.text)\n",
    "    except NoSuchElementException:\n",
    "        Model.append('-') \n",
    "        \n",
    "    try:\n",
    "        fuel= driver.find_element(By.XPATH,'//*[@id=\"container\"]/main/div/div/div/div[5]/div[1]/div[2]/div/div/div[4]/div[1]/div')\n",
    "        Fuel.append(fuel.text)\n",
    "    except NoSuchElementException:\n",
    "        Fuel.append('-') \n",
    "        \n",
    "    try:\n",
    "        travelled= driver.find_element(By.XPATH,'//*[@id=\"container\"]/main/div/div/div/div[5]/div[1]/div[2]/div/div/div[4]/div[2]/div')\n",
    "        Travelled.append(travelled.text)\n",
    "    except NoSuchElementException:\n",
    "        Travelled.append('-')   \n",
    "\n",
    "    try:\n",
    "        owner= driver.find_element(By.XPATH,'//*[@id=\"container\"]/main/div/div/div/div[5]/div[1]/div[3]/div/div[2]/div/div[1]/div[2]/div[2]')\n",
    "        Owner.append(owner.text)\n",
    "    except NoSuchElementException:\n",
    "        Owner.append('-') \n",
    "    \n",
    "    try:\n",
    "        location= driver.find_element(By.XPATH,'//*[@id=\"container\"]/main/div/div/div/div[5]/div[1]/div[3]/div/div[2]/div/div[2]/div[2]/div[2]')\n",
    "        Location.append(location.text)\n",
    "    except NoSuchElementException:\n",
    "        Location.append('-') \n",
    "    \n",
    "    try:\n",
    "        date= driver.find_element(By.XPATH,'//*[@id=\"container\"]/main/div/div/div/div[5]/div[1]/div[3]/div/div[2]/div/div[3]/div[2]/div[2]')\n",
    "        Posting_date.append(date.text)\n",
    "    except NoSuchElementException:\n",
    "        Posting_date.append('-')     \n",
    "    \n",
    "    try:\n",
    "        description= driver.find_element(By.XPATH,'//*[@id=\"container\"]/main/div/div/div/div[6]/div[1]/div[4]/div')\n",
    "        Description.append(description.text)\n",
    "    except NoSuchElementException:\n",
    "        Description.append('-') \n",
    "   \n",
    "    try:\n",
    "        try:\n",
    "            Price.append(driver.find_element(By.XPATH,'//*[@id=\"container\"]/main/div/div/div/div[5]/div[2]/div[1]/div/div[1]').text)\n",
    "        except:\n",
    "            Price.append(driver.find_element_by_css_selector('div[class=\"_3FkyT\"]').text)             \n",
    "    except:\n",
    "        Price.append('-')\n",
    "        \n",
    "        \n",
    "    try:\n",
    "        SOLD_BY.append( driver.find_element(By.XPATH,'//*[@id=\"container\"]/main/div/div/div/div[5]/div[2]/div[2]/div[1]/div[2]').text)\n",
    "    except:\n",
    "        SOLD_BY.append('-')"
   ]
  },
  {
   "cell_type": "code",
   "execution_count": null,
   "id": "ca8855de",
   "metadata": {},
   "outputs": [],
   "source": [
    "Car"
   ]
  },
  {
   "cell_type": "code",
   "execution_count": null,
   "id": "af145bd8",
   "metadata": {},
   "outputs": [],
   "source": [
    "first_car=driver.find_element(By.XPATH,'/html/body/div[1]/div/main/div/div/div/div[5]/div[1]/div[2]/div/div/div[2]')\n",
    "first_car"
   ]
  },
  {
   "cell_type": "code",
   "execution_count": null,
   "id": "e6ecc009",
   "metadata": {},
   "outputs": [],
   "source": [
    "# To show the first name as result\n",
    "\n",
    "first_car.text"
   ]
  },
  {
   "cell_type": "code",
   "execution_count": null,
   "id": "74f63ba0",
   "metadata": {},
   "outputs": [],
   "source": [
    "first_model=driver.find_element(By.XPATH,'/html/body/div[1]/div/main/div/div/div/div[5]/div[1]/div[2]/div/div/div[3]')\n",
    "first_model"
   ]
  },
  {
   "cell_type": "code",
   "execution_count": null,
   "id": "af58e56e",
   "metadata": {},
   "outputs": [],
   "source": [
    "first_model.text"
   ]
  },
  {
   "cell_type": "code",
   "execution_count": null,
   "id": "e4635f29",
   "metadata": {},
   "outputs": [],
   "source": [
    "first_price=driver.find_element(By.XPATH,'/html/body/div[1]/div/main/div/div/div/div[5]/div[2]/div[1]/div/div[1]')\n",
    "first_price"
   ]
  },
  {
   "cell_type": "code",
   "execution_count": null,
   "id": "051b6953",
   "metadata": {},
   "outputs": [],
   "source": [
    "first_price.text"
   ]
  },
  {
   "cell_type": "code",
   "execution_count": null,
   "id": "76150303",
   "metadata": {},
   "outputs": [],
   "source": [
    "first_fuel=driver.find_element(By.XPATH,'/html/body/div[1]/div/main/div/div/div/div[5]/div[1]/div[2]/div/div/div[4]/div[1]/div')\n",
    "first_fuel"
   ]
  },
  {
   "cell_type": "code",
   "execution_count": null,
   "id": "2790b526",
   "metadata": {},
   "outputs": [],
   "source": [
    "first_fuel.text"
   ]
  },
  {
   "cell_type": "code",
   "execution_count": null,
   "id": "ba887e15",
   "metadata": {},
   "outputs": [],
   "source": [
    "first_travelled=driver.find_element(By.XPATH,'/html/body/div[1]/div/main/div/div/div/div[5]/div[1]/div[2]/div/div/div[4]/div[2]/div')\n",
    "first_travelled"
   ]
  },
  {
   "cell_type": "code",
   "execution_count": null,
   "id": "0c617f71",
   "metadata": {},
   "outputs": [],
   "source": [
    "first_travelled.text"
   ]
  },
  {
   "cell_type": "code",
   "execution_count": null,
   "id": "0eb568a0",
   "metadata": {},
   "outputs": [],
   "source": [
    "owner=driver.find_element(By.XPATH,'/html/body/div[1]/div/main/div/div/div/div[6]/div[1]/div[3]/div/div[2]/div/div[1]/div[2]/div[2]')\n",
    "owner"
   ]
  },
  {
   "cell_type": "code",
   "execution_count": null,
   "id": "e12c1574",
   "metadata": {},
   "outputs": [],
   "source": [
    "owner.text"
   ]
  },
  {
   "cell_type": "code",
   "execution_count": null,
   "id": "5fcd4f46",
   "metadata": {},
   "outputs": [],
   "source": [
    "first_location=driver.find_element(By.XPATH,'/html/body/div[1]/div/main/div/div/div/div[6]/div[1]/div[3]/div/div[2]/div/div[2]/div[2]/div[2]')\n",
    "first_location"
   ]
  },
  {
   "cell_type": "code",
   "execution_count": null,
   "id": "32024354",
   "metadata": {},
   "outputs": [],
   "source": [
    "first_location.text"
   ]
  },
  {
   "cell_type": "code",
   "execution_count": null,
   "id": "3f338fa7",
   "metadata": {},
   "outputs": [],
   "source": [
    "first_post_date=driver.find_element(By.XPATH,'/html/body/div[1]/div/main/div/div/div/div[6]/div[1]/div[3]/div/div[2]/div/div[3]/div[2]/div[2]')\n",
    "first_post_date"
   ]
  },
  {
   "cell_type": "code",
   "execution_count": null,
   "id": "bc6a6417",
   "metadata": {},
   "outputs": [],
   "source": [
    "first_post_date.text"
   ]
  },
  {
   "cell_type": "code",
   "execution_count": null,
   "id": "b3465142",
   "metadata": {},
   "outputs": [],
   "source": [
    "first_description=driver.find_element(By.XPATH,'/html/body/div[1]/div/main/div/div/div/div[6]/div[1]/div[4]/div')\n",
    "first_description"
   ]
  },
  {
   "cell_type": "code",
   "execution_count": null,
   "id": "926cb8a4",
   "metadata": {},
   "outputs": [],
   "source": [
    "first_description.text"
   ]
  },
  {
   "cell_type": "code",
   "execution_count": null,
   "id": "c04b72c2",
   "metadata": {},
   "outputs": [],
   "source": [
    "first_SOLD_BY=driver.find_element(By.XPATH,'/html/body/div[1]/div/main/div/div/div/div[5]/div[2]/div[2]/div[1]/div[2]/span')\n",
    "first_SOLD_BY"
   ]
  },
  {
   "cell_type": "code",
   "execution_count": null,
   "id": "08d7d04b",
   "metadata": {},
   "outputs": [],
   "source": [
    "first_SOLD_BY.text"
   ]
  },
  {
   "cell_type": "code",
   "execution_count": null,
   "id": "f67bd49d",
   "metadata": {},
   "outputs": [],
   "source": [
    "Cars=[]  # empty list for store\n",
    "\n",
    "for i in driver.find_element(By.XPATH,'/html/body/div[1]/div/main/div/div/div/div[6]/div[2]/div[2]/div[1]/div[2]'):\n",
    "    location.append(i.text)\n",
    "\n",
    "Cars"
   ]
  },
  {
   "cell_type": "code",
   "execution_count": null,
   "id": "86f97896",
   "metadata": {},
   "outputs": [],
   "source": [
    "Car=[]  # empty list for store\n",
    "\n",
    "for i in driver.find_all_('div',class_='restnt-loc ellipsis'):\n",
    "    location.append(i.text)\n",
    "\n",
    "location"
   ]
  }
 ],
 "metadata": {
  "kernelspec": {
   "display_name": "Python 3",
   "language": "python",
   "name": "python3"
  },
  "language_info": {
   "codemirror_mode": {
    "name": "ipython",
    "version": 3
   },
   "file_extension": ".py",
   "mimetype": "text/x-python",
   "name": "python",
   "nbconvert_exporter": "python",
   "pygments_lexer": "ipython3",
   "version": "3.8.8"
  }
 },
 "nbformat": 4,
 "nbformat_minor": 5
}
