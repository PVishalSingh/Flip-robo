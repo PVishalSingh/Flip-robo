{
 "cells": [
  {
   "cell_type": "markdown",
   "id": "f2f32e61",
   "metadata": {},
   "source": [
    "Q1 & 2: Write a python program to scrape data for “Data Analyst” Job position in “Bangalore” location. You\n",
    "have to scrape the job-title, job-location, company_name, experience_required. You have to scrape first 10\n",
    "jobs data.\n",
    "This task will be done in following steps:\n",
    "1. First get the webpage https://www.naukri.com/\n",
    "2. Enter “Data Analyst” in “Skill, Designations, Companies” field and enter “Bangalore” in “enter the\n",
    "location” field.\n",
    "3. Then click the search button.\n",
    "4. Then scrape the data for the first 10 jobs results you get.\n",
    "5. Finally create a dataframe of the scraped data.\n"
   ]
  },
  {
   "cell_type": "code",
   "execution_count": 1,
   "id": "3e2ff6ea",
   "metadata": {},
   "outputs": [
    {
     "name": "stderr",
     "output_type": "stream",
     "text": [
      "'installing' is not recognized as an internal or external command,\n",
      "operable program or batch file.\n"
     ]
    },
    {
     "name": "stdout",
     "output_type": "stream",
     "text": [
      "Requirement already satisfied: selenium in c:\\users\\visual singh\\anaconda3\\lib\\site-packages (4.1.3)\n",
      "Requirement already satisfied: trio-websocket~=0.9 in c:\\users\\visual singh\\anaconda3\\lib\\site-packages (from selenium) (0.9.2)\n",
      "Requirement already satisfied: trio~=0.17 in c:\\users\\visual singh\\anaconda3\\lib\\site-packages (from selenium) (0.20.0)\n",
      "Requirement already satisfied: urllib3[secure,socks]~=1.26 in c:\\users\\visual singh\\anaconda3\\lib\\site-packages (from selenium) (1.26.4)\n",
      "Requirement already satisfied: attrs>=19.2.0 in c:\\users\\visual singh\\anaconda3\\lib\\site-packages (from trio~=0.17->selenium) (20.3.0)\n",
      "Requirement already satisfied: sniffio in c:\\users\\visual singh\\anaconda3\\lib\\site-packages (from trio~=0.17->selenium) (1.2.0)\n",
      "Requirement already satisfied: cffi>=1.14 in c:\\users\\visual singh\\anaconda3\\lib\\site-packages (from trio~=0.17->selenium) (1.14.5)\n",
      "Requirement already satisfied: async-generator>=1.9 in c:\\users\\visual singh\\anaconda3\\lib\\site-packages (from trio~=0.17->selenium) (1.10)\n",
      "Requirement already satisfied: idna in c:\\users\\visual singh\\anaconda3\\lib\\site-packages (from trio~=0.17->selenium) (2.10)\n",
      "Requirement already satisfied: outcome in c:\\users\\visual singh\\anaconda3\\lib\\site-packages (from trio~=0.17->selenium) (1.1.0)\n",
      "Requirement already satisfied: sortedcontainers in c:\\users\\visual singh\\anaconda3\\lib\\site-packages (from trio~=0.17->selenium) (2.3.0)\n",
      "Requirement already satisfied: pycparser in c:\\users\\visual singh\\anaconda3\\lib\\site-packages (from cffi>=1.14->trio~=0.17->selenium) (2.20)\n",
      "Requirement already satisfied: wsproto>=0.14 in c:\\users\\visual singh\\anaconda3\\lib\\site-packages (from trio-websocket~=0.9->selenium) (1.1.0)\n",
      "Requirement already satisfied: pyOpenSSL>=0.14 in c:\\users\\visual singh\\anaconda3\\lib\\site-packages (from urllib3[secure,socks]~=1.26->selenium) (20.0.1)\n",
      "Requirement already satisfied: cryptography>=1.3.4 in c:\\users\\visual singh\\anaconda3\\lib\\site-packages (from urllib3[secure,socks]~=1.26->selenium) (3.4.7)\n",
      "Requirement already satisfied: certifi in c:\\users\\visual singh\\anaconda3\\lib\\site-packages (from urllib3[secure,socks]~=1.26->selenium) (2020.12.5)\n",
      "Requirement already satisfied: PySocks!=1.5.7,<2.0,>=1.5.6 in c:\\users\\visual singh\\anaconda3\\lib\\site-packages (from urllib3[secure,socks]~=1.26->selenium) (1.7.1)\n",
      "Requirement already satisfied: six>=1.5.2 in c:\\users\\visual singh\\anaconda3\\lib\\site-packages (from pyOpenSSL>=0.14->urllib3[secure,socks]~=1.26->selenium) (1.15.0)\n",
      "Requirement already satisfied: h11<1,>=0.9.0 in c:\\users\\visual singh\\anaconda3\\lib\\site-packages (from wsproto>=0.14->trio-websocket~=0.9->selenium) (0.13.0)\n"
     ]
    }
   ],
   "source": [
    "!installing selenium\n",
    "!pip install selenium"
   ]
  },
  {
   "cell_type": "code",
   "execution_count": 2,
   "id": "17698d79",
   "metadata": {},
   "outputs": [],
   "source": [
    "# lets now import all the required libraries\n",
    "\n",
    "import selenium\n",
    "import pandas as pd\n",
    "\n",
    "from selenium import webdriver\n",
    "import warnings\n",
    "warnings.filterwarnings('ignore')\n",
    "import time\n"
   ]
  },
  {
   "cell_type": "code",
   "execution_count": 1,
   "id": "e951c047",
   "metadata": {},
   "outputs": [
    {
     "ename": "NameError",
     "evalue": "name 'webdriver' is not defined",
     "output_type": "error",
     "traceback": [
      "\u001b[1;31m---------------------------------------------------------------------------\u001b[0m",
      "\u001b[1;31mNameError\u001b[0m                                 Traceback (most recent call last)",
      "Input \u001b[1;32mIn [1]\u001b[0m, in \u001b[0;36m<cell line: 3>\u001b[1;34m()\u001b[0m\n\u001b[0;32m      1\u001b[0m \u001b[38;5;66;03m# Lets first connect to the web driver\u001b[39;00m\n\u001b[1;32m----> 3\u001b[0m driver\u001b[38;5;241m=\u001b[39m\u001b[43mwebdriver\u001b[49m\u001b[38;5;241m.\u001b[39mChrome(\u001b[38;5;124mr\u001b[39m\u001b[38;5;124m\"\u001b[39m\u001b[38;5;124mC:\u001b[39m\u001b[38;5;124m\\\u001b[39m\u001b[38;5;124mUsers\u001b[39m\u001b[38;5;124m\\\u001b[39m\u001b[38;5;124mVisual singh\u001b[39m\u001b[38;5;124m\\\u001b[39m\u001b[38;5;124mDownloads\u001b[39m\u001b[38;5;124m\\\u001b[39m\u001b[38;5;124mchromedriver_win32 (1)\u001b[39m\u001b[38;5;124m\\\u001b[39m\u001b[38;5;124mchromedriver.exe\u001b[39m\u001b[38;5;124m\"\u001b[39m)\n",
      "\u001b[1;31mNameError\u001b[0m: name 'webdriver' is not defined"
     ]
    }
   ],
   "source": [
    "# Lets first connect to the web driver\n",
    "\n",
    "driver=webdriver.Chrome(r\"C:\\Users\\Visual singh\\Downloads\\chromedriver_win32 (1)\\chromedriver.exe\")"
   ]
  },
  {
   "cell_type": "code",
   "execution_count": 4,
   "id": "bd9a6e46",
   "metadata": {},
   "outputs": [],
   "source": [
    "#we can also run as alternative of above \n",
    "#driver=webdriver.Chrome(\"chromedriver.exe\")"
   ]
  },
  {
   "cell_type": "code",
   "execution_count": 5,
   "id": "cb94bcbd",
   "metadata": {},
   "outputs": [],
   "source": [
    "url='http://www.naukri.com/'\n",
    "driver.get(url)"
   ]
  },
  {
   "cell_type": "code",
   "execution_count": 6,
   "id": "50d73fd4",
   "metadata": {},
   "outputs": [],
   "source": [
    "search_job=driver.find_element_by_class_name(\"suggestor-input\")"
   ]
  },
  {
   "cell_type": "code",
   "execution_count": 7,
   "id": "5906a026",
   "metadata": {},
   "outputs": [],
   "source": [
    "# finding element for job search bar\n",
    "\n",
    "search_field_designation=driver.find_element_by_class_name('suggestor-input ')\n",
    "search_field_designation.send_keys('Data Analyst')\n",
    "search_field_location=driver.find_element_by_xpath('/html/body/div[1]/div[2]/div[3]/div/div/div[5]/div/div/div/input')\n",
    "search_field_location.send_keys('Bangalore')"
   ]
  },
  {
   "cell_type": "code",
   "execution_count": 8,
   "id": "c3c062f9",
   "metadata": {},
   "outputs": [],
   "source": [
    "search_button=driver.find_element_by_xpath('/html/body/div[1]/div[2]/div[3]/div/div/div[6]')\n",
    "search_button.click()"
   ]
  },
  {
   "cell_type": "code",
   "execution_count": 9,
   "id": "f16abaf8",
   "metadata": {},
   "outputs": [],
   "source": [
    "# Creating empty list\n",
    "\n",
    "job_titles=[]\n",
    "company_names=[]\n",
    "locations_list=[]\n",
    "experience_list=[]"
   ]
  },
  {
   "cell_type": "code",
   "execution_count": 10,
   "id": "1d494840",
   "metadata": {},
   "outputs": [
    {
     "data": {
      "text/plain": [
       "20"
      ]
     },
     "execution_count": 10,
     "metadata": {},
     "output_type": "execute_result"
    }
   ],
   "source": [
    "# extracting all the tags where we have the job titles\n",
    "\n",
    "titles_tags=driver.find_elements_by_xpath(\"//a[@class='title fw500 ellipsis']\")\n",
    "len(titles_tags)"
   ]
  },
  {
   "cell_type": "code",
   "execution_count": 11,
   "id": "496edb6e",
   "metadata": {},
   "outputs": [
    {
     "data": {
      "text/plain": [
       "[<selenium.webdriver.remote.webelement.WebElement (session=\"717f95419528b4a83d4ef339aabcbe65\", element=\"662da367-594a-4f69-89de-cf21634ce525\")>,\n",
       " <selenium.webdriver.remote.webelement.WebElement (session=\"717f95419528b4a83d4ef339aabcbe65\", element=\"85ecede2-306f-4107-961c-3f733cb2d2e4\")>,\n",
       " <selenium.webdriver.remote.webelement.WebElement (session=\"717f95419528b4a83d4ef339aabcbe65\", element=\"f4827aa7-7b50-4741-a5b3-0c9de0a6afa9\")>,\n",
       " <selenium.webdriver.remote.webelement.WebElement (session=\"717f95419528b4a83d4ef339aabcbe65\", element=\"b21e2f00-d3d3-4f85-83d0-dbaad4837c8f\")>,\n",
       " <selenium.webdriver.remote.webelement.WebElement (session=\"717f95419528b4a83d4ef339aabcbe65\", element=\"d72d0a24-6346-49ad-bb46-85d5e8e7c716\")>,\n",
       " <selenium.webdriver.remote.webelement.WebElement (session=\"717f95419528b4a83d4ef339aabcbe65\", element=\"0acbc357-d35e-4d79-85e6-ce385d823cb5\")>,\n",
       " <selenium.webdriver.remote.webelement.WebElement (session=\"717f95419528b4a83d4ef339aabcbe65\", element=\"b0b3336b-a066-4256-b469-4c97fe36d3ee\")>,\n",
       " <selenium.webdriver.remote.webelement.WebElement (session=\"717f95419528b4a83d4ef339aabcbe65\", element=\"9653ec69-c37f-4662-b464-ed799f71ac9c\")>,\n",
       " <selenium.webdriver.remote.webelement.WebElement (session=\"717f95419528b4a83d4ef339aabcbe65\", element=\"8dffc2cb-0ecf-45db-ade6-6f9d08d56316\")>,\n",
       " <selenium.webdriver.remote.webelement.WebElement (session=\"717f95419528b4a83d4ef339aabcbe65\", element=\"cc090880-74d9-4330-86b9-b139ef54456e\")>]"
      ]
     },
     "execution_count": 11,
     "metadata": {},
     "output_type": "execute_result"
    }
   ],
   "source": [
    "titles_tags[0:10]"
   ]
  },
  {
   "cell_type": "code",
   "execution_count": 12,
   "id": "281d48f4",
   "metadata": {},
   "outputs": [
    {
     "data": {
      "text/plain": [
       "['Sr.Business Data Analyst',\n",
       " 'Senior Data Analyst',\n",
       " 'Senior Data Analyst',\n",
       " 'Master Data Management Business Analyst',\n",
       " 'Sr Data Analyst',\n",
       " 'Data Analyst - IIM/ISB/MDI/FMS/SP Jain',\n",
       " 'Business Analyst/Data Analyst',\n",
       " 'Hiring For Data Analyst',\n",
       " 'Data Analyst',\n",
       " 'Associate Data Analyst']"
      ]
     },
     "execution_count": 12,
     "metadata": {},
     "output_type": "execute_result"
    }
   ],
   "source": [
    "# extracting all the job titles\n",
    "\n",
    "for i in titles_tags:\n",
    "    title=i.text\n",
    "    job_titles.append(title)  \n",
    "\n",
    "job_titles[0:10]"
   ]
  },
  {
   "cell_type": "raw",
   "id": "9a23bfd6",
   "metadata": {},
   "source": [
    "Extracting Company Names"
   ]
  },
  {
   "cell_type": "code",
   "execution_count": 13,
   "id": "f2b10a55",
   "metadata": {},
   "outputs": [
    {
     "data": {
      "text/plain": [
       "[<selenium.webdriver.remote.webelement.WebElement (session=\"717f95419528b4a83d4ef339aabcbe65\", element=\"763dd00d-1c5e-4b56-acb6-a5978192d354\")>,\n",
       " <selenium.webdriver.remote.webelement.WebElement (session=\"717f95419528b4a83d4ef339aabcbe65\", element=\"51a99782-3032-4557-94be-67d1831be1d5\")>,\n",
       " <selenium.webdriver.remote.webelement.WebElement (session=\"717f95419528b4a83d4ef339aabcbe65\", element=\"430d28ed-4e95-4304-a8a4-de69e33a9177\")>,\n",
       " <selenium.webdriver.remote.webelement.WebElement (session=\"717f95419528b4a83d4ef339aabcbe65\", element=\"0701a4bf-6ce0-4e9b-aa30-1fa15e1562b1\")>,\n",
       " <selenium.webdriver.remote.webelement.WebElement (session=\"717f95419528b4a83d4ef339aabcbe65\", element=\"70dcb4d9-2380-47d8-88c8-35bc54608273\")>,\n",
       " <selenium.webdriver.remote.webelement.WebElement (session=\"717f95419528b4a83d4ef339aabcbe65\", element=\"aceb27e2-f439-4664-8011-3f26b8fdab03\")>,\n",
       " <selenium.webdriver.remote.webelement.WebElement (session=\"717f95419528b4a83d4ef339aabcbe65\", element=\"b182fa0f-3fc5-49e6-88f6-654fa09e239c\")>,\n",
       " <selenium.webdriver.remote.webelement.WebElement (session=\"717f95419528b4a83d4ef339aabcbe65\", element=\"a4f3daf0-3ef8-41a6-aa50-624c97df726f\")>,\n",
       " <selenium.webdriver.remote.webelement.WebElement (session=\"717f95419528b4a83d4ef339aabcbe65\", element=\"8058e350-ffc4-4473-a35d-9bafd86a2f07\")>,\n",
       " <selenium.webdriver.remote.webelement.WebElement (session=\"717f95419528b4a83d4ef339aabcbe65\", element=\"34ec68e0-fbef-4f3b-8e7c-24a7a9befa94\")>]"
      ]
     },
     "execution_count": 13,
     "metadata": {},
     "output_type": "execute_result"
    }
   ],
   "source": [
    "# extracting all the tags where we have the company names\n",
    "\n",
    "companies_tags=driver.find_elements_by_xpath(\"//a[@class='subTitle ellipsis fleft']\")\n",
    "companies_tags[0:10]"
   ]
  },
  {
   "cell_type": "code",
   "execution_count": 14,
   "id": "a33f86e9",
   "metadata": {},
   "outputs": [
    {
     "data": {
      "text/plain": [
       "['Collabera',\n",
       " 'Hudsons bay Company (HBC)',\n",
       " 'KrazyBee',\n",
       " 'Accenture',\n",
       " 'Thomson Reuters',\n",
       " 'K12 Techno Services Pvt Ltd',\n",
       " 'Telamon HR Solutions',\n",
       " 'Flipkart',\n",
       " 'Wipro',\n",
       " 'Optum']"
      ]
     },
     "execution_count": 14,
     "metadata": {},
     "output_type": "execute_result"
    }
   ],
   "source": [
    "# extracting all the company names\n",
    "\n",
    "for i in companies_tags:\n",
    "    company_name=i.text\n",
    "    company_names.append(company_name)  \n",
    "\n",
    "company_names[0:10]"
   ]
  },
  {
   "cell_type": "raw",
   "id": "c31960ad",
   "metadata": {},
   "source": [
    "Extracting Required Experience"
   ]
  },
  {
   "cell_type": "code",
   "execution_count": 15,
   "id": "cd66a1bc",
   "metadata": {},
   "outputs": [
    {
     "data": {
      "text/plain": [
       "[<selenium.webdriver.remote.webelement.WebElement (session=\"717f95419528b4a83d4ef339aabcbe65\", element=\"85d76578-96f6-40df-8be6-c69122992a8e\")>,\n",
       " <selenium.webdriver.remote.webelement.WebElement (session=\"717f95419528b4a83d4ef339aabcbe65\", element=\"fb5ded04-dc76-4aeb-a4f2-59c489f5fc08\")>,\n",
       " <selenium.webdriver.remote.webelement.WebElement (session=\"717f95419528b4a83d4ef339aabcbe65\", element=\"18b31c3a-8a31-42ca-b98f-bce4ce4ae200\")>,\n",
       " <selenium.webdriver.remote.webelement.WebElement (session=\"717f95419528b4a83d4ef339aabcbe65\", element=\"a2cb60e5-6edf-432e-95fd-581f8f56ac7a\")>,\n",
       " <selenium.webdriver.remote.webelement.WebElement (session=\"717f95419528b4a83d4ef339aabcbe65\", element=\"60319ee9-edbc-471c-b360-a8493010f027\")>,\n",
       " <selenium.webdriver.remote.webelement.WebElement (session=\"717f95419528b4a83d4ef339aabcbe65\", element=\"0e39c09f-afe0-4454-870d-34b32c732692\")>,\n",
       " <selenium.webdriver.remote.webelement.WebElement (session=\"717f95419528b4a83d4ef339aabcbe65\", element=\"50b99b24-7fd5-4162-89b0-b7567426ee87\")>,\n",
       " <selenium.webdriver.remote.webelement.WebElement (session=\"717f95419528b4a83d4ef339aabcbe65\", element=\"87955971-c9cf-43ce-8f23-7951de2387d4\")>,\n",
       " <selenium.webdriver.remote.webelement.WebElement (session=\"717f95419528b4a83d4ef339aabcbe65\", element=\"80d7e041-7e50-4efd-bea7-ea4d24e23a12\")>,\n",
       " <selenium.webdriver.remote.webelement.WebElement (session=\"717f95419528b4a83d4ef339aabcbe65\", element=\"e3ec50bf-b528-480e-83f5-b0ac6e233d7c\")>]"
      ]
     },
     "execution_count": 15,
     "metadata": {},
     "output_type": "execute_result"
    }
   ],
   "source": [
    "# extracting all the tags where we have the experience required data\n",
    "\n",
    "experience_tags=driver.find_elements_by_xpath(\"//li[@class='fleft grey-text br2 placeHolderLi experience']/span[1]\")\n",
    "experience_tags[0:10]"
   ]
  },
  {
   "cell_type": "code",
   "execution_count": 16,
   "id": "f3c681be",
   "metadata": {},
   "outputs": [
    {
     "data": {
      "text/plain": [
       "['6-11 Yrs',\n",
       " '3-4 Yrs',\n",
       " '3-6 Yrs',\n",
       " '6-8 Yrs',\n",
       " '5-8 Yrs',\n",
       " '4-9 Yrs',\n",
       " '3-5 Yrs',\n",
       " '2-5 Yrs',\n",
       " '4-9 Yrs',\n",
       " '2-7 Yrs']"
      ]
     },
     "execution_count": 16,
     "metadata": {},
     "output_type": "execute_result"
    }
   ],
   "source": [
    "# extracting the experience required\n",
    "\n",
    "for i in experience_tags:\n",
    "    experience=i.text\n",
    "    experience_list.append(experience)  \n",
    "\n",
    "experience_list[0:10]"
   ]
  },
  {
   "cell_type": "raw",
   "id": "7200ca5f",
   "metadata": {},
   "source": [
    "# Extracting Job Locations"
   ]
  },
  {
   "cell_type": "code",
   "execution_count": 17,
   "id": "4aaadf17",
   "metadata": {},
   "outputs": [
    {
     "data": {
      "text/plain": [
       "[<selenium.webdriver.remote.webelement.WebElement (session=\"717f95419528b4a83d4ef339aabcbe65\", element=\"2ab838b2-dffd-4250-88eb-249e0c79469d\")>,\n",
       " <selenium.webdriver.remote.webelement.WebElement (session=\"717f95419528b4a83d4ef339aabcbe65\", element=\"d2506d68-c184-4154-8fc4-61cfea8b6e40\")>,\n",
       " <selenium.webdriver.remote.webelement.WebElement (session=\"717f95419528b4a83d4ef339aabcbe65\", element=\"fc5c7411-bebf-47bb-a188-c57112a23456\")>,\n",
       " <selenium.webdriver.remote.webelement.WebElement (session=\"717f95419528b4a83d4ef339aabcbe65\", element=\"1cc35026-078e-4fa9-b9db-5d76dc67eec7\")>,\n",
       " <selenium.webdriver.remote.webelement.WebElement (session=\"717f95419528b4a83d4ef339aabcbe65\", element=\"b5706c52-5fbc-4948-b195-5efeb260147e\")>,\n",
       " <selenium.webdriver.remote.webelement.WebElement (session=\"717f95419528b4a83d4ef339aabcbe65\", element=\"078fa3f3-9033-40b2-ae6b-b964d7b1865e\")>,\n",
       " <selenium.webdriver.remote.webelement.WebElement (session=\"717f95419528b4a83d4ef339aabcbe65\", element=\"a4a1e467-48fd-4f85-af9c-280cfc5e7a65\")>,\n",
       " <selenium.webdriver.remote.webelement.WebElement (session=\"717f95419528b4a83d4ef339aabcbe65\", element=\"a998ea53-1bd7-4043-8934-a15316c4b4b5\")>,\n",
       " <selenium.webdriver.remote.webelement.WebElement (session=\"717f95419528b4a83d4ef339aabcbe65\", element=\"2a714c06-9cc9-4989-b918-6be4d2dfe3ad\")>,\n",
       " <selenium.webdriver.remote.webelement.WebElement (session=\"717f95419528b4a83d4ef339aabcbe65\", element=\"3c52bfe1-bca1-4161-a70e-68dd1e1319bc\")>]"
      ]
     },
     "execution_count": 17,
     "metadata": {},
     "output_type": "execute_result"
    }
   ],
   "source": [
    "# extracting all the tags where we have the experience required data\n",
    "\n",
    "locations_tags=driver.find_elements_by_xpath(\"//li[@class='fleft grey-text br2 placeHolderLi location']/span[1]\")\n",
    "locations_tags[0:10]"
   ]
  },
  {
   "cell_type": "code",
   "execution_count": 18,
   "id": "eaa748e3",
   "metadata": {},
   "outputs": [
    {
     "data": {
      "text/plain": [
       "['Bangalore/Bengaluru, karnataka',\n",
       " 'Bangalore/Bengaluru',\n",
       " 'Bangalore/Bengaluru(Old Madras Road)',\n",
       " 'Bangalore/Bengaluru',\n",
       " 'Bangalore/Bengaluru',\n",
       " 'Bangalore/Bengaluru',\n",
       " 'Bangalore/Bengaluru, Hyderabad/Secunderabad, Delhi / NCR',\n",
       " 'Bangalore/Bengaluru',\n",
       " 'Bangalore/Bengaluru, Noida, Hyderabad/Secunderabad, Gurgaon/Gurugram, Chennai, Mumbai (All Areas), Pune',\n",
       " 'Bangalore/Bengaluru']"
      ]
     },
     "execution_count": 18,
     "metadata": {},
     "output_type": "execute_result"
    }
   ],
   "source": [
    "# extracting the experience required\n",
    "\n",
    "for i in locations_tags:\n",
    "    location=i.text\n",
    "    locations_list.append(location)  \n",
    "\n",
    "locations_list[0:10]"
   ]
  },
  {
   "cell_type": "code",
   "execution_count": 19,
   "id": "4d7dcd88",
   "metadata": {},
   "outputs": [
    {
     "name": "stdout",
     "output_type": "stream",
     "text": [
      "20 20 20 20\n"
     ]
    }
   ],
   "source": [
    "# checking the length of each list\n",
    "\n",
    "print(len(job_titles),len(company_names),len(experience_list),len(locations_list))"
   ]
  },
  {
   "cell_type": "code",
   "execution_count": 20,
   "id": "653a99a7",
   "metadata": {},
   "outputs": [],
   "source": [
    "import pandas as pd"
   ]
  },
  {
   "cell_type": "code",
   "execution_count": 21,
   "id": "7b77a731",
   "metadata": {},
   "outputs": [],
   "source": [
    "# creating dataframe\n",
    "\n",
    "jobs=pd.DataFrame({})\n",
    "\n",
    "jobs['title']=job_titles\n",
    "jobs['company']=company_names\n",
    "jobs['experience_required']=experience_list\n",
    "jobs['locations']=locations_list"
   ]
  },
  {
   "cell_type": "code",
   "execution_count": 22,
   "id": "029ed51a",
   "metadata": {},
   "outputs": [
    {
     "data": {
      "text/html": [
       "<div>\n",
       "<style scoped>\n",
       "    .dataframe tbody tr th:only-of-type {\n",
       "        vertical-align: middle;\n",
       "    }\n",
       "\n",
       "    .dataframe tbody tr th {\n",
       "        vertical-align: top;\n",
       "    }\n",
       "\n",
       "    .dataframe thead th {\n",
       "        text-align: right;\n",
       "    }\n",
       "</style>\n",
       "<table border=\"1\" class=\"dataframe\">\n",
       "  <thead>\n",
       "    <tr style=\"text-align: right;\">\n",
       "      <th></th>\n",
       "      <th>title</th>\n",
       "      <th>company</th>\n",
       "      <th>experience_required</th>\n",
       "      <th>locations</th>\n",
       "    </tr>\n",
       "  </thead>\n",
       "  <tbody>\n",
       "    <tr>\n",
       "      <th>0</th>\n",
       "      <td>Sr.Business Data Analyst</td>\n",
       "      <td>Collabera</td>\n",
       "      <td>6-11 Yrs</td>\n",
       "      <td>Bangalore/Bengaluru, karnataka</td>\n",
       "    </tr>\n",
       "    <tr>\n",
       "      <th>1</th>\n",
       "      <td>Senior Data Analyst</td>\n",
       "      <td>Hudsons bay Company (HBC)</td>\n",
       "      <td>3-4 Yrs</td>\n",
       "      <td>Bangalore/Bengaluru</td>\n",
       "    </tr>\n",
       "    <tr>\n",
       "      <th>2</th>\n",
       "      <td>Senior Data Analyst</td>\n",
       "      <td>KrazyBee</td>\n",
       "      <td>3-6 Yrs</td>\n",
       "      <td>Bangalore/Bengaluru(Old Madras Road)</td>\n",
       "    </tr>\n",
       "    <tr>\n",
       "      <th>3</th>\n",
       "      <td>Master Data Management Business Analyst</td>\n",
       "      <td>Accenture</td>\n",
       "      <td>6-8 Yrs</td>\n",
       "      <td>Bangalore/Bengaluru</td>\n",
       "    </tr>\n",
       "    <tr>\n",
       "      <th>4</th>\n",
       "      <td>Sr Data Analyst</td>\n",
       "      <td>Thomson Reuters</td>\n",
       "      <td>5-8 Yrs</td>\n",
       "      <td>Bangalore/Bengaluru</td>\n",
       "    </tr>\n",
       "    <tr>\n",
       "      <th>5</th>\n",
       "      <td>Data Analyst - IIM/ISB/MDI/FMS/SP Jain</td>\n",
       "      <td>K12 Techno Services Pvt Ltd</td>\n",
       "      <td>4-9 Yrs</td>\n",
       "      <td>Bangalore/Bengaluru</td>\n",
       "    </tr>\n",
       "    <tr>\n",
       "      <th>6</th>\n",
       "      <td>Business Analyst/Data Analyst</td>\n",
       "      <td>Telamon HR Solutions</td>\n",
       "      <td>3-5 Yrs</td>\n",
       "      <td>Bangalore/Bengaluru, Hyderabad/Secunderabad, D...</td>\n",
       "    </tr>\n",
       "    <tr>\n",
       "      <th>7</th>\n",
       "      <td>Hiring For Data Analyst</td>\n",
       "      <td>Flipkart</td>\n",
       "      <td>2-5 Yrs</td>\n",
       "      <td>Bangalore/Bengaluru</td>\n",
       "    </tr>\n",
       "    <tr>\n",
       "      <th>8</th>\n",
       "      <td>Data Analyst</td>\n",
       "      <td>Wipro</td>\n",
       "      <td>4-9 Yrs</td>\n",
       "      <td>Bangalore/Bengaluru, Noida, Hyderabad/Secunder...</td>\n",
       "    </tr>\n",
       "    <tr>\n",
       "      <th>9</th>\n",
       "      <td>Associate Data Analyst</td>\n",
       "      <td>Optum</td>\n",
       "      <td>2-7 Yrs</td>\n",
       "      <td>Bangalore/Bengaluru</td>\n",
       "    </tr>\n",
       "  </tbody>\n",
       "</table>\n",
       "</div>"
      ],
      "text/plain": [
       "                                     title                      company  \\\n",
       "0                 Sr.Business Data Analyst                    Collabera   \n",
       "1                      Senior Data Analyst    Hudsons bay Company (HBC)   \n",
       "2                      Senior Data Analyst                     KrazyBee   \n",
       "3  Master Data Management Business Analyst                    Accenture   \n",
       "4                          Sr Data Analyst              Thomson Reuters   \n",
       "5   Data Analyst - IIM/ISB/MDI/FMS/SP Jain  K12 Techno Services Pvt Ltd   \n",
       "6            Business Analyst/Data Analyst         Telamon HR Solutions   \n",
       "7                  Hiring For Data Analyst                     Flipkart   \n",
       "8                             Data Analyst                        Wipro   \n",
       "9                   Associate Data Analyst                        Optum   \n",
       "\n",
       "  experience_required                                          locations  \n",
       "0            6-11 Yrs                     Bangalore/Bengaluru, karnataka  \n",
       "1             3-4 Yrs                                Bangalore/Bengaluru  \n",
       "2             3-6 Yrs               Bangalore/Bengaluru(Old Madras Road)  \n",
       "3             6-8 Yrs                                Bangalore/Bengaluru  \n",
       "4             5-8 Yrs                                Bangalore/Bengaluru  \n",
       "5             4-9 Yrs                                Bangalore/Bengaluru  \n",
       "6             3-5 Yrs  Bangalore/Bengaluru, Hyderabad/Secunderabad, D...  \n",
       "7             2-5 Yrs                                Bangalore/Bengaluru  \n",
       "8             4-9 Yrs  Bangalore/Bengaluru, Noida, Hyderabad/Secunder...  \n",
       "9             2-7 Yrs                                Bangalore/Bengaluru  "
      ]
     },
     "execution_count": 22,
     "metadata": {},
     "output_type": "execute_result"
    }
   ],
   "source": [
    "jobs[0:10]"
   ]
  },
  {
   "cell_type": "markdown",
   "id": "a6b1d8f8",
   "metadata": {},
   "source": [
    "Q3: You have to use the location and salary filter.\n",
    "You have to scrape data for “Data Scientist” designation for first 10 job results.\n",
    "You have to scrape the job-title, job-location, company name, experience required.\n",
    "The location filter to be used is “Delhi/NCR”. The salary filter to be used is “3-6” lakhs\n",
    "The task will be done as shown in the below steps:\n",
    "1. first get the webpage https://www.naukri.com/\n",
    "2. Enter “Data Scientist” in “Skill, Designations, and Companies” field.\n",
    "3. Then click the search button.\n",
    "4. Then apply the location filter and salary filter by checking the respective boxes\n",
    "5. Then scrape the data for the first 10 jobs results you get.\n",
    "6. Finally create a dataframe of the scraped data.\n"
   ]
  },
  {
   "cell_type": "code",
   "execution_count": 23,
   "id": "15e2ada1",
   "metadata": {},
   "outputs": [],
   "source": [
    "# lets now import all the required libraries\n",
    "\n",
    "import selenium\n",
    "import pandas as pd\n",
    "\n",
    "from selenium import webdriver\n",
    "import warnings\n",
    "warnings.filterwarnings('ignore')\n",
    "import time"
   ]
  },
  {
   "cell_type": "code",
   "execution_count": 24,
   "id": "77ca1b40",
   "metadata": {},
   "outputs": [],
   "source": [
    "# Lets first connect to the web driver\n",
    "\n",
    "driver=webdriver.Chrome(r\"C:\\Users\\Visual singh\\Downloads\\chromedriver_win32\\chromedriver.exe\")"
   ]
  },
  {
   "cell_type": "code",
   "execution_count": 25,
   "id": "920a5331",
   "metadata": {},
   "outputs": [],
   "source": [
    "link='http://www.naukri.com/'\n",
    "driver.get(link)"
   ]
  },
  {
   "cell_type": "code",
   "execution_count": 26,
   "id": "822b0ae1",
   "metadata": {},
   "outputs": [],
   "source": [
    "search_job=driver.find_element_by_class_name(\"suggestor-input\")"
   ]
  },
  {
   "cell_type": "code",
   "execution_count": 27,
   "id": "bf66bfbe",
   "metadata": {},
   "outputs": [],
   "source": [
    "# finding element for job search bar\n",
    "\n",
    "search_field_designation=driver.find_element_by_class_name('suggestor-input ')\n",
    "search_field_designation.send_keys('Data Scientist')\n",
    "search_field_location=driver.find_element_by_xpath('/html/body/div[1]/div[2]/div[3]/div/div/div[5]/div/div/div/input')\n",
    "search_field_location.send_keys('Delhi/NCR')"
   ]
  },
  {
   "cell_type": "code",
   "execution_count": 28,
   "id": "88933a39",
   "metadata": {},
   "outputs": [],
   "source": [
    "search_button=driver.find_element_by_xpath('/html/body/div[1]/div[2]/div[3]/div/div/div[6]')\n",
    "search_button.click()"
   ]
  },
  {
   "cell_type": "code",
   "execution_count": 29,
   "id": "7a322330",
   "metadata": {},
   "outputs": [],
   "source": [
    "salary_check = driver.find_element_by_xpath('/html/body/div[1]/div[3]/div[2]/section[1]/div[2]/div[5]/div[2]/div[2]/label/i')"
   ]
  },
  {
   "cell_type": "code",
   "execution_count": 30,
   "id": "6bb7e1f1",
   "metadata": {},
   "outputs": [],
   "source": [
    "salary_check.click()"
   ]
  },
  {
   "cell_type": "code",
   "execution_count": 31,
   "id": "de684672",
   "metadata": {},
   "outputs": [],
   "source": [
    "search_location=driver.find_element_by_xpath('/html/body/div[1]/div[3]/div[2]/section[1]/div[2]/div[13]/div[2]/div[3]/label/i')\n",
    "search_location.click()"
   ]
  },
  {
   "cell_type": "code",
   "execution_count": 32,
   "id": "76f14fa7",
   "metadata": {},
   "outputs": [],
   "source": [
    "# Creating empty list\n",
    "\n",
    "job_titles=[]\n",
    "company_names=[]\n",
    "locations_list=[]\n",
    "experience_list=[]"
   ]
  },
  {
   "cell_type": "code",
   "execution_count": 33,
   "id": "848c8a36",
   "metadata": {},
   "outputs": [
    {
     "data": {
      "text/plain": [
       "20"
      ]
     },
     "execution_count": 33,
     "metadata": {},
     "output_type": "execute_result"
    }
   ],
   "source": [
    "# extracting all the tags where we have the job titles\n",
    "\n",
    "titles_tags=driver.find_elements_by_xpath(\"//a[@class='title fw500 ellipsis']\")\n",
    "len(titles_tags)"
   ]
  },
  {
   "cell_type": "code",
   "execution_count": 34,
   "id": "b2f8e65e",
   "metadata": {},
   "outputs": [
    {
     "data": {
      "text/plain": [
       "[<selenium.webdriver.remote.webelement.WebElement (session=\"4117c56f43190093ee3e740e83946d8d\", element=\"965bbe20-ec91-449c-8d90-cf9bba361420\")>,\n",
       " <selenium.webdriver.remote.webelement.WebElement (session=\"4117c56f43190093ee3e740e83946d8d\", element=\"6329bf3c-0cfb-415b-af3f-f136fe1050ab\")>,\n",
       " <selenium.webdriver.remote.webelement.WebElement (session=\"4117c56f43190093ee3e740e83946d8d\", element=\"1bddd12a-18d3-4eeb-9dbe-d4995c6067bf\")>,\n",
       " <selenium.webdriver.remote.webelement.WebElement (session=\"4117c56f43190093ee3e740e83946d8d\", element=\"a5d05d68-e4cd-4360-ac57-a7e3b023d336\")>,\n",
       " <selenium.webdriver.remote.webelement.WebElement (session=\"4117c56f43190093ee3e740e83946d8d\", element=\"6e4647f0-350b-40c2-a041-334cded6f882\")>,\n",
       " <selenium.webdriver.remote.webelement.WebElement (session=\"4117c56f43190093ee3e740e83946d8d\", element=\"37ba3310-635a-4246-836a-969e90fe1e0c\")>,\n",
       " <selenium.webdriver.remote.webelement.WebElement (session=\"4117c56f43190093ee3e740e83946d8d\", element=\"ad79cc1a-09a4-42a9-bb7b-d73877b173c3\")>,\n",
       " <selenium.webdriver.remote.webelement.WebElement (session=\"4117c56f43190093ee3e740e83946d8d\", element=\"520df473-a5ba-4a54-8329-f87229664781\")>,\n",
       " <selenium.webdriver.remote.webelement.WebElement (session=\"4117c56f43190093ee3e740e83946d8d\", element=\"5f177e94-dcc3-4f1b-951f-589739409021\")>,\n",
       " <selenium.webdriver.remote.webelement.WebElement (session=\"4117c56f43190093ee3e740e83946d8d\", element=\"bc4e5b8b-de6e-4434-b5e0-3428911b6e9a\")>]"
      ]
     },
     "execution_count": 34,
     "metadata": {},
     "output_type": "execute_result"
    }
   ],
   "source": [
    "titles_tags[0:10]"
   ]
  },
  {
   "cell_type": "code",
   "execution_count": 35,
   "id": "a72ea1a6",
   "metadata": {},
   "outputs": [
    {
     "data": {
      "text/plain": [
       "['DigitalBCG GAMMA Data Scientist',\n",
       " 'Data Scientist - Noida/Bangalore',\n",
       " 'Senior Associate - Data Science',\n",
       " 'Data Scientist For Healthcare Product team',\n",
       " 'Data Scientist For Healthcare Product team',\n",
       " 'Data Scientist - Machine learning AI',\n",
       " 'Data Scientist - MIND Infotech',\n",
       " 'Data Scientist - Engine Algorithm',\n",
       " 'Knowledge/Data Scientist',\n",
       " 'Data Scientist']"
      ]
     },
     "execution_count": 35,
     "metadata": {},
     "output_type": "execute_result"
    }
   ],
   "source": [
    "# extracting all the job titles\n",
    "\n",
    "for i in titles_tags:\n",
    "    title=i.text\n",
    "    job_titles.append(title)  \n",
    "\n",
    "job_titles[0:10]"
   ]
  },
  {
   "cell_type": "raw",
   "id": "7652153f",
   "metadata": {},
   "source": [
    "Extracting Company Names"
   ]
  },
  {
   "cell_type": "code",
   "execution_count": 36,
   "id": "8557c5ec",
   "metadata": {},
   "outputs": [
    {
     "data": {
      "text/plain": [
       "[<selenium.webdriver.remote.webelement.WebElement (session=\"4117c56f43190093ee3e740e83946d8d\", element=\"55d2af5f-90f0-4997-bf6e-876e49184e7a\")>,\n",
       " <selenium.webdriver.remote.webelement.WebElement (session=\"4117c56f43190093ee3e740e83946d8d\", element=\"c0505767-aae8-4acd-a32d-644f2972456a\")>,\n",
       " <selenium.webdriver.remote.webelement.WebElement (session=\"4117c56f43190093ee3e740e83946d8d\", element=\"8663cb5c-f10d-488a-81ec-0c4d94c5c556\")>,\n",
       " <selenium.webdriver.remote.webelement.WebElement (session=\"4117c56f43190093ee3e740e83946d8d\", element=\"55597060-e13e-43fa-9580-90b60d49ae51\")>,\n",
       " <selenium.webdriver.remote.webelement.WebElement (session=\"4117c56f43190093ee3e740e83946d8d\", element=\"2c001336-87e3-474f-bd1a-68a6e8c58a83\")>,\n",
       " <selenium.webdriver.remote.webelement.WebElement (session=\"4117c56f43190093ee3e740e83946d8d\", element=\"f0c1f6bc-3ff5-4522-bcbf-eef50f000e6c\")>,\n",
       " <selenium.webdriver.remote.webelement.WebElement (session=\"4117c56f43190093ee3e740e83946d8d\", element=\"f3ec88fd-9c83-4053-b6de-0283624ad295\")>,\n",
       " <selenium.webdriver.remote.webelement.WebElement (session=\"4117c56f43190093ee3e740e83946d8d\", element=\"13dc591f-7253-4568-ac9d-ea10e9001207\")>,\n",
       " <selenium.webdriver.remote.webelement.WebElement (session=\"4117c56f43190093ee3e740e83946d8d\", element=\"b4546707-9378-43eb-85d3-af9f482d0672\")>,\n",
       " <selenium.webdriver.remote.webelement.WebElement (session=\"4117c56f43190093ee3e740e83946d8d\", element=\"c86cc376-c33d-4e4a-8240-264d8f6286c3\")>]"
      ]
     },
     "execution_count": 36,
     "metadata": {},
     "output_type": "execute_result"
    }
   ],
   "source": [
    "# extracting all the tags where we have the company names\n",
    "\n",
    "companies_tags=driver.find_elements_by_xpath(\"//a[@class='subTitle ellipsis fleft']\")\n",
    "companies_tags[0:10]"
   ]
  },
  {
   "cell_type": "code",
   "execution_count": 37,
   "id": "ea84ea6a",
   "metadata": {},
   "outputs": [
    {
     "data": {
      "text/plain": [
       "['Boston Consulting Group',\n",
       " 'EXL',\n",
       " 'Black Turtle',\n",
       " '8KMiles Software Services',\n",
       " '8KMiles Software Services',\n",
       " 'Teq Analytics',\n",
       " 'MOTHERSONSUMI INFOTECH & DESIGNS LIMITED',\n",
       " 'Primo Hiring',\n",
       " 'BOLD Technology Systems',\n",
       " 'Mount Talent Consulting Private Limited']"
      ]
     },
     "execution_count": 37,
     "metadata": {},
     "output_type": "execute_result"
    }
   ],
   "source": [
    "# extracting all the company names\n",
    "\n",
    "for i in companies_tags:\n",
    "    company_name=i.text\n",
    "    company_names.append(company_name)  \n",
    "\n",
    "company_names[0:10]"
   ]
  },
  {
   "cell_type": "raw",
   "id": "474b15b4",
   "metadata": {},
   "source": [
    "Extracting Required Experience"
   ]
  },
  {
   "cell_type": "code",
   "execution_count": 38,
   "id": "51ebd3dd",
   "metadata": {},
   "outputs": [
    {
     "data": {
      "text/plain": [
       "[<selenium.webdriver.remote.webelement.WebElement (session=\"4117c56f43190093ee3e740e83946d8d\", element=\"0fe5e7f2-ee38-4618-8d23-d19292f6a9df\")>,\n",
       " <selenium.webdriver.remote.webelement.WebElement (session=\"4117c56f43190093ee3e740e83946d8d\", element=\"e5304c9d-a45f-4536-bb17-72e6155428c5\")>,\n",
       " <selenium.webdriver.remote.webelement.WebElement (session=\"4117c56f43190093ee3e740e83946d8d\", element=\"b97c0d23-411b-42da-bf29-af0ad723b866\")>,\n",
       " <selenium.webdriver.remote.webelement.WebElement (session=\"4117c56f43190093ee3e740e83946d8d\", element=\"a9966c6e-9b17-4154-b23a-041e1c20f167\")>,\n",
       " <selenium.webdriver.remote.webelement.WebElement (session=\"4117c56f43190093ee3e740e83946d8d\", element=\"f67f6dad-166f-4080-ace7-0d6d965c6880\")>,\n",
       " <selenium.webdriver.remote.webelement.WebElement (session=\"4117c56f43190093ee3e740e83946d8d\", element=\"c9cf0a0e-3bdc-49f4-900a-de02410321c6\")>,\n",
       " <selenium.webdriver.remote.webelement.WebElement (session=\"4117c56f43190093ee3e740e83946d8d\", element=\"94f97d92-4617-4a8e-bcf9-24e6a1098d94\")>,\n",
       " <selenium.webdriver.remote.webelement.WebElement (session=\"4117c56f43190093ee3e740e83946d8d\", element=\"bdca0e00-e01b-4720-98b8-e1463c155f71\")>,\n",
       " <selenium.webdriver.remote.webelement.WebElement (session=\"4117c56f43190093ee3e740e83946d8d\", element=\"cdb46dae-2100-4d03-b44e-47b88c06ba11\")>,\n",
       " <selenium.webdriver.remote.webelement.WebElement (session=\"4117c56f43190093ee3e740e83946d8d\", element=\"3ccd19af-f692-44a9-bff2-b4710059639f\")>]"
      ]
     },
     "execution_count": 38,
     "metadata": {},
     "output_type": "execute_result"
    }
   ],
   "source": [
    "# extracting all the tags where we have the experience required data\n",
    "\n",
    "experience_tags=driver.find_elements_by_xpath(\"//li[@class='fleft grey-text br2 placeHolderLi experience']/span[1]\")\n",
    "experience_tags[0:10]"
   ]
  },
  {
   "cell_type": "code",
   "execution_count": 39,
   "id": "97d8a19c",
   "metadata": {},
   "outputs": [
    {
     "data": {
      "text/plain": [
       "['2-5 Yrs',\n",
       " '5-10 Yrs',\n",
       " '4-7 Yrs',\n",
       " '2-7 Yrs',\n",
       " '2-7 Yrs',\n",
       " '3-8 Yrs',\n",
       " '4-8 Yrs',\n",
       " '1-3 Yrs',\n",
       " '3-6 Yrs',\n",
       " '2-4 Yrs']"
      ]
     },
     "execution_count": 39,
     "metadata": {},
     "output_type": "execute_result"
    }
   ],
   "source": [
    "# extracting the experience required\n",
    "\n",
    "for i in experience_tags:\n",
    "    experience=i.text\n",
    "    experience_list.append(experience)  \n",
    "\n",
    "experience_list[0:10]"
   ]
  },
  {
   "cell_type": "raw",
   "id": "6ec88e22",
   "metadata": {},
   "source": [
    "Extracting Job Locations"
   ]
  },
  {
   "cell_type": "code",
   "execution_count": 40,
   "id": "f4dc5296",
   "metadata": {},
   "outputs": [
    {
     "data": {
      "text/plain": [
       "[<selenium.webdriver.remote.webelement.WebElement (session=\"4117c56f43190093ee3e740e83946d8d\", element=\"0276ae7f-2bd3-4ffa-b272-5354b06eb225\")>,\n",
       " <selenium.webdriver.remote.webelement.WebElement (session=\"4117c56f43190093ee3e740e83946d8d\", element=\"080b86da-1a54-4c4b-81e0-e3f0802100aa\")>,\n",
       " <selenium.webdriver.remote.webelement.WebElement (session=\"4117c56f43190093ee3e740e83946d8d\", element=\"d0104726-b8c0-4020-9cf5-c7fa2a4a8a06\")>,\n",
       " <selenium.webdriver.remote.webelement.WebElement (session=\"4117c56f43190093ee3e740e83946d8d\", element=\"693fa1e0-0c08-4103-8a02-46b410be9a03\")>,\n",
       " <selenium.webdriver.remote.webelement.WebElement (session=\"4117c56f43190093ee3e740e83946d8d\", element=\"e2aeb055-5555-4b96-b84a-4a02bd745fd7\")>,\n",
       " <selenium.webdriver.remote.webelement.WebElement (session=\"4117c56f43190093ee3e740e83946d8d\", element=\"1bd8b197-a1fe-4ddd-9b83-f456c4210c68\")>,\n",
       " <selenium.webdriver.remote.webelement.WebElement (session=\"4117c56f43190093ee3e740e83946d8d\", element=\"dd700bb3-ec33-46bc-b423-08c490011d69\")>,\n",
       " <selenium.webdriver.remote.webelement.WebElement (session=\"4117c56f43190093ee3e740e83946d8d\", element=\"58388f69-ec60-4a16-be51-4b684fc138fb\")>,\n",
       " <selenium.webdriver.remote.webelement.WebElement (session=\"4117c56f43190093ee3e740e83946d8d\", element=\"98f93e38-0f09-4f75-a14a-27fe1945f35b\")>,\n",
       " <selenium.webdriver.remote.webelement.WebElement (session=\"4117c56f43190093ee3e740e83946d8d\", element=\"0d93c18b-2c0c-4ecc-80e5-dacc5ecda4be\")>]"
      ]
     },
     "execution_count": 40,
     "metadata": {},
     "output_type": "execute_result"
    }
   ],
   "source": [
    "# extracting all the tags where we have the experience required data\n",
    "\n",
    "locations_tags=driver.find_elements_by_xpath(\"//li[@class='fleft grey-text br2 placeHolderLi location']/span[1]\")\n",
    "locations_tags[0:10]"
   ]
  },
  {
   "cell_type": "code",
   "execution_count": 41,
   "id": "a36d5b65",
   "metadata": {},
   "outputs": [
    {
     "data": {
      "text/plain": [
       "['New Delhi, Bangalore/Bengaluru',\n",
       " 'Noida, Bangalore/Bengaluru',\n",
       " 'Mumbai, Hyderabad/Secunderabad, Gurgaon/Gurugram, Bangalore/Bengaluru',\n",
       " 'Delhi / NCR, Chennai, Bangalore/Bengaluru',\n",
       " 'Delhi / NCR, Chennai, Bangalore/Bengaluru',\n",
       " 'Delhi / NCR, Bangalore/Bengaluru, Mumbai (All Areas)',\n",
       " 'Noida',\n",
       " 'Delhi / NCR, Kolkata, Mumbai, Hyderabad/Secunderabad, Lucknow, Chennai, Ahmedabad, Bangalore/Bengaluru',\n",
       " 'Delhi / NCR',\n",
       " 'Delhi / NCR, Pune, Bangalore/Bengaluru']"
      ]
     },
     "execution_count": 41,
     "metadata": {},
     "output_type": "execute_result"
    }
   ],
   "source": [
    "# extracting the experience required\n",
    "\n",
    "for i in locations_tags:\n",
    "    location=i.text\n",
    "    locations_list.append(location)  \n",
    "\n",
    "locations_list[0:10]"
   ]
  },
  {
   "cell_type": "code",
   "execution_count": 42,
   "id": "57bc4996",
   "metadata": {},
   "outputs": [
    {
     "name": "stdout",
     "output_type": "stream",
     "text": [
      "20 20 20 20\n"
     ]
    }
   ],
   "source": [
    "# checking the length of each list\n",
    "\n",
    "print(len(job_titles),len(company_names),len(experience_list),len(locations_list))"
   ]
  },
  {
   "cell_type": "code",
   "execution_count": 43,
   "id": "f0de6303",
   "metadata": {},
   "outputs": [],
   "source": [
    "# creating dataframe\n",
    "\n",
    "jobs=pd.DataFrame({})\n",
    "\n",
    "jobs['title']=job_titles\n",
    "jobs['company']=company_names\n",
    "jobs['experience_required']=experience_list\n",
    "jobs['locations']=locations_list"
   ]
  },
  {
   "cell_type": "code",
   "execution_count": 44,
   "id": "beb49940",
   "metadata": {},
   "outputs": [
    {
     "data": {
      "text/html": [
       "<div>\n",
       "<style scoped>\n",
       "    .dataframe tbody tr th:only-of-type {\n",
       "        vertical-align: middle;\n",
       "    }\n",
       "\n",
       "    .dataframe tbody tr th {\n",
       "        vertical-align: top;\n",
       "    }\n",
       "\n",
       "    .dataframe thead th {\n",
       "        text-align: right;\n",
       "    }\n",
       "</style>\n",
       "<table border=\"1\" class=\"dataframe\">\n",
       "  <thead>\n",
       "    <tr style=\"text-align: right;\">\n",
       "      <th></th>\n",
       "      <th>title</th>\n",
       "      <th>company</th>\n",
       "      <th>experience_required</th>\n",
       "      <th>locations</th>\n",
       "    </tr>\n",
       "  </thead>\n",
       "  <tbody>\n",
       "    <tr>\n",
       "      <th>0</th>\n",
       "      <td>DigitalBCG GAMMA Data Scientist</td>\n",
       "      <td>Boston Consulting Group</td>\n",
       "      <td>2-5 Yrs</td>\n",
       "      <td>New Delhi, Bangalore/Bengaluru</td>\n",
       "    </tr>\n",
       "    <tr>\n",
       "      <th>1</th>\n",
       "      <td>Data Scientist - Noida/Bangalore</td>\n",
       "      <td>EXL</td>\n",
       "      <td>5-10 Yrs</td>\n",
       "      <td>Noida, Bangalore/Bengaluru</td>\n",
       "    </tr>\n",
       "    <tr>\n",
       "      <th>2</th>\n",
       "      <td>Senior Associate - Data Science</td>\n",
       "      <td>Black Turtle</td>\n",
       "      <td>4-7 Yrs</td>\n",
       "      <td>Mumbai, Hyderabad/Secunderabad, Gurgaon/Gurugr...</td>\n",
       "    </tr>\n",
       "    <tr>\n",
       "      <th>3</th>\n",
       "      <td>Data Scientist For Healthcare Product team</td>\n",
       "      <td>8KMiles Software Services</td>\n",
       "      <td>2-7 Yrs</td>\n",
       "      <td>Delhi / NCR, Chennai, Bangalore/Bengaluru</td>\n",
       "    </tr>\n",
       "    <tr>\n",
       "      <th>4</th>\n",
       "      <td>Data Scientist For Healthcare Product team</td>\n",
       "      <td>8KMiles Software Services</td>\n",
       "      <td>2-7 Yrs</td>\n",
       "      <td>Delhi / NCR, Chennai, Bangalore/Bengaluru</td>\n",
       "    </tr>\n",
       "    <tr>\n",
       "      <th>5</th>\n",
       "      <td>Data Scientist - Machine learning AI</td>\n",
       "      <td>Teq Analytics</td>\n",
       "      <td>3-8 Yrs</td>\n",
       "      <td>Delhi / NCR, Bangalore/Bengaluru, Mumbai (All ...</td>\n",
       "    </tr>\n",
       "    <tr>\n",
       "      <th>6</th>\n",
       "      <td>Data Scientist - MIND Infotech</td>\n",
       "      <td>MOTHERSONSUMI INFOTECH &amp; DESIGNS LIMITED</td>\n",
       "      <td>4-8 Yrs</td>\n",
       "      <td>Noida</td>\n",
       "    </tr>\n",
       "    <tr>\n",
       "      <th>7</th>\n",
       "      <td>Data Scientist - Engine Algorithm</td>\n",
       "      <td>Primo Hiring</td>\n",
       "      <td>1-3 Yrs</td>\n",
       "      <td>Delhi / NCR, Kolkata, Mumbai, Hyderabad/Secund...</td>\n",
       "    </tr>\n",
       "    <tr>\n",
       "      <th>8</th>\n",
       "      <td>Knowledge/Data Scientist</td>\n",
       "      <td>BOLD Technology Systems</td>\n",
       "      <td>3-6 Yrs</td>\n",
       "      <td>Delhi / NCR</td>\n",
       "    </tr>\n",
       "    <tr>\n",
       "      <th>9</th>\n",
       "      <td>Data Scientist</td>\n",
       "      <td>Mount Talent Consulting Private Limited</td>\n",
       "      <td>2-4 Yrs</td>\n",
       "      <td>Delhi / NCR, Pune, Bangalore/Bengaluru</td>\n",
       "    </tr>\n",
       "  </tbody>\n",
       "</table>\n",
       "</div>"
      ],
      "text/plain": [
       "                                        title  \\\n",
       "0             DigitalBCG GAMMA Data Scientist   \n",
       "1            Data Scientist - Noida/Bangalore   \n",
       "2             Senior Associate - Data Science   \n",
       "3  Data Scientist For Healthcare Product team   \n",
       "4  Data Scientist For Healthcare Product team   \n",
       "5        Data Scientist - Machine learning AI   \n",
       "6              Data Scientist - MIND Infotech   \n",
       "7           Data Scientist - Engine Algorithm   \n",
       "8                    Knowledge/Data Scientist   \n",
       "9                              Data Scientist   \n",
       "\n",
       "                                    company experience_required  \\\n",
       "0                   Boston Consulting Group             2-5 Yrs   \n",
       "1                                       EXL            5-10 Yrs   \n",
       "2                              Black Turtle             4-7 Yrs   \n",
       "3                 8KMiles Software Services             2-7 Yrs   \n",
       "4                 8KMiles Software Services             2-7 Yrs   \n",
       "5                             Teq Analytics             3-8 Yrs   \n",
       "6  MOTHERSONSUMI INFOTECH & DESIGNS LIMITED             4-8 Yrs   \n",
       "7                              Primo Hiring             1-3 Yrs   \n",
       "8                   BOLD Technology Systems             3-6 Yrs   \n",
       "9   Mount Talent Consulting Private Limited             2-4 Yrs   \n",
       "\n",
       "                                           locations  \n",
       "0                     New Delhi, Bangalore/Bengaluru  \n",
       "1                         Noida, Bangalore/Bengaluru  \n",
       "2  Mumbai, Hyderabad/Secunderabad, Gurgaon/Gurugr...  \n",
       "3          Delhi / NCR, Chennai, Bangalore/Bengaluru  \n",
       "4          Delhi / NCR, Chennai, Bangalore/Bengaluru  \n",
       "5  Delhi / NCR, Bangalore/Bengaluru, Mumbai (All ...  \n",
       "6                                              Noida  \n",
       "7  Delhi / NCR, Kolkata, Mumbai, Hyderabad/Secund...  \n",
       "8                                        Delhi / NCR  \n",
       "9             Delhi / NCR, Pune, Bangalore/Bengaluru  "
      ]
     },
     "execution_count": 44,
     "metadata": {},
     "output_type": "execute_result"
    }
   ],
   "source": [
    "jobs[0:10]"
   ]
  },
  {
   "cell_type": "markdown",
   "id": "edcd4eac",
   "metadata": {},
   "source": [
    "Q4: Scrape data of first 100 sunglasses listings on flipkart.com. You have to scrape four attributes:\n",
    "1. Brand\n",
    "2. Product Description\n",
    "3. Price\n",
    "The attributes which you have to scrape is ticked marked in the below image."
   ]
  },
  {
   "cell_type": "code",
   "execution_count": 45,
   "id": "84a17c57",
   "metadata": {},
   "outputs": [],
   "source": [
    "# Lets first connect to the web driver\n",
    "\n",
    "driver=webdriver.Chrome(r\"C:\\Users\\Visual singh\\Downloads\\chromedriver_win32\\chromedriver.exe\")"
   ]
  },
  {
   "cell_type": "code",
   "execution_count": 46,
   "id": "aaaaf7b4",
   "metadata": {},
   "outputs": [],
   "source": [
    "website='https://www.flipkart.com/'\n",
    "driver.get(website)"
   ]
  },
  {
   "cell_type": "code",
   "execution_count": 47,
   "id": "bbe31e07",
   "metadata": {},
   "outputs": [],
   "source": [
    "search_field_sunglasses=driver.find_element_by_class_name(\"_3704LK\")"
   ]
  },
  {
   "cell_type": "code",
   "execution_count": 48,
   "id": "1bc7fadb",
   "metadata": {},
   "outputs": [],
   "source": [
    "# finding element for sunglasses search bar\n",
    "\n",
    "search_field_sunglasses=driver.find_element_by_class_name('_3704LK')\n",
    "search_field_sunglasses.send_keys('sunglasses')"
   ]
  },
  {
   "cell_type": "code",
   "execution_count": 50,
   "id": "ac209307",
   "metadata": {},
   "outputs": [],
   "source": [
    "search_button=driver.find_element_by_xpath('/html/body/div[1]/div/div[1]/div[1]/div[2]/div[2]/form/div/button')\n",
    "search_button.click()"
   ]
  },
  {
   "cell_type": "code",
   "execution_count": 51,
   "id": "4376ec73",
   "metadata": {},
   "outputs": [],
   "source": [
    "# Creating empty list\n",
    "\n",
    "Brand=[]\n",
    "Product_Description=[]\n",
    "Price=[]\n",
    "Discounts=[]"
   ]
  },
  {
   "cell_type": "markdown",
   "id": "325223e7",
   "metadata": {},
   "source": [
    "# #Page - 1"
   ]
  },
  {
   "cell_type": "raw",
   "id": "28fb2d79",
   "metadata": {},
   "source": [
    "Extracting Brand"
   ]
  },
  {
   "cell_type": "code",
   "execution_count": 52,
   "id": "47cba26e",
   "metadata": {},
   "outputs": [
    {
     "data": {
      "text/plain": [
       "40"
      ]
     },
     "execution_count": 52,
     "metadata": {},
     "output_type": "execute_result"
    }
   ],
   "source": [
    "Brand_tag=driver.find_elements_by_xpath('//div[@class=\"_2WkVRV\"]')\n",
    "len(Brand_tag)"
   ]
  },
  {
   "cell_type": "code",
   "execution_count": 53,
   "id": "ceb655dc",
   "metadata": {},
   "outputs": [
    {
     "data": {
      "text/plain": [
       "40"
      ]
     },
     "execution_count": 53,
     "metadata": {},
     "output_type": "execute_result"
    }
   ],
   "source": [
    "\n",
    "Brand = []\n",
    "for i in Brand_tag:\n",
    "    Brand.append(i.text)  \n",
    "\n",
    "len(Brand)"
   ]
  },
  {
   "cell_type": "code",
   "execution_count": 54,
   "id": "5f2f11a0",
   "metadata": {},
   "outputs": [
    {
     "data": {
      "text/plain": [
       "['VINCENT CHASE',\n",
       " 'Roadster',\n",
       " 'DAHAAZIL',\n",
       " 'New Specs',\n",
       " 'Fastrack',\n",
       " 'Elligator',\n",
       " 'PIRASO',\n",
       " 'povty',\n",
       " 'SUNBEE',\n",
       " 'SRPM',\n",
       " 'PIRASO',\n",
       " 'ROZZETTA CRAFT',\n",
       " 'SHAAH COLLECTIONS',\n",
       " 'Fastrack',\n",
       " 'PIRASO',\n",
       " 'hipe',\n",
       " 'PIRASO',\n",
       " 'ROZZETTA CRAFT',\n",
       " 'Lee Topper',\n",
       " 'ROYAL SON',\n",
       " 'SUNBEE',\n",
       " 'Fastrack',\n",
       " 'SHAAH COLLECTIONS',\n",
       " 'ROZZETTA CRAFT',\n",
       " 'ROZZETTA CRAFT',\n",
       " 'PIRASO',\n",
       " 'CRYSTAL CART',\n",
       " 'GANSTA',\n",
       " 'PIRASO',\n",
       " 'Hamiw',\n",
       " 'Sewell',\n",
       " 'Arnette',\n",
       " 'New Specs',\n",
       " 'CRYSTAL CART',\n",
       " 'ROYAL SON',\n",
       " 'ROYAL SON',\n",
       " 'NuVew',\n",
       " 'Fastrack',\n",
       " 'Fastrack',\n",
       " 'IZAAN MART']"
      ]
     },
     "execution_count": 54,
     "metadata": {},
     "output_type": "execute_result"
    }
   ],
   "source": [
    "Brand[0:100]"
   ]
  },
  {
   "cell_type": "raw",
   "id": "13e7aef4",
   "metadata": {},
   "source": [
    "Product Description"
   ]
  },
  {
   "cell_type": "code",
   "execution_count": 55,
   "id": "9ca238e4",
   "metadata": {},
   "outputs": [
    {
     "data": {
      "text/plain": [
       "40"
      ]
     },
     "execution_count": 55,
     "metadata": {},
     "output_type": "execute_result"
    }
   ],
   "source": [
    "Description_tag=driver.find_elements_by_xpath('//a[@class=\"IRpwTa\"]')\n",
    "len(Description_tag)"
   ]
  },
  {
   "cell_type": "code",
   "execution_count": 56,
   "id": "f26a420a",
   "metadata": {},
   "outputs": [
    {
     "data": {
      "text/plain": [
       "40"
      ]
     },
     "execution_count": 56,
     "metadata": {},
     "output_type": "execute_result"
    }
   ],
   "source": [
    "Product_Description  = []\n",
    "for i in Description_tag:\n",
    "    Product_Description.append(i.text)  \n",
    "\n",
    "len(Product_Description)"
   ]
  },
  {
   "cell_type": "code",
   "execution_count": 57,
   "id": "fc9d393c",
   "metadata": {},
   "outputs": [
    {
     "data": {
      "text/plain": [
       "['by Lenskart Polarized, UV Protection Rectangular Sungla...',\n",
       " 'Others Aviator Sunglasses (Free Size)',\n",
       " 'UV Protection, Night Vision, Riding Glasses Wayfarer, W...',\n",
       " 'UV Protection Rectangular Sunglasses (Free Size)',\n",
       " 'UV Protection Rectangular Sunglasses (Free Size)',\n",
       " 'UV Protection Round Sunglasses (54)',\n",
       " 'UV Protection Aviator Sunglasses (54)',\n",
       " 'UV Protection Retro Square Sunglasses (Free Size)',\n",
       " 'UV Protection, Polarized Wayfarer Sunglasses (Free Size...',\n",
       " 'UV Protection Wayfarer Sunglasses (50)',\n",
       " 'UV Protection Aviator Sunglasses (54)',\n",
       " 'UV Protection Spectacle Sunglasses (Free Size)',\n",
       " 'UV Protection, Polarized, Mirrored Rectangular Sunglass...',\n",
       " 'UV Protection Wayfarer Sunglasses (Free Size)',\n",
       " 'UV Protection Retro Square Sunglasses (52)',\n",
       " 'Mirrored Wayfarer Sunglasses (55)',\n",
       " 'UV Protection Aviator Sunglasses (58)',\n",
       " 'UV Protection, Gradient Retro Square Sunglasses (Free S...',\n",
       " 'Riding Glasses Wrap-around Sunglasses (Free Size)',\n",
       " 'UV Protection Retro Square Sunglasses (55)',\n",
       " 'UV Protection, Polarized, Mirrored Retro Square Sunglas...',\n",
       " 'UV Protection Aviator Sunglasses (Free Size)',\n",
       " 'UV Protection Round Sunglasses (Free Size)',\n",
       " 'UV Protection Aviator Sunglasses (62)',\n",
       " 'Polarized, Riding Glasses Sports, Wrap-around Sunglasse...',\n",
       " 'UV Protection Wayfarer Sunglasses (32)',\n",
       " 'Mirrored, Night Vision Oval Sunglasses (Free Size)',\n",
       " 'UV Protection Aviator Sunglasses (57)',\n",
       " 'UV Protection Aviator Sunglasses (54)',\n",
       " 'UV Protection, Riding Glasses Round Sunglasses (Free Si...',\n",
       " 'Mirrored, Night Vision, UV Protection, Riding Glasses S...',\n",
       " 'Others Oval Sunglasses (53)',\n",
       " 'Mirrored, UV Protection, Riding Glasses, Others Round S...',\n",
       " 'Polarized, UV Protection, Mirrored, Gradient Rectangula...',\n",
       " 'Mirrored Aviator Sunglasses (55)',\n",
       " 'Polarized, UV Protection Wrap-around Sunglasses (62)',\n",
       " 'UV Protection Sports Sunglasses (62)',\n",
       " 'UV Protection Wayfarer Sunglasses (Free Size)',\n",
       " 'Gradient, UV Protection Wayfarer Sunglasses (Free Size)',\n",
       " 'Mirrored, Gradient Cat-eye Sunglasses (Free Size)']"
      ]
     },
     "execution_count": 57,
     "metadata": {},
     "output_type": "execute_result"
    }
   ],
   "source": [
    "Product_Description[0:100]"
   ]
  },
  {
   "cell_type": "raw",
   "id": "b93beabb",
   "metadata": {},
   "source": [
    "Extracting Price"
   ]
  },
  {
   "cell_type": "code",
   "execution_count": 58,
   "id": "9f3c4823",
   "metadata": {},
   "outputs": [
    {
     "data": {
      "text/plain": [
       "40"
      ]
     },
     "execution_count": 58,
     "metadata": {},
     "output_type": "execute_result"
    }
   ],
   "source": [
    "# extracting Price\n",
    "\n",
    "Price_tags=driver.find_elements_by_xpath(\"//div[@class='_3I9_wc']\")\n",
    "len(Price_tags)"
   ]
  },
  {
   "cell_type": "code",
   "execution_count": 59,
   "id": "c8e1c54e",
   "metadata": {
    "scrolled": true
   },
   "outputs": [
    {
     "data": {
      "text/plain": [
       "[<selenium.webdriver.remote.webelement.WebElement (session=\"2a828a0c4b154e1f5069c500cd78843d\", element=\"728b978e-f0c8-4439-89a4-ad145bbd88e0\")>,\n",
       " <selenium.webdriver.remote.webelement.WebElement (session=\"2a828a0c4b154e1f5069c500cd78843d\", element=\"1027d496-6740-4558-bba3-64384297c165\")>,\n",
       " <selenium.webdriver.remote.webelement.WebElement (session=\"2a828a0c4b154e1f5069c500cd78843d\", element=\"1fdcbcdc-3179-408c-9e88-5df5e8a85731\")>,\n",
       " <selenium.webdriver.remote.webelement.WebElement (session=\"2a828a0c4b154e1f5069c500cd78843d\", element=\"df27ea6d-8dfa-4e6f-9513-2b6759f55c1f\")>,\n",
       " <selenium.webdriver.remote.webelement.WebElement (session=\"2a828a0c4b154e1f5069c500cd78843d\", element=\"7f7981a0-f809-4380-89be-854628db30a0\")>,\n",
       " <selenium.webdriver.remote.webelement.WebElement (session=\"2a828a0c4b154e1f5069c500cd78843d\", element=\"7c2021d5-b336-4e2d-b81d-d82f112a43e1\")>,\n",
       " <selenium.webdriver.remote.webelement.WebElement (session=\"2a828a0c4b154e1f5069c500cd78843d\", element=\"ae8366ea-fd9d-49ca-a15e-cae9437372ae\")>,\n",
       " <selenium.webdriver.remote.webelement.WebElement (session=\"2a828a0c4b154e1f5069c500cd78843d\", element=\"1e975981-864d-4a5c-9855-d4768bba3c9d\")>,\n",
       " <selenium.webdriver.remote.webelement.WebElement (session=\"2a828a0c4b154e1f5069c500cd78843d\", element=\"200654cc-b821-4197-9de9-8522045e05ec\")>,\n",
       " <selenium.webdriver.remote.webelement.WebElement (session=\"2a828a0c4b154e1f5069c500cd78843d\", element=\"ceeed552-ff2d-416a-b705-54d7fff30322\")>,\n",
       " <selenium.webdriver.remote.webelement.WebElement (session=\"2a828a0c4b154e1f5069c500cd78843d\", element=\"2ce5a9db-7064-4804-9d5f-d6052d395da4\")>,\n",
       " <selenium.webdriver.remote.webelement.WebElement (session=\"2a828a0c4b154e1f5069c500cd78843d\", element=\"000e004d-9a29-4521-afb8-ab6c92436a74\")>,\n",
       " <selenium.webdriver.remote.webelement.WebElement (session=\"2a828a0c4b154e1f5069c500cd78843d\", element=\"2ef37d3c-cc42-4666-b11e-d5440baa4de5\")>,\n",
       " <selenium.webdriver.remote.webelement.WebElement (session=\"2a828a0c4b154e1f5069c500cd78843d\", element=\"501125ea-5d86-4542-a65e-d633673a60f7\")>,\n",
       " <selenium.webdriver.remote.webelement.WebElement (session=\"2a828a0c4b154e1f5069c500cd78843d\", element=\"21894176-d9a0-4365-832f-a7b9e5af8393\")>,\n",
       " <selenium.webdriver.remote.webelement.WebElement (session=\"2a828a0c4b154e1f5069c500cd78843d\", element=\"15a1a3dc-c969-4112-b17a-9008bc068fe0\")>,\n",
       " <selenium.webdriver.remote.webelement.WebElement (session=\"2a828a0c4b154e1f5069c500cd78843d\", element=\"951a6407-4af1-4e38-8962-5738d4f34bc5\")>,\n",
       " <selenium.webdriver.remote.webelement.WebElement (session=\"2a828a0c4b154e1f5069c500cd78843d\", element=\"548c4ff2-15f5-4080-ba78-35548d997ea4\")>,\n",
       " <selenium.webdriver.remote.webelement.WebElement (session=\"2a828a0c4b154e1f5069c500cd78843d\", element=\"340ac5a6-49bb-4a5d-91bf-3a9a1ec8385a\")>,\n",
       " <selenium.webdriver.remote.webelement.WebElement (session=\"2a828a0c4b154e1f5069c500cd78843d\", element=\"b23f4bbe-6de2-473b-9798-d2bd1b64f531\")>,\n",
       " <selenium.webdriver.remote.webelement.WebElement (session=\"2a828a0c4b154e1f5069c500cd78843d\", element=\"c1ecd8c6-8f5b-4ce5-96ef-6d6111482389\")>,\n",
       " <selenium.webdriver.remote.webelement.WebElement (session=\"2a828a0c4b154e1f5069c500cd78843d\", element=\"7c8957be-b003-44bf-8b78-f7eccae9764b\")>,\n",
       " <selenium.webdriver.remote.webelement.WebElement (session=\"2a828a0c4b154e1f5069c500cd78843d\", element=\"e513ba6b-232c-4283-adfe-b011a8de9118\")>,\n",
       " <selenium.webdriver.remote.webelement.WebElement (session=\"2a828a0c4b154e1f5069c500cd78843d\", element=\"b3723ed1-fa02-4066-9692-f0baee06ae0b\")>,\n",
       " <selenium.webdriver.remote.webelement.WebElement (session=\"2a828a0c4b154e1f5069c500cd78843d\", element=\"4d26963d-ef68-4197-b504-a2a7bb5885cb\")>,\n",
       " <selenium.webdriver.remote.webelement.WebElement (session=\"2a828a0c4b154e1f5069c500cd78843d\", element=\"48bf6a6a-fa4a-44f2-b2b5-189c07845fec\")>,\n",
       " <selenium.webdriver.remote.webelement.WebElement (session=\"2a828a0c4b154e1f5069c500cd78843d\", element=\"0cf00f92-e74b-4242-8354-de0c31cb55af\")>,\n",
       " <selenium.webdriver.remote.webelement.WebElement (session=\"2a828a0c4b154e1f5069c500cd78843d\", element=\"06fe5d85-f79d-4a8a-8b15-e755236dcd51\")>,\n",
       " <selenium.webdriver.remote.webelement.WebElement (session=\"2a828a0c4b154e1f5069c500cd78843d\", element=\"9784bd0d-3c6a-4eae-a02f-3bba59c5dc59\")>,\n",
       " <selenium.webdriver.remote.webelement.WebElement (session=\"2a828a0c4b154e1f5069c500cd78843d\", element=\"725baab4-00d2-4437-8bbb-734dc39c9fa7\")>,\n",
       " <selenium.webdriver.remote.webelement.WebElement (session=\"2a828a0c4b154e1f5069c500cd78843d\", element=\"ec6d0789-69d0-4737-b028-66b891539217\")>,\n",
       " <selenium.webdriver.remote.webelement.WebElement (session=\"2a828a0c4b154e1f5069c500cd78843d\", element=\"d373b092-9d69-4dcd-97ae-ffc8b80be04f\")>,\n",
       " <selenium.webdriver.remote.webelement.WebElement (session=\"2a828a0c4b154e1f5069c500cd78843d\", element=\"547af62c-dc91-49a9-ab08-b657a2956ff1\")>,\n",
       " <selenium.webdriver.remote.webelement.WebElement (session=\"2a828a0c4b154e1f5069c500cd78843d\", element=\"d50e848b-0bb7-4dd1-8803-5ac64fa8db21\")>,\n",
       " <selenium.webdriver.remote.webelement.WebElement (session=\"2a828a0c4b154e1f5069c500cd78843d\", element=\"d6acb1c7-bfb6-43cd-9a48-0b566baead98\")>,\n",
       " <selenium.webdriver.remote.webelement.WebElement (session=\"2a828a0c4b154e1f5069c500cd78843d\", element=\"249f0783-853f-4f6e-89f0-de6f7f3a5495\")>,\n",
       " <selenium.webdriver.remote.webelement.WebElement (session=\"2a828a0c4b154e1f5069c500cd78843d\", element=\"519b14ad-6f7e-4e6a-8ffc-68c1378e369d\")>,\n",
       " <selenium.webdriver.remote.webelement.WebElement (session=\"2a828a0c4b154e1f5069c500cd78843d\", element=\"3d8a001c-0fa7-4148-bbd1-6ca51ea9243a\")>,\n",
       " <selenium.webdriver.remote.webelement.WebElement (session=\"2a828a0c4b154e1f5069c500cd78843d\", element=\"f9386799-9141-44e8-a6a9-ff10b94ff9d1\")>,\n",
       " <selenium.webdriver.remote.webelement.WebElement (session=\"2a828a0c4b154e1f5069c500cd78843d\", element=\"4c357256-fbfd-47dd-b50a-ceab81ffb64c\")>]"
      ]
     },
     "execution_count": 59,
     "metadata": {},
     "output_type": "execute_result"
    }
   ],
   "source": [
    "Price_tags[0:100]"
   ]
  },
  {
   "cell_type": "code",
   "execution_count": 60,
   "id": "0ed685da",
   "metadata": {},
   "outputs": [
    {
     "data": {
      "text/plain": [
       "['₹1,999',\n",
       " '₹999',\n",
       " '₹999',\n",
       " '₹2,599',\n",
       " '₹799',\n",
       " '₹2,495',\n",
       " '₹1,599',\n",
       " '₹999',\n",
       " '₹1,299',\n",
       " '₹1,299',\n",
       " '₹1,599',\n",
       " '₹1,999',\n",
       " '₹1,699',\n",
       " '₹999',\n",
       " '₹2,599',\n",
       " '₹999',\n",
       " '₹2,599',\n",
       " '₹1,999',\n",
       " '₹2,499',\n",
       " '₹1,999',\n",
       " '₹1,299',\n",
       " '₹799',\n",
       " '₹1,299',\n",
       " '₹2,555',\n",
       " '₹1,999',\n",
       " '₹1,599',\n",
       " '₹599',\n",
       " '₹1,999',\n",
       " '₹1,599',\n",
       " '₹1,499',\n",
       " '₹1,499',\n",
       " '₹6,390',\n",
       " '₹1,599',\n",
       " '₹2,099',\n",
       " '₹1,499',\n",
       " '₹1,999',\n",
       " '₹1,245',\n",
       " '₹899',\n",
       " '₹899',\n",
       " '₹699']"
      ]
     },
     "execution_count": 60,
     "metadata": {},
     "output_type": "execute_result"
    }
   ],
   "source": [
    "# extracting all the price\n",
    "\n",
    "for i in Price_tags:\n",
    "    Prices=i.text\n",
    "    Price.append(Prices)  \n",
    "\n",
    "Price[0:100]"
   ]
  },
  {
   "cell_type": "raw",
   "id": "66a7091d",
   "metadata": {},
   "source": [
    "Extracting Discounts"
   ]
  },
  {
   "cell_type": "code",
   "execution_count": 61,
   "id": "bdd98350",
   "metadata": {},
   "outputs": [
    {
     "data": {
      "text/plain": [
       "40"
      ]
     },
     "execution_count": 61,
     "metadata": {},
     "output_type": "execute_result"
    }
   ],
   "source": [
    "# extracting discount\n",
    "\n",
    "Price_tags=driver.find_elements_by_xpath(\"//div[@class='_3Ay6Sb']\")\n",
    "len(Price_tags)"
   ]
  },
  {
   "cell_type": "code",
   "execution_count": 62,
   "id": "ab5ccf06",
   "metadata": {},
   "outputs": [
    {
     "data": {
      "text/plain": [
       "40"
      ]
     },
     "execution_count": 62,
     "metadata": {},
     "output_type": "execute_result"
    }
   ],
   "source": [
    "# extracting discount\n",
    "\n",
    "discount_tags=driver.find_elements_by_xpath(\"//div[@class='_3Ay6Sb']\")\n",
    "len(discount_tags)"
   ]
  },
  {
   "cell_type": "code",
   "execution_count": 63,
   "id": "299f8f99",
   "metadata": {},
   "outputs": [
    {
     "data": {
      "text/plain": [
       "[<selenium.webdriver.remote.webelement.WebElement (session=\"2a828a0c4b154e1f5069c500cd78843d\", element=\"27e28cf4-3689-4f11-899f-d7bd8e46af14\")>,\n",
       " <selenium.webdriver.remote.webelement.WebElement (session=\"2a828a0c4b154e1f5069c500cd78843d\", element=\"1600e96e-89b5-4bec-88c2-c1c5f8303949\")>,\n",
       " <selenium.webdriver.remote.webelement.WebElement (session=\"2a828a0c4b154e1f5069c500cd78843d\", element=\"632121b2-2f7a-44e0-829e-bb913af508c5\")>,\n",
       " <selenium.webdriver.remote.webelement.WebElement (session=\"2a828a0c4b154e1f5069c500cd78843d\", element=\"eb56f6eb-d7f0-4d2d-84ff-3df174fa22fb\")>,\n",
       " <selenium.webdriver.remote.webelement.WebElement (session=\"2a828a0c4b154e1f5069c500cd78843d\", element=\"c7c75b07-f83d-4eea-a752-7b86835275a4\")>,\n",
       " <selenium.webdriver.remote.webelement.WebElement (session=\"2a828a0c4b154e1f5069c500cd78843d\", element=\"8253e9ca-8e0c-4e52-8072-d5aeac3246a7\")>,\n",
       " <selenium.webdriver.remote.webelement.WebElement (session=\"2a828a0c4b154e1f5069c500cd78843d\", element=\"d86c7038-2cc5-4598-a72a-d3358f658579\")>,\n",
       " <selenium.webdriver.remote.webelement.WebElement (session=\"2a828a0c4b154e1f5069c500cd78843d\", element=\"53ca2b33-6e3b-42f1-b7d7-db69ea04f10c\")>,\n",
       " <selenium.webdriver.remote.webelement.WebElement (session=\"2a828a0c4b154e1f5069c500cd78843d\", element=\"4bb2d7ff-b518-43c7-824d-66c80e0a782f\")>,\n",
       " <selenium.webdriver.remote.webelement.WebElement (session=\"2a828a0c4b154e1f5069c500cd78843d\", element=\"9cf79826-ea6c-4255-bead-61bb5d18f30c\")>,\n",
       " <selenium.webdriver.remote.webelement.WebElement (session=\"2a828a0c4b154e1f5069c500cd78843d\", element=\"d40197ea-9665-4c60-8912-2278dc9d66cd\")>,\n",
       " <selenium.webdriver.remote.webelement.WebElement (session=\"2a828a0c4b154e1f5069c500cd78843d\", element=\"cfd42b36-11eb-4afa-8a5b-c401ac5bfc5e\")>,\n",
       " <selenium.webdriver.remote.webelement.WebElement (session=\"2a828a0c4b154e1f5069c500cd78843d\", element=\"e6af40df-84be-44f3-83d3-45e22c0247cb\")>,\n",
       " <selenium.webdriver.remote.webelement.WebElement (session=\"2a828a0c4b154e1f5069c500cd78843d\", element=\"da701442-06ad-40e2-bb22-ef4b8dca82a6\")>,\n",
       " <selenium.webdriver.remote.webelement.WebElement (session=\"2a828a0c4b154e1f5069c500cd78843d\", element=\"2c796475-2d70-4c79-a816-93de8bca3e70\")>,\n",
       " <selenium.webdriver.remote.webelement.WebElement (session=\"2a828a0c4b154e1f5069c500cd78843d\", element=\"c7759d79-253f-43fe-972e-f5b232990e02\")>,\n",
       " <selenium.webdriver.remote.webelement.WebElement (session=\"2a828a0c4b154e1f5069c500cd78843d\", element=\"f550d991-b937-4c25-9750-1bae312c305a\")>,\n",
       " <selenium.webdriver.remote.webelement.WebElement (session=\"2a828a0c4b154e1f5069c500cd78843d\", element=\"a7a3d12f-69a8-47fb-8de2-ca4d9731ff74\")>,\n",
       " <selenium.webdriver.remote.webelement.WebElement (session=\"2a828a0c4b154e1f5069c500cd78843d\", element=\"82094550-63eb-4c14-a144-b200a3113270\")>,\n",
       " <selenium.webdriver.remote.webelement.WebElement (session=\"2a828a0c4b154e1f5069c500cd78843d\", element=\"8eb55d6f-b971-48b9-8c0a-4bee0e868f82\")>,\n",
       " <selenium.webdriver.remote.webelement.WebElement (session=\"2a828a0c4b154e1f5069c500cd78843d\", element=\"45498400-2542-4dee-9b40-c8efcffb788a\")>,\n",
       " <selenium.webdriver.remote.webelement.WebElement (session=\"2a828a0c4b154e1f5069c500cd78843d\", element=\"679bab1f-70da-4ee4-a9c3-bd297e927979\")>,\n",
       " <selenium.webdriver.remote.webelement.WebElement (session=\"2a828a0c4b154e1f5069c500cd78843d\", element=\"006eae7b-6e53-48ed-86ec-97520ef1bb2c\")>,\n",
       " <selenium.webdriver.remote.webelement.WebElement (session=\"2a828a0c4b154e1f5069c500cd78843d\", element=\"e55e77b4-e4cf-430b-b4e6-f958dfdb1afe\")>,\n",
       " <selenium.webdriver.remote.webelement.WebElement (session=\"2a828a0c4b154e1f5069c500cd78843d\", element=\"8d41873d-ead2-49a4-9cd1-6f81eb4b7071\")>,\n",
       " <selenium.webdriver.remote.webelement.WebElement (session=\"2a828a0c4b154e1f5069c500cd78843d\", element=\"1bf55c7b-5446-47ab-925c-0f0c1ba7bd1f\")>,\n",
       " <selenium.webdriver.remote.webelement.WebElement (session=\"2a828a0c4b154e1f5069c500cd78843d\", element=\"165dda46-ffac-45f9-be2c-a5cd4321656c\")>,\n",
       " <selenium.webdriver.remote.webelement.WebElement (session=\"2a828a0c4b154e1f5069c500cd78843d\", element=\"a6bc30d9-f1d8-4bbb-a9b9-5404ea1c26f2\")>,\n",
       " <selenium.webdriver.remote.webelement.WebElement (session=\"2a828a0c4b154e1f5069c500cd78843d\", element=\"75a7bfd8-5da5-40e7-a24b-64eaa0cbd9a0\")>,\n",
       " <selenium.webdriver.remote.webelement.WebElement (session=\"2a828a0c4b154e1f5069c500cd78843d\", element=\"c75f60d9-eef4-4082-bd9f-2e98d99a2296\")>,\n",
       " <selenium.webdriver.remote.webelement.WebElement (session=\"2a828a0c4b154e1f5069c500cd78843d\", element=\"fe5ef549-3516-4ce7-a2fe-486b6810341f\")>,\n",
       " <selenium.webdriver.remote.webelement.WebElement (session=\"2a828a0c4b154e1f5069c500cd78843d\", element=\"88fbff62-d19b-4b1b-98f9-d1e1860cdaea\")>,\n",
       " <selenium.webdriver.remote.webelement.WebElement (session=\"2a828a0c4b154e1f5069c500cd78843d\", element=\"17e772a0-3a19-4fe1-a333-dbdf2c7185e0\")>,\n",
       " <selenium.webdriver.remote.webelement.WebElement (session=\"2a828a0c4b154e1f5069c500cd78843d\", element=\"f352ea58-8188-4414-9af8-1abe21e6c9f2\")>,\n",
       " <selenium.webdriver.remote.webelement.WebElement (session=\"2a828a0c4b154e1f5069c500cd78843d\", element=\"88064d9e-6657-4192-8d67-da97dd7685da\")>,\n",
       " <selenium.webdriver.remote.webelement.WebElement (session=\"2a828a0c4b154e1f5069c500cd78843d\", element=\"d14429d7-57ef-462b-af21-911b0606ac7b\")>,\n",
       " <selenium.webdriver.remote.webelement.WebElement (session=\"2a828a0c4b154e1f5069c500cd78843d\", element=\"0b0b52c5-c86b-4322-b269-bb73effb0c70\")>,\n",
       " <selenium.webdriver.remote.webelement.WebElement (session=\"2a828a0c4b154e1f5069c500cd78843d\", element=\"53c2f7d7-888a-4bff-8537-ce25f98a4663\")>,\n",
       " <selenium.webdriver.remote.webelement.WebElement (session=\"2a828a0c4b154e1f5069c500cd78843d\", element=\"326ded65-31d8-44f7-8a93-671311adca60\")>,\n",
       " <selenium.webdriver.remote.webelement.WebElement (session=\"2a828a0c4b154e1f5069c500cd78843d\", element=\"58fbc5e6-7cb8-402b-950d-28c905a3b34b\")>]"
      ]
     },
     "execution_count": 63,
     "metadata": {},
     "output_type": "execute_result"
    }
   ],
   "source": [
    "discount_tags[0:100]"
   ]
  },
  {
   "cell_type": "code",
   "execution_count": 64,
   "id": "878d79ff",
   "metadata": {},
   "outputs": [
    {
     "data": {
      "text/plain": [
       "[<selenium.webdriver.remote.webelement.WebElement (session=\"2a828a0c4b154e1f5069c500cd78843d\", element=\"27e28cf4-3689-4f11-899f-d7bd8e46af14\")>,\n",
       " <selenium.webdriver.remote.webelement.WebElement (session=\"2a828a0c4b154e1f5069c500cd78843d\", element=\"1600e96e-89b5-4bec-88c2-c1c5f8303949\")>,\n",
       " <selenium.webdriver.remote.webelement.WebElement (session=\"2a828a0c4b154e1f5069c500cd78843d\", element=\"632121b2-2f7a-44e0-829e-bb913af508c5\")>,\n",
       " <selenium.webdriver.remote.webelement.WebElement (session=\"2a828a0c4b154e1f5069c500cd78843d\", element=\"eb56f6eb-d7f0-4d2d-84ff-3df174fa22fb\")>,\n",
       " <selenium.webdriver.remote.webelement.WebElement (session=\"2a828a0c4b154e1f5069c500cd78843d\", element=\"c7c75b07-f83d-4eea-a752-7b86835275a4\")>,\n",
       " <selenium.webdriver.remote.webelement.WebElement (session=\"2a828a0c4b154e1f5069c500cd78843d\", element=\"8253e9ca-8e0c-4e52-8072-d5aeac3246a7\")>,\n",
       " <selenium.webdriver.remote.webelement.WebElement (session=\"2a828a0c4b154e1f5069c500cd78843d\", element=\"d86c7038-2cc5-4598-a72a-d3358f658579\")>,\n",
       " <selenium.webdriver.remote.webelement.WebElement (session=\"2a828a0c4b154e1f5069c500cd78843d\", element=\"53ca2b33-6e3b-42f1-b7d7-db69ea04f10c\")>,\n",
       " <selenium.webdriver.remote.webelement.WebElement (session=\"2a828a0c4b154e1f5069c500cd78843d\", element=\"4bb2d7ff-b518-43c7-824d-66c80e0a782f\")>,\n",
       " <selenium.webdriver.remote.webelement.WebElement (session=\"2a828a0c4b154e1f5069c500cd78843d\", element=\"9cf79826-ea6c-4255-bead-61bb5d18f30c\")>,\n",
       " <selenium.webdriver.remote.webelement.WebElement (session=\"2a828a0c4b154e1f5069c500cd78843d\", element=\"d40197ea-9665-4c60-8912-2278dc9d66cd\")>,\n",
       " <selenium.webdriver.remote.webelement.WebElement (session=\"2a828a0c4b154e1f5069c500cd78843d\", element=\"cfd42b36-11eb-4afa-8a5b-c401ac5bfc5e\")>,\n",
       " <selenium.webdriver.remote.webelement.WebElement (session=\"2a828a0c4b154e1f5069c500cd78843d\", element=\"e6af40df-84be-44f3-83d3-45e22c0247cb\")>,\n",
       " <selenium.webdriver.remote.webelement.WebElement (session=\"2a828a0c4b154e1f5069c500cd78843d\", element=\"da701442-06ad-40e2-bb22-ef4b8dca82a6\")>,\n",
       " <selenium.webdriver.remote.webelement.WebElement (session=\"2a828a0c4b154e1f5069c500cd78843d\", element=\"2c796475-2d70-4c79-a816-93de8bca3e70\")>,\n",
       " <selenium.webdriver.remote.webelement.WebElement (session=\"2a828a0c4b154e1f5069c500cd78843d\", element=\"c7759d79-253f-43fe-972e-f5b232990e02\")>,\n",
       " <selenium.webdriver.remote.webelement.WebElement (session=\"2a828a0c4b154e1f5069c500cd78843d\", element=\"f550d991-b937-4c25-9750-1bae312c305a\")>,\n",
       " <selenium.webdriver.remote.webelement.WebElement (session=\"2a828a0c4b154e1f5069c500cd78843d\", element=\"a7a3d12f-69a8-47fb-8de2-ca4d9731ff74\")>,\n",
       " <selenium.webdriver.remote.webelement.WebElement (session=\"2a828a0c4b154e1f5069c500cd78843d\", element=\"82094550-63eb-4c14-a144-b200a3113270\")>,\n",
       " <selenium.webdriver.remote.webelement.WebElement (session=\"2a828a0c4b154e1f5069c500cd78843d\", element=\"8eb55d6f-b971-48b9-8c0a-4bee0e868f82\")>,\n",
       " <selenium.webdriver.remote.webelement.WebElement (session=\"2a828a0c4b154e1f5069c500cd78843d\", element=\"45498400-2542-4dee-9b40-c8efcffb788a\")>,\n",
       " <selenium.webdriver.remote.webelement.WebElement (session=\"2a828a0c4b154e1f5069c500cd78843d\", element=\"679bab1f-70da-4ee4-a9c3-bd297e927979\")>,\n",
       " <selenium.webdriver.remote.webelement.WebElement (session=\"2a828a0c4b154e1f5069c500cd78843d\", element=\"006eae7b-6e53-48ed-86ec-97520ef1bb2c\")>,\n",
       " <selenium.webdriver.remote.webelement.WebElement (session=\"2a828a0c4b154e1f5069c500cd78843d\", element=\"e55e77b4-e4cf-430b-b4e6-f958dfdb1afe\")>,\n",
       " <selenium.webdriver.remote.webelement.WebElement (session=\"2a828a0c4b154e1f5069c500cd78843d\", element=\"8d41873d-ead2-49a4-9cd1-6f81eb4b7071\")>,\n",
       " <selenium.webdriver.remote.webelement.WebElement (session=\"2a828a0c4b154e1f5069c500cd78843d\", element=\"1bf55c7b-5446-47ab-925c-0f0c1ba7bd1f\")>,\n",
       " <selenium.webdriver.remote.webelement.WebElement (session=\"2a828a0c4b154e1f5069c500cd78843d\", element=\"165dda46-ffac-45f9-be2c-a5cd4321656c\")>,\n",
       " <selenium.webdriver.remote.webelement.WebElement (session=\"2a828a0c4b154e1f5069c500cd78843d\", element=\"a6bc30d9-f1d8-4bbb-a9b9-5404ea1c26f2\")>,\n",
       " <selenium.webdriver.remote.webelement.WebElement (session=\"2a828a0c4b154e1f5069c500cd78843d\", element=\"75a7bfd8-5da5-40e7-a24b-64eaa0cbd9a0\")>,\n",
       " <selenium.webdriver.remote.webelement.WebElement (session=\"2a828a0c4b154e1f5069c500cd78843d\", element=\"c75f60d9-eef4-4082-bd9f-2e98d99a2296\")>,\n",
       " <selenium.webdriver.remote.webelement.WebElement (session=\"2a828a0c4b154e1f5069c500cd78843d\", element=\"fe5ef549-3516-4ce7-a2fe-486b6810341f\")>,\n",
       " <selenium.webdriver.remote.webelement.WebElement (session=\"2a828a0c4b154e1f5069c500cd78843d\", element=\"88fbff62-d19b-4b1b-98f9-d1e1860cdaea\")>,\n",
       " <selenium.webdriver.remote.webelement.WebElement (session=\"2a828a0c4b154e1f5069c500cd78843d\", element=\"17e772a0-3a19-4fe1-a333-dbdf2c7185e0\")>,\n",
       " <selenium.webdriver.remote.webelement.WebElement (session=\"2a828a0c4b154e1f5069c500cd78843d\", element=\"f352ea58-8188-4414-9af8-1abe21e6c9f2\")>,\n",
       " <selenium.webdriver.remote.webelement.WebElement (session=\"2a828a0c4b154e1f5069c500cd78843d\", element=\"88064d9e-6657-4192-8d67-da97dd7685da\")>,\n",
       " <selenium.webdriver.remote.webelement.WebElement (session=\"2a828a0c4b154e1f5069c500cd78843d\", element=\"d14429d7-57ef-462b-af21-911b0606ac7b\")>,\n",
       " <selenium.webdriver.remote.webelement.WebElement (session=\"2a828a0c4b154e1f5069c500cd78843d\", element=\"0b0b52c5-c86b-4322-b269-bb73effb0c70\")>,\n",
       " <selenium.webdriver.remote.webelement.WebElement (session=\"2a828a0c4b154e1f5069c500cd78843d\", element=\"53c2f7d7-888a-4bff-8537-ce25f98a4663\")>,\n",
       " <selenium.webdriver.remote.webelement.WebElement (session=\"2a828a0c4b154e1f5069c500cd78843d\", element=\"326ded65-31d8-44f7-8a93-671311adca60\")>,\n",
       " <selenium.webdriver.remote.webelement.WebElement (session=\"2a828a0c4b154e1f5069c500cd78843d\", element=\"58fbc5e6-7cb8-402b-950d-28c905a3b34b\")>]"
      ]
     },
     "execution_count": 64,
     "metadata": {},
     "output_type": "execute_result"
    }
   ],
   "source": [
    "discount_tags[0:100]"
   ]
  },
  {
   "cell_type": "code",
   "execution_count": 65,
   "id": "e0d64c91",
   "metadata": {},
   "outputs": [
    {
     "data": {
      "text/plain": [
       "['62% off',\n",
       " '35% off',\n",
       " '82% off',\n",
       " '89% off',\n",
       " '20% off',\n",
       " '88% off',\n",
       " '85% off',\n",
       " '68% off',\n",
       " '78% off',\n",
       " '83% off',\n",
       " '85% off',\n",
       " '81% off',\n",
       " '88% off',\n",
       " '28% off',\n",
       " '88% off',\n",
       " '76% off',\n",
       " '86% off',\n",
       " '83% off',\n",
       " '88% off',\n",
       " '69% off',\n",
       " '80% off',\n",
       " '20% off',\n",
       " '78% off',\n",
       " '75% off',\n",
       " '76% off',\n",
       " '85% off',\n",
       " '68% off',\n",
       " '84% off',\n",
       " '84% off',\n",
       " '84% off',\n",
       " '82% off',\n",
       " '49% off',\n",
       " '81% off',\n",
       " '74% off',\n",
       " '74% off',\n",
       " '62% off',\n",
       " '76% off',\n",
       " '20% off',\n",
       " '28% off',\n",
       " '71% off']"
      ]
     },
     "execution_count": 65,
     "metadata": {},
     "output_type": "execute_result"
    }
   ],
   "source": [
    "# extracting all the discount\n",
    "\n",
    "for i in discount_tags:\n",
    "    discount=i.text\n",
    "    Discounts.append(discount)  \n",
    "\n",
    "Discounts[0:100]"
   ]
  },
  {
   "cell_type": "markdown",
   "id": "a908e172",
   "metadata": {},
   "source": [
    "# Page - 2"
   ]
  },
  {
   "cell_type": "code",
   "execution_count": 66,
   "id": "44bc3d02",
   "metadata": {},
   "outputs": [],
   "source": [
    "second_page=driver.find_element_by_xpath('/html/body/div[1]/div/div[3]/div[1]/div[2]/div[12]/div/div/nav/a[2]')\n",
    "second_page.click()"
   ]
  },
  {
   "cell_type": "raw",
   "id": "7e4cf55b",
   "metadata": {},
   "source": [
    "Extracting Brand"
   ]
  },
  {
   "cell_type": "code",
   "execution_count": 67,
   "id": "212abe8d",
   "metadata": {},
   "outputs": [
    {
     "data": {
      "text/plain": [
       "40"
      ]
     },
     "execution_count": 67,
     "metadata": {},
     "output_type": "execute_result"
    }
   ],
   "source": [
    "Brand_tag=driver.find_elements_by_xpath('//div[@class=\"_2WkVRV\"]')\n",
    "len(Brand_tag)"
   ]
  },
  {
   "cell_type": "code",
   "execution_count": 68,
   "id": "a9bddb46",
   "metadata": {},
   "outputs": [
    {
     "data": {
      "text/plain": [
       "40"
      ]
     },
     "execution_count": 68,
     "metadata": {},
     "output_type": "execute_result"
    }
   ],
   "source": [
    "Brand = []\n",
    "for i in Brand_tag:\n",
    "    Brand.append(i.text)  \n",
    "\n",
    "len(Brand)"
   ]
  },
  {
   "cell_type": "code",
   "execution_count": 69,
   "id": "17969ee5",
   "metadata": {},
   "outputs": [
    {
     "data": {
      "text/plain": [
       "['kingsunglasses',\n",
       " 'Lee Topper',\n",
       " 'Mi',\n",
       " 'VINCENT CHASE',\n",
       " 'SHAAH COLLECTIONS',\n",
       " 'Lee Topper',\n",
       " 'Fastrack',\n",
       " 'ROYAL SON',\n",
       " 'Lee Topper',\n",
       " 'kingsunglasses',\n",
       " 'New Specs',\n",
       " 'ROYAL SON',\n",
       " 'ROZZETTA CRAFT',\n",
       " 'ROYAL SON',\n",
       " 'IZAAN MART',\n",
       " 'john jacobs',\n",
       " 'ROZZETTA CRAFT',\n",
       " 'kingsunglasses',\n",
       " 'Fastrack',\n",
       " 'IZAAN MART',\n",
       " 'Elligator',\n",
       " 'PIRASO',\n",
       " 'PIRASO',\n",
       " 'Sewell',\n",
       " 'ROZZETTA CRAFT',\n",
       " 'PHENOMENAL',\n",
       " 'Fastrack',\n",
       " 'IZAAN MART',\n",
       " 'LIZA ANGEL',\n",
       " 'Silver Kartz',\n",
       " 'DEIXELS',\n",
       " 'ROYAL SON',\n",
       " 'ROYAL SON',\n",
       " 'PIRASO',\n",
       " 'Singco India',\n",
       " 'ROYAL SON',\n",
       " 'HAMIW COLLECTION',\n",
       " 'ROYAL SON',\n",
       " 'Urbanic',\n",
       " 'ROZZETTA CRAFT']"
      ]
     },
     "execution_count": 69,
     "metadata": {},
     "output_type": "execute_result"
    }
   ],
   "source": [
    "Brand[0:100]"
   ]
  },
  {
   "cell_type": "raw",
   "id": "db0fd1f1",
   "metadata": {},
   "source": [
    "Product Description"
   ]
  },
  {
   "cell_type": "code",
   "execution_count": 70,
   "id": "f10d17f3",
   "metadata": {},
   "outputs": [
    {
     "data": {
      "text/plain": [
       "40"
      ]
     },
     "execution_count": 70,
     "metadata": {},
     "output_type": "execute_result"
    }
   ],
   "source": [
    "Description_tag=driver.find_elements_by_xpath('//a[@class=\"IRpwTa\"]')\n",
    "len(Description_tag)"
   ]
  },
  {
   "cell_type": "code",
   "execution_count": 71,
   "id": "b89a9aa6",
   "metadata": {},
   "outputs": [
    {
     "data": {
      "text/plain": [
       "40"
      ]
     },
     "execution_count": 71,
     "metadata": {},
     "output_type": "execute_result"
    }
   ],
   "source": [
    "Product_Description  = []\n",
    "for i in Description_tag:\n",
    "    Product_Description.append(i.text)  \n",
    "\n",
    "len(Product_Description)\n"
   ]
  },
  {
   "cell_type": "code",
   "execution_count": 72,
   "id": "fa7d2eb3",
   "metadata": {},
   "outputs": [
    {
     "data": {
      "text/plain": [
       "['UV Protection, Riding Glasses, Mirrored Wayfarer Sungla...',\n",
       " 'UV Protection Round Sunglasses (Free Size)',\n",
       " 'Polarized Aviator Sunglasses (Free Size)',\n",
       " 'by Lenskart Polarized, UV Protection Cat-eye Sunglasses...',\n",
       " 'UV Protection Round Sunglasses (Free Size)',\n",
       " 'UV Protection Rectangular Sunglasses (Free Size)',\n",
       " 'UV Protection Aviator Sunglasses (58)',\n",
       " 'Polarized, UV Protection Aviator Sunglasses (58)',\n",
       " 'UV Protection Cat-eye Sunglasses (Free Size)',\n",
       " 'UV Protection Rectangular Sunglasses (55)',\n",
       " 'UV Protection Rectangular Sunglasses (Free Size)',\n",
       " 'Polarized, UV Protection Retro Square Sunglasses (62)',\n",
       " 'UV Protection, Gradient Rectangular Sunglasses (Free Si...',\n",
       " 'UV Protection, Gradient Butterfly Sunglasses (62)',\n",
       " 'UV Protection Rectangular Sunglasses (55)',\n",
       " 'UV Protection Wayfarer Sunglasses (46)',\n",
       " 'UV Protection Rectangular Sunglasses (Free Size)',\n",
       " 'UV Protection Round Sunglasses (Free Size)',\n",
       " 'Mirrored, UV Protection Wayfarer Sunglasses (Free Size)',\n",
       " 'UV Protection, Riding Glasses Aviator Sunglasses (Free ...',\n",
       " 'UV Protection Round Sunglasses (53)',\n",
       " 'UV Protection Aviator Sunglasses (55)',\n",
       " 'UV Protection Over-sized Sunglasses (65)',\n",
       " 'Polarized Butterfly Sunglasses (Free Size)',\n",
       " 'UV Protection Retro Square Sunglasses (Free Size)',\n",
       " 'UV Protection Retro Square Sunglasses (Free Size)',\n",
       " 'Gradient, UV Protection Wayfarer Sunglasses (Free Size)',\n",
       " 'UV Protection Rectangular Sunglasses (Free Size)',\n",
       " 'Riding Glasses, Night Vision Spectacle Sunglasses (Fre...',\n",
       " 'UV Protection Wayfarer Sunglasses (Free Size)',\n",
       " 'UV Protection Aviator Sunglasses (Free Size)',\n",
       " 'UV Protection Over-sized Sunglasses (61)',\n",
       " 'Mirrored Aviator Sunglasses (Free Size)',\n",
       " 'UV Protection Aviator Sunglasses (54)',\n",
       " 'Gradient, Toughened Glass Lens, UV Protection Retro Squ...',\n",
       " 'UV Protection Retro Square Sunglasses (60)',\n",
       " 'UV Protection Round Sunglasses (53)',\n",
       " 'Mirrored Aviator Sunglasses (58)',\n",
       " 'Others Retro Square Sunglasses (Free Size)',\n",
       " 'UV Protection Aviator Sunglasses (62)']"
      ]
     },
     "execution_count": 72,
     "metadata": {},
     "output_type": "execute_result"
    }
   ],
   "source": [
    "Product_Description[0:100]"
   ]
  },
  {
   "cell_type": "raw",
   "id": "7788516e",
   "metadata": {},
   "source": [
    "Extracting Price"
   ]
  },
  {
   "cell_type": "code",
   "execution_count": 73,
   "id": "ff10cfd9",
   "metadata": {},
   "outputs": [
    {
     "data": {
      "text/plain": [
       "40"
      ]
     },
     "execution_count": 73,
     "metadata": {},
     "output_type": "execute_result"
    }
   ],
   "source": [
    "Price_tags=driver.find_elements_by_xpath(\"//div[@class='_3I9_wc']\")\n",
    "len(Price_tags)"
   ]
  },
  {
   "cell_type": "code",
   "execution_count": 74,
   "id": "1d6307e4",
   "metadata": {},
   "outputs": [
    {
     "data": {
      "text/plain": [
       "[<selenium.webdriver.remote.webelement.WebElement (session=\"2a828a0c4b154e1f5069c500cd78843d\", element=\"2b0b08d3-eb8b-49ac-9a0d-717811668b2c\")>,\n",
       " <selenium.webdriver.remote.webelement.WebElement (session=\"2a828a0c4b154e1f5069c500cd78843d\", element=\"d19d49a4-84c4-4adb-b769-59a89b4ce2ac\")>,\n",
       " <selenium.webdriver.remote.webelement.WebElement (session=\"2a828a0c4b154e1f5069c500cd78843d\", element=\"4afe3362-d820-4eed-a3f8-23b01b6b0d17\")>,\n",
       " <selenium.webdriver.remote.webelement.WebElement (session=\"2a828a0c4b154e1f5069c500cd78843d\", element=\"fb20bc73-ccc5-4bbe-b94f-5d9f1d067559\")>,\n",
       " <selenium.webdriver.remote.webelement.WebElement (session=\"2a828a0c4b154e1f5069c500cd78843d\", element=\"9128ac6b-cc05-4a05-aa76-dd80202e9a27\")>,\n",
       " <selenium.webdriver.remote.webelement.WebElement (session=\"2a828a0c4b154e1f5069c500cd78843d\", element=\"f6e34829-c01d-4351-9503-3f6eff043def\")>,\n",
       " <selenium.webdriver.remote.webelement.WebElement (session=\"2a828a0c4b154e1f5069c500cd78843d\", element=\"f00ba0a1-5119-4e83-bc7a-4c7a7299babf\")>,\n",
       " <selenium.webdriver.remote.webelement.WebElement (session=\"2a828a0c4b154e1f5069c500cd78843d\", element=\"d51121d4-3916-48e7-bc5c-a74498c94c10\")>,\n",
       " <selenium.webdriver.remote.webelement.WebElement (session=\"2a828a0c4b154e1f5069c500cd78843d\", element=\"ce85b93a-4693-4127-b1a4-809a004aac75\")>,\n",
       " <selenium.webdriver.remote.webelement.WebElement (session=\"2a828a0c4b154e1f5069c500cd78843d\", element=\"ddf7d065-be03-43a2-9cf8-e66b24961479\")>,\n",
       " <selenium.webdriver.remote.webelement.WebElement (session=\"2a828a0c4b154e1f5069c500cd78843d\", element=\"b9704747-3eb1-4d21-890a-0654b85dedc8\")>,\n",
       " <selenium.webdriver.remote.webelement.WebElement (session=\"2a828a0c4b154e1f5069c500cd78843d\", element=\"d8a869d6-8228-42ed-a6d5-b09e3bf2182d\")>,\n",
       " <selenium.webdriver.remote.webelement.WebElement (session=\"2a828a0c4b154e1f5069c500cd78843d\", element=\"8a34662f-522c-457a-abe1-2181e735f7a0\")>,\n",
       " <selenium.webdriver.remote.webelement.WebElement (session=\"2a828a0c4b154e1f5069c500cd78843d\", element=\"0c9b90a6-08a3-4911-bee1-e75c795707d1\")>,\n",
       " <selenium.webdriver.remote.webelement.WebElement (session=\"2a828a0c4b154e1f5069c500cd78843d\", element=\"b63b5713-8130-4aea-a3f3-d391c8117c1c\")>,\n",
       " <selenium.webdriver.remote.webelement.WebElement (session=\"2a828a0c4b154e1f5069c500cd78843d\", element=\"ca30b87b-3cc9-4919-863d-0c83dfb7b8b6\")>,\n",
       " <selenium.webdriver.remote.webelement.WebElement (session=\"2a828a0c4b154e1f5069c500cd78843d\", element=\"a0c26cb0-7a7d-4eb3-9d3b-3e5424d0fe8b\")>,\n",
       " <selenium.webdriver.remote.webelement.WebElement (session=\"2a828a0c4b154e1f5069c500cd78843d\", element=\"ac5a3e08-4c35-4f51-bed9-eb70e80555d3\")>,\n",
       " <selenium.webdriver.remote.webelement.WebElement (session=\"2a828a0c4b154e1f5069c500cd78843d\", element=\"9190f0ea-4270-4dc4-b3e3-ccfb0ae1cbf9\")>,\n",
       " <selenium.webdriver.remote.webelement.WebElement (session=\"2a828a0c4b154e1f5069c500cd78843d\", element=\"3a2ac0d0-8aa7-4a39-afd2-781b78d5c6f2\")>,\n",
       " <selenium.webdriver.remote.webelement.WebElement (session=\"2a828a0c4b154e1f5069c500cd78843d\", element=\"c89211d0-3040-4ae9-986e-ba2905cd8c52\")>,\n",
       " <selenium.webdriver.remote.webelement.WebElement (session=\"2a828a0c4b154e1f5069c500cd78843d\", element=\"e91efc2b-048b-4099-bc7f-df56f99716ab\")>,\n",
       " <selenium.webdriver.remote.webelement.WebElement (session=\"2a828a0c4b154e1f5069c500cd78843d\", element=\"54a11842-aad9-4af0-b94e-0d2f75869a82\")>,\n",
       " <selenium.webdriver.remote.webelement.WebElement (session=\"2a828a0c4b154e1f5069c500cd78843d\", element=\"1ddb7034-a1c7-4f48-b9a0-c46e44440bf1\")>,\n",
       " <selenium.webdriver.remote.webelement.WebElement (session=\"2a828a0c4b154e1f5069c500cd78843d\", element=\"fb619224-afc1-4708-85ac-9bad4932e269\")>,\n",
       " <selenium.webdriver.remote.webelement.WebElement (session=\"2a828a0c4b154e1f5069c500cd78843d\", element=\"0fa4c3ca-3b05-45cb-86b9-800c5ae46a7e\")>,\n",
       " <selenium.webdriver.remote.webelement.WebElement (session=\"2a828a0c4b154e1f5069c500cd78843d\", element=\"1978e1eb-5858-4057-9530-0d451b3a6812\")>,\n",
       " <selenium.webdriver.remote.webelement.WebElement (session=\"2a828a0c4b154e1f5069c500cd78843d\", element=\"d6dc263a-39a4-4e4a-b60c-b149928161b9\")>,\n",
       " <selenium.webdriver.remote.webelement.WebElement (session=\"2a828a0c4b154e1f5069c500cd78843d\", element=\"c19c5997-a015-4605-ae20-ce7b2807eea1\")>,\n",
       " <selenium.webdriver.remote.webelement.WebElement (session=\"2a828a0c4b154e1f5069c500cd78843d\", element=\"83eaeae5-c05a-41ed-ab6c-b7b51d9445ee\")>,\n",
       " <selenium.webdriver.remote.webelement.WebElement (session=\"2a828a0c4b154e1f5069c500cd78843d\", element=\"042e4723-81ed-4655-89d1-7eb13a4b965b\")>,\n",
       " <selenium.webdriver.remote.webelement.WebElement (session=\"2a828a0c4b154e1f5069c500cd78843d\", element=\"907c0270-8b7a-4d4d-8f6c-6cd8ee4a3aad\")>,\n",
       " <selenium.webdriver.remote.webelement.WebElement (session=\"2a828a0c4b154e1f5069c500cd78843d\", element=\"8806a2f5-ea4a-47d8-ba65-d2487ab7bb0b\")>,\n",
       " <selenium.webdriver.remote.webelement.WebElement (session=\"2a828a0c4b154e1f5069c500cd78843d\", element=\"ae88a0b8-fdf5-46d5-b29f-d701951a8f39\")>,\n",
       " <selenium.webdriver.remote.webelement.WebElement (session=\"2a828a0c4b154e1f5069c500cd78843d\", element=\"272cb25c-659d-49ff-8876-9e87c5f94af0\")>,\n",
       " <selenium.webdriver.remote.webelement.WebElement (session=\"2a828a0c4b154e1f5069c500cd78843d\", element=\"c3decd28-cdec-406a-a5b6-85b1ab94e1e8\")>,\n",
       " <selenium.webdriver.remote.webelement.WebElement (session=\"2a828a0c4b154e1f5069c500cd78843d\", element=\"e18b247e-0302-4170-bc60-ec483133d68f\")>,\n",
       " <selenium.webdriver.remote.webelement.WebElement (session=\"2a828a0c4b154e1f5069c500cd78843d\", element=\"96fb3865-2140-4dbc-9186-06e2f6cb5566\")>,\n",
       " <selenium.webdriver.remote.webelement.WebElement (session=\"2a828a0c4b154e1f5069c500cd78843d\", element=\"35019d3d-1518-4502-a879-89a584a31ea6\")>,\n",
       " <selenium.webdriver.remote.webelement.WebElement (session=\"2a828a0c4b154e1f5069c500cd78843d\", element=\"8203be87-8c3e-44bf-9046-9af025c0fdb1\")>]"
      ]
     },
     "execution_count": 74,
     "metadata": {},
     "output_type": "execute_result"
    }
   ],
   "source": [
    "Price_tags[0:100]"
   ]
  },
  {
   "cell_type": "code",
   "execution_count": 75,
   "id": "495d98b1",
   "metadata": {},
   "outputs": [
    {
     "data": {
      "text/plain": [
       "['₹1,999',\n",
       " '₹999',\n",
       " '₹999',\n",
       " '₹2,599',\n",
       " '₹799',\n",
       " '₹2,495',\n",
       " '₹1,599',\n",
       " '₹999',\n",
       " '₹1,299',\n",
       " '₹1,299',\n",
       " '₹1,599',\n",
       " '₹1,999',\n",
       " '₹1,699',\n",
       " '₹999',\n",
       " '₹2,599',\n",
       " '₹999',\n",
       " '₹2,599',\n",
       " '₹1,999',\n",
       " '₹2,499',\n",
       " '₹1,999',\n",
       " '₹1,299',\n",
       " '₹799',\n",
       " '₹1,299',\n",
       " '₹2,555',\n",
       " '₹1,999',\n",
       " '₹1,599',\n",
       " '₹599',\n",
       " '₹1,999',\n",
       " '₹1,599',\n",
       " '₹1,499',\n",
       " '₹1,499',\n",
       " '₹6,390',\n",
       " '₹1,599',\n",
       " '₹2,099',\n",
       " '₹1,499',\n",
       " '₹1,999',\n",
       " '₹1,245',\n",
       " '₹899',\n",
       " '₹899',\n",
       " '₹699',\n",
       " '₹1,199',\n",
       " '₹999',\n",
       " '₹1,199',\n",
       " '₹1,999',\n",
       " '₹1,699',\n",
       " '₹999',\n",
       " '₹1,299',\n",
       " '₹1,999',\n",
       " '₹1,299',\n",
       " '₹1,299',\n",
       " '₹1,499',\n",
       " '₹1,999',\n",
       " '₹1,999',\n",
       " '₹1,999',\n",
       " '₹1,999',\n",
       " '₹6,000',\n",
       " '₹1,499',\n",
       " '₹1,599',\n",
       " '₹999',\n",
       " '₹1,199',\n",
       " '₹998',\n",
       " '₹1,599',\n",
       " '₹2,599',\n",
       " '₹1,999',\n",
       " '₹2,225',\n",
       " '₹1,999',\n",
       " '₹899',\n",
       " '₹999',\n",
       " '₹999',\n",
       " '₹1,499',\n",
       " '₹1,199',\n",
       " '₹1,999',\n",
       " '₹1,499',\n",
       " '₹1,599',\n",
       " '₹3,200',\n",
       " '₹1,999',\n",
       " '₹1,599',\n",
       " '₹1,499',\n",
       " '₹790',\n",
       " '₹2,555']"
      ]
     },
     "execution_count": 75,
     "metadata": {},
     "output_type": "execute_result"
    }
   ],
   "source": [
    "# extracting all the price\n",
    "\n",
    "for i in Price_tags:\n",
    "    Prices=i.text\n",
    "    Price.append(Prices)  \n",
    "\n",
    "Price[0:100]"
   ]
  },
  {
   "cell_type": "raw",
   "id": "c0573c2e",
   "metadata": {},
   "source": [
    "Extracting Discount"
   ]
  },
  {
   "cell_type": "code",
   "execution_count": 76,
   "id": "56670a2b",
   "metadata": {},
   "outputs": [
    {
     "data": {
      "text/plain": [
       "40"
      ]
     },
     "execution_count": 76,
     "metadata": {},
     "output_type": "execute_result"
    }
   ],
   "source": [
    "# extracting discount\n",
    "\n",
    "discount_tags=driver.find_elements_by_xpath(\"//div[@class='_3Ay6Sb']\")\n",
    "len(discount_tags)"
   ]
  },
  {
   "cell_type": "code",
   "execution_count": 77,
   "id": "57f308ad",
   "metadata": {},
   "outputs": [
    {
     "data": {
      "text/plain": [
       "[<selenium.webdriver.remote.webelement.WebElement (session=\"2a828a0c4b154e1f5069c500cd78843d\", element=\"536e801b-f955-4dee-b87a-71dad1b41207\")>,\n",
       " <selenium.webdriver.remote.webelement.WebElement (session=\"2a828a0c4b154e1f5069c500cd78843d\", element=\"db90747f-9ea6-4af4-9215-d0aef234976a\")>,\n",
       " <selenium.webdriver.remote.webelement.WebElement (session=\"2a828a0c4b154e1f5069c500cd78843d\", element=\"37814d3c-dcab-4002-a3ed-a57a85689d49\")>,\n",
       " <selenium.webdriver.remote.webelement.WebElement (session=\"2a828a0c4b154e1f5069c500cd78843d\", element=\"b19753bf-c0a2-48e5-998e-81157c4b0a45\")>,\n",
       " <selenium.webdriver.remote.webelement.WebElement (session=\"2a828a0c4b154e1f5069c500cd78843d\", element=\"6cb00cdb-61d7-458b-8753-449e31558f7d\")>,\n",
       " <selenium.webdriver.remote.webelement.WebElement (session=\"2a828a0c4b154e1f5069c500cd78843d\", element=\"02a8a79d-c6d7-49be-b86b-47400371fe53\")>,\n",
       " <selenium.webdriver.remote.webelement.WebElement (session=\"2a828a0c4b154e1f5069c500cd78843d\", element=\"1f92d72d-f437-4f8b-88ff-7611c31ae845\")>,\n",
       " <selenium.webdriver.remote.webelement.WebElement (session=\"2a828a0c4b154e1f5069c500cd78843d\", element=\"3d98cc95-7b35-487f-ae16-a91406345101\")>,\n",
       " <selenium.webdriver.remote.webelement.WebElement (session=\"2a828a0c4b154e1f5069c500cd78843d\", element=\"83e7a002-bba2-422b-adc9-aa389b579bcc\")>,\n",
       " <selenium.webdriver.remote.webelement.WebElement (session=\"2a828a0c4b154e1f5069c500cd78843d\", element=\"1d211412-58ff-4a44-bdb5-180ed78a5aa5\")>,\n",
       " <selenium.webdriver.remote.webelement.WebElement (session=\"2a828a0c4b154e1f5069c500cd78843d\", element=\"65b40c78-081d-4410-bcc9-583de18d6250\")>,\n",
       " <selenium.webdriver.remote.webelement.WebElement (session=\"2a828a0c4b154e1f5069c500cd78843d\", element=\"38d11505-a01c-421d-9827-9572afc8d1bd\")>,\n",
       " <selenium.webdriver.remote.webelement.WebElement (session=\"2a828a0c4b154e1f5069c500cd78843d\", element=\"776d8cd9-2919-46ae-aba2-d32d0f9e5146\")>,\n",
       " <selenium.webdriver.remote.webelement.WebElement (session=\"2a828a0c4b154e1f5069c500cd78843d\", element=\"9554b8e1-f6d1-474e-a890-db887c700810\")>,\n",
       " <selenium.webdriver.remote.webelement.WebElement (session=\"2a828a0c4b154e1f5069c500cd78843d\", element=\"668071f9-c096-4d1c-af7b-06a19a139b67\")>,\n",
       " <selenium.webdriver.remote.webelement.WebElement (session=\"2a828a0c4b154e1f5069c500cd78843d\", element=\"257e35af-badc-48fb-a5b5-e4bab8dbfcff\")>,\n",
       " <selenium.webdriver.remote.webelement.WebElement (session=\"2a828a0c4b154e1f5069c500cd78843d\", element=\"3eb0bd67-dc45-436f-8078-758a83a077c4\")>,\n",
       " <selenium.webdriver.remote.webelement.WebElement (session=\"2a828a0c4b154e1f5069c500cd78843d\", element=\"72c87107-b904-4745-9e3a-9cdbc9dfc31e\")>,\n",
       " <selenium.webdriver.remote.webelement.WebElement (session=\"2a828a0c4b154e1f5069c500cd78843d\", element=\"695fe9c2-336c-421a-a167-a65c8dfa4c28\")>,\n",
       " <selenium.webdriver.remote.webelement.WebElement (session=\"2a828a0c4b154e1f5069c500cd78843d\", element=\"3c867844-d0d7-4568-96e2-c3294cfdff91\")>,\n",
       " <selenium.webdriver.remote.webelement.WebElement (session=\"2a828a0c4b154e1f5069c500cd78843d\", element=\"91d0d0cb-4bc7-422c-8ef1-5e7965e9c127\")>,\n",
       " <selenium.webdriver.remote.webelement.WebElement (session=\"2a828a0c4b154e1f5069c500cd78843d\", element=\"67ef6d8d-fa4a-48c2-8979-8ee1a2f4a48f\")>,\n",
       " <selenium.webdriver.remote.webelement.WebElement (session=\"2a828a0c4b154e1f5069c500cd78843d\", element=\"c3be5e50-775b-4c39-90cf-b13cd51f5a01\")>,\n",
       " <selenium.webdriver.remote.webelement.WebElement (session=\"2a828a0c4b154e1f5069c500cd78843d\", element=\"30def41b-7401-428f-b06e-5461ea7a1838\")>,\n",
       " <selenium.webdriver.remote.webelement.WebElement (session=\"2a828a0c4b154e1f5069c500cd78843d\", element=\"ee50446b-c545-47e4-a0f4-c7cdb717d790\")>,\n",
       " <selenium.webdriver.remote.webelement.WebElement (session=\"2a828a0c4b154e1f5069c500cd78843d\", element=\"4b590ddd-4e55-4d23-8323-3949778e2559\")>,\n",
       " <selenium.webdriver.remote.webelement.WebElement (session=\"2a828a0c4b154e1f5069c500cd78843d\", element=\"3e0927bf-0bfb-4ffb-b7e6-00f20f044b16\")>,\n",
       " <selenium.webdriver.remote.webelement.WebElement (session=\"2a828a0c4b154e1f5069c500cd78843d\", element=\"e9ffd25e-ebd7-4406-895e-105190ac0493\")>,\n",
       " <selenium.webdriver.remote.webelement.WebElement (session=\"2a828a0c4b154e1f5069c500cd78843d\", element=\"3a612140-8e4c-45ee-be3c-def1f3ebebc2\")>,\n",
       " <selenium.webdriver.remote.webelement.WebElement (session=\"2a828a0c4b154e1f5069c500cd78843d\", element=\"5ece3311-5df1-483b-b7a7-53f45b3e64d8\")>,\n",
       " <selenium.webdriver.remote.webelement.WebElement (session=\"2a828a0c4b154e1f5069c500cd78843d\", element=\"daa80959-e0df-4bbb-a165-03781c88bca3\")>,\n",
       " <selenium.webdriver.remote.webelement.WebElement (session=\"2a828a0c4b154e1f5069c500cd78843d\", element=\"8e47cb4b-e121-475e-966c-54065602d37a\")>,\n",
       " <selenium.webdriver.remote.webelement.WebElement (session=\"2a828a0c4b154e1f5069c500cd78843d\", element=\"42845dc9-2e72-495b-98ac-ff49db69799a\")>,\n",
       " <selenium.webdriver.remote.webelement.WebElement (session=\"2a828a0c4b154e1f5069c500cd78843d\", element=\"43e2ecab-e127-4663-be66-60c1965c0389\")>,\n",
       " <selenium.webdriver.remote.webelement.WebElement (session=\"2a828a0c4b154e1f5069c500cd78843d\", element=\"6476cf8a-d672-4145-8bfe-3c334b516295\")>,\n",
       " <selenium.webdriver.remote.webelement.WebElement (session=\"2a828a0c4b154e1f5069c500cd78843d\", element=\"b639dd18-275e-4586-8d89-40a5c5f3ed67\")>,\n",
       " <selenium.webdriver.remote.webelement.WebElement (session=\"2a828a0c4b154e1f5069c500cd78843d\", element=\"e88ebecc-ae04-45c8-82ca-8105be8b1429\")>,\n",
       " <selenium.webdriver.remote.webelement.WebElement (session=\"2a828a0c4b154e1f5069c500cd78843d\", element=\"47aa6a3b-00d6-4537-a9c0-c812bbcb13ce\")>,\n",
       " <selenium.webdriver.remote.webelement.WebElement (session=\"2a828a0c4b154e1f5069c500cd78843d\", element=\"c0739a53-8bc9-4042-8487-e76447746f62\")>,\n",
       " <selenium.webdriver.remote.webelement.WebElement (session=\"2a828a0c4b154e1f5069c500cd78843d\", element=\"47e94189-03b5-4b8b-9b10-6a0d2ec64b06\")>]"
      ]
     },
     "execution_count": 77,
     "metadata": {},
     "output_type": "execute_result"
    }
   ],
   "source": [
    "discount_tags[0:100]"
   ]
  },
  {
   "cell_type": "code",
   "execution_count": 78,
   "id": "1f925edb",
   "metadata": {},
   "outputs": [
    {
     "data": {
      "text/plain": [
       "['62% off',\n",
       " '35% off',\n",
       " '82% off',\n",
       " '89% off',\n",
       " '20% off',\n",
       " '88% off',\n",
       " '85% off',\n",
       " '68% off',\n",
       " '78% off',\n",
       " '83% off',\n",
       " '85% off',\n",
       " '81% off',\n",
       " '88% off',\n",
       " '28% off',\n",
       " '88% off',\n",
       " '76% off',\n",
       " '86% off',\n",
       " '83% off',\n",
       " '88% off',\n",
       " '69% off',\n",
       " '80% off',\n",
       " '20% off',\n",
       " '78% off',\n",
       " '75% off',\n",
       " '76% off',\n",
       " '85% off',\n",
       " '68% off',\n",
       " '84% off',\n",
       " '84% off',\n",
       " '84% off',\n",
       " '82% off',\n",
       " '49% off',\n",
       " '81% off',\n",
       " '74% off',\n",
       " '74% off',\n",
       " '62% off',\n",
       " '76% off',\n",
       " '20% off',\n",
       " '28% off',\n",
       " '71% off',\n",
       " '82% off',\n",
       " '75% off',\n",
       " '15% off',\n",
       " '60% off',\n",
       " '80% off',\n",
       " '78% off',\n",
       " '20% off',\n",
       " '64% off',\n",
       " '82% off',\n",
       " '85% off',\n",
       " '89% off',\n",
       " '57% off',\n",
       " '81% off',\n",
       " '65% off',\n",
       " '83% off',\n",
       " '50% off',\n",
       " '79% off',\n",
       " '79% off',\n",
       " '20% off',\n",
       " '55% off',\n",
       " '79% off',\n",
       " '84% off',\n",
       " '84% off',\n",
       " '69% off',\n",
       " '78% off',\n",
       " '82% off',\n",
       " '20% off',\n",
       " '70% off',\n",
       " '82% off',\n",
       " '80% off',\n",
       " '81% off',\n",
       " '65% off',\n",
       " '74% off',\n",
       " '86% off',\n",
       " '79% off',\n",
       " '71% off',\n",
       " '87% off',\n",
       " '74% off',\n",
       " '39% off',\n",
       " '75% off']"
      ]
     },
     "execution_count": 78,
     "metadata": {},
     "output_type": "execute_result"
    }
   ],
   "source": [
    "# extracting all the discount\n",
    "\n",
    "for i in discount_tags:\n",
    "    discount=i.text\n",
    "    Discounts.append(discount)  \n",
    "\n",
    "Discounts[0:100]"
   ]
  },
  {
   "cell_type": "markdown",
   "id": "aa26dea3",
   "metadata": {},
   "source": [
    "# Page-3"
   ]
  },
  {
   "cell_type": "code",
   "execution_count": 79,
   "id": "eee1b0b8",
   "metadata": {},
   "outputs": [],
   "source": [
    "third_page=driver.find_element_by_xpath('/html/body/div[1]/div/div[3]/div[1]/div[2]/div[12]/div/div/nav/a[4]')\n",
    "third_page.click()"
   ]
  },
  {
   "cell_type": "raw",
   "id": "229a0adb",
   "metadata": {},
   "source": [
    "Extracting Brand"
   ]
  },
  {
   "cell_type": "code",
   "execution_count": 80,
   "id": "864b2310",
   "metadata": {},
   "outputs": [
    {
     "data": {
      "text/plain": [
       "40"
      ]
     },
     "execution_count": 80,
     "metadata": {},
     "output_type": "execute_result"
    }
   ],
   "source": [
    "Brand_tag=driver.find_elements_by_xpath('//div[@class=\"_2WkVRV\"]')\n",
    "len(Brand_tag)"
   ]
  },
  {
   "cell_type": "code",
   "execution_count": 81,
   "id": "4832d921",
   "metadata": {},
   "outputs": [
    {
     "data": {
      "text/plain": [
       "40"
      ]
     },
     "execution_count": 81,
     "metadata": {},
     "output_type": "execute_result"
    }
   ],
   "source": [
    "Brand = []\n",
    "for i in Brand_tag:\n",
    "    Brand.append(i.text)  \n",
    "\n",
    "len(Brand)"
   ]
  },
  {
   "cell_type": "code",
   "execution_count": 82,
   "id": "45ee49c4",
   "metadata": {},
   "outputs": [
    {
     "data": {
      "text/plain": [
       "['Mi',\n",
       " 'AISLIN',\n",
       " 'Elligator',\n",
       " 'GANSTA',\n",
       " 'New Specs',\n",
       " 'Rich Club',\n",
       " 'kingsunglasses',\n",
       " 'VINCENT CHASE',\n",
       " 'VINCENT CHASE',\n",
       " 'New Specs',\n",
       " 'Fastrack',\n",
       " 'ROYAL SON',\n",
       " 'ROZZETTA CRAFT',\n",
       " 'Fastrack',\n",
       " 'Fastrack',\n",
       " 'IZAAN MART',\n",
       " 'Singco India',\n",
       " 'Fastrack',\n",
       " 'VINCENT CHASE',\n",
       " 'IZAAN MART',\n",
       " 'Fastrack',\n",
       " 'VINCENT CHASE',\n",
       " 'Urbanic',\n",
       " 'ROYAL SON',\n",
       " 'ROYAL SON',\n",
       " 'HAMIW COLLECTION',\n",
       " 'AISLIN',\n",
       " 'ROYAL SON',\n",
       " 'Fastrack',\n",
       " 'kingsunglasses',\n",
       " 'VINCENT CHASE',\n",
       " 'agera',\n",
       " 'Fastrack',\n",
       " 'AISLIN',\n",
       " 'GANSTA',\n",
       " 'ROZZETTA CRAFT',\n",
       " 'PIRASO',\n",
       " 'kingsunglasses',\n",
       " 'ROYAL SON',\n",
       " 'METRONAUT']"
      ]
     },
     "execution_count": 82,
     "metadata": {},
     "output_type": "execute_result"
    }
   ],
   "source": [
    "Brand[0:100]"
   ]
  },
  {
   "cell_type": "raw",
   "id": "24fc2057",
   "metadata": {},
   "source": [
    "Product Description"
   ]
  },
  {
   "cell_type": "code",
   "execution_count": 83,
   "id": "dc8fa7ac",
   "metadata": {},
   "outputs": [
    {
     "data": {
      "text/plain": [
       "40"
      ]
     },
     "execution_count": 83,
     "metadata": {},
     "output_type": "execute_result"
    }
   ],
   "source": [
    "Description_tag=driver.find_elements_by_xpath('//a[@class=\"IRpwTa\"]')\n",
    "len(Description_tag)\n"
   ]
  },
  {
   "cell_type": "code",
   "execution_count": 84,
   "id": "0ce75d0b",
   "metadata": {},
   "outputs": [
    {
     "data": {
      "text/plain": [
       "40"
      ]
     },
     "execution_count": 84,
     "metadata": {},
     "output_type": "execute_result"
    }
   ],
   "source": [
    "Product_Description  = []\n",
    "for i in Description_tag:\n",
    "    Product_Description.append(i.text)  \n",
    "\n",
    "len(Product_Description)\n"
   ]
  },
  {
   "cell_type": "code",
   "execution_count": 85,
   "id": "44190015",
   "metadata": {},
   "outputs": [
    {
     "data": {
      "text/plain": [
       "['Polarized Aviator Sunglasses (Free Size)',\n",
       " 'UV Protection, Gradient Retro Square Sunglasses (58)',\n",
       " 'UV Protection, Riding Glasses Rectangular, Retro Square...',\n",
       " 'UV Protection, Night Vision, Riding Glasses Aviator Sun...',\n",
       " 'UV Protection Aviator Sunglasses (Free Size)',\n",
       " 'UV Protection Retro Square Sunglasses (54)',\n",
       " 'UV Protection Round Sunglasses (54)',\n",
       " 'by Lenskart UV Protection Rectangular Sunglasses (54)',\n",
       " 'by Lenskart Polarized, UV Protection Wayfarer Sunglasse...',\n",
       " 'UV Protection Round Sunglasses (Free Size)',\n",
       " 'UV Protection Wayfarer Sunglasses (Free Size)',\n",
       " 'Polarized, UV Protection Wrap-around Sunglasses (62)',\n",
       " 'UV Protection, Gradient Round Sunglasses (Free Size)',\n",
       " 'UV Protection Wayfarer Sunglasses (Free Size)',\n",
       " 'UV Protection Aviator Sunglasses (58)',\n",
       " 'Mirrored, UV Protection Wayfarer Sunglasses (Free Size)',\n",
       " 'Gradient, Toughened Glass Lens, UV Protection Retro Squ...',\n",
       " 'UV Protection Sports Sunglasses (Free Size)',\n",
       " 'Polarized, UV Protection Round Sunglasses (50)',\n",
       " 'Night Vision Rectangular Sunglasses (55)',\n",
       " 'UV Protection Wayfarer Sunglasses (Free Size)',\n",
       " 'by Lenskart Polarized, UV Protection Aviator Sunglasses...',\n",
       " 'Others Oval Sunglasses (Free Size)',\n",
       " 'Polarized, UV Protection Aviator Sunglasses (58)',\n",
       " 'Mirrored Aviator Sunglasses (55)',\n",
       " 'UV Protection Wayfarer, Sports, Shield, Rectangular, Re...',\n",
       " 'UV Protection, Gradient Oval Sunglasses (58)',\n",
       " 'Polarized, UV Protection Sports Sunglasses (68)',\n",
       " 'UV Protection Aviator Sunglasses (57)',\n",
       " 'UV Protection, Mirrored Aviator Sunglasses (Free Size)',\n",
       " 'by Lenskart Polarized, UV Protection Cat-eye Sunglasses...',\n",
       " 'UV Protection Aviator Sunglasses (Free Size)',\n",
       " 'UV Protection Shield Sunglasses (Free Size)',\n",
       " 'UV Protection, Gradient Butterfly, Retro Square Sunglas...',\n",
       " 'UV Protection Aviator Sunglasses (57)',\n",
       " 'Polarized, Riding Glasses Sports, Wrap-around Sunglasse...',\n",
       " 'UV Protection Butterfly Sunglasses (60)',\n",
       " 'Mirrored, UV Protection Wayfarer Sunglasses (53)',\n",
       " 'UV Protection Rectangular, Retro Square Sunglasses (58)',\n",
       " 'UV Protection Sunglass']"
      ]
     },
     "execution_count": 85,
     "metadata": {},
     "output_type": "execute_result"
    }
   ],
   "source": [
    "Product_Description[0:100]"
   ]
  },
  {
   "cell_type": "raw",
   "id": "8792aa01",
   "metadata": {},
   "source": [
    "Extracting Price"
   ]
  },
  {
   "cell_type": "code",
   "execution_count": 86,
   "id": "5978caa6",
   "metadata": {},
   "outputs": [
    {
     "data": {
      "text/plain": [
       "40"
      ]
     },
     "execution_count": 86,
     "metadata": {},
     "output_type": "execute_result"
    }
   ],
   "source": [
    "Price_tags=driver.find_elements_by_xpath(\"//div[@class='_3I9_wc']\")\n",
    "len(Price_tags)"
   ]
  },
  {
   "cell_type": "code",
   "execution_count": 87,
   "id": "50f5be4e",
   "metadata": {},
   "outputs": [
    {
     "data": {
      "text/plain": [
       "[<selenium.webdriver.remote.webelement.WebElement (session=\"2a828a0c4b154e1f5069c500cd78843d\", element=\"aa51fc2f-4ec5-4c58-bc63-1c56406d4112\")>,\n",
       " <selenium.webdriver.remote.webelement.WebElement (session=\"2a828a0c4b154e1f5069c500cd78843d\", element=\"8451de39-0479-4ba1-8c9f-137b0e826ad7\")>,\n",
       " <selenium.webdriver.remote.webelement.WebElement (session=\"2a828a0c4b154e1f5069c500cd78843d\", element=\"472c1a4b-55ae-4633-bc7f-8e356bf952f3\")>,\n",
       " <selenium.webdriver.remote.webelement.WebElement (session=\"2a828a0c4b154e1f5069c500cd78843d\", element=\"59951ad5-4828-4940-8063-7105051707b4\")>,\n",
       " <selenium.webdriver.remote.webelement.WebElement (session=\"2a828a0c4b154e1f5069c500cd78843d\", element=\"42395e17-ea76-41da-93a1-e18521fa01fc\")>,\n",
       " <selenium.webdriver.remote.webelement.WebElement (session=\"2a828a0c4b154e1f5069c500cd78843d\", element=\"b2bcdb11-ad0b-44e3-83eb-e49ff096359c\")>,\n",
       " <selenium.webdriver.remote.webelement.WebElement (session=\"2a828a0c4b154e1f5069c500cd78843d\", element=\"1c75aee2-453b-4342-982d-41398c57cc4b\")>,\n",
       " <selenium.webdriver.remote.webelement.WebElement (session=\"2a828a0c4b154e1f5069c500cd78843d\", element=\"8d361e55-ee54-4dd3-8bb3-efe30af2368d\")>,\n",
       " <selenium.webdriver.remote.webelement.WebElement (session=\"2a828a0c4b154e1f5069c500cd78843d\", element=\"f13cf43d-6bfb-4338-be57-74d071143b16\")>,\n",
       " <selenium.webdriver.remote.webelement.WebElement (session=\"2a828a0c4b154e1f5069c500cd78843d\", element=\"3fbd1bb3-66ba-48a4-9949-a25d6d33eb30\")>,\n",
       " <selenium.webdriver.remote.webelement.WebElement (session=\"2a828a0c4b154e1f5069c500cd78843d\", element=\"0fb9d8a9-006f-468d-aaa1-3e47d550b243\")>,\n",
       " <selenium.webdriver.remote.webelement.WebElement (session=\"2a828a0c4b154e1f5069c500cd78843d\", element=\"99c4931f-368f-4b23-8658-7a74af65accd\")>,\n",
       " <selenium.webdriver.remote.webelement.WebElement (session=\"2a828a0c4b154e1f5069c500cd78843d\", element=\"6dcc3226-8f02-44fb-9af7-c579ad2184ec\")>,\n",
       " <selenium.webdriver.remote.webelement.WebElement (session=\"2a828a0c4b154e1f5069c500cd78843d\", element=\"06748692-2b58-4d7b-9a2e-83cabadd4eef\")>,\n",
       " <selenium.webdriver.remote.webelement.WebElement (session=\"2a828a0c4b154e1f5069c500cd78843d\", element=\"6c770023-a5c3-4e46-adac-9b819d46d959\")>,\n",
       " <selenium.webdriver.remote.webelement.WebElement (session=\"2a828a0c4b154e1f5069c500cd78843d\", element=\"e61d566b-ce2a-490f-8c35-07cfa232d0ea\")>,\n",
       " <selenium.webdriver.remote.webelement.WebElement (session=\"2a828a0c4b154e1f5069c500cd78843d\", element=\"7484b8d9-8809-476d-a1b4-9de0f9914703\")>,\n",
       " <selenium.webdriver.remote.webelement.WebElement (session=\"2a828a0c4b154e1f5069c500cd78843d\", element=\"7dd03957-9a42-494d-84a8-4185ece70b0e\")>,\n",
       " <selenium.webdriver.remote.webelement.WebElement (session=\"2a828a0c4b154e1f5069c500cd78843d\", element=\"b59e416a-3935-4da7-9115-dd89c62801c4\")>,\n",
       " <selenium.webdriver.remote.webelement.WebElement (session=\"2a828a0c4b154e1f5069c500cd78843d\", element=\"6bec93d0-bfc7-48e7-93ce-daa8ce2cbe20\")>,\n",
       " <selenium.webdriver.remote.webelement.WebElement (session=\"2a828a0c4b154e1f5069c500cd78843d\", element=\"13ab41cf-a51d-411c-a5ab-6bd683cea9c4\")>,\n",
       " <selenium.webdriver.remote.webelement.WebElement (session=\"2a828a0c4b154e1f5069c500cd78843d\", element=\"7543df6d-efe0-4cd5-98f3-fd296fb32d79\")>,\n",
       " <selenium.webdriver.remote.webelement.WebElement (session=\"2a828a0c4b154e1f5069c500cd78843d\", element=\"ce1bb991-fdc8-4b71-b87f-faed23130f4a\")>,\n",
       " <selenium.webdriver.remote.webelement.WebElement (session=\"2a828a0c4b154e1f5069c500cd78843d\", element=\"c1107792-d73d-4d07-b551-5925ceff0c69\")>,\n",
       " <selenium.webdriver.remote.webelement.WebElement (session=\"2a828a0c4b154e1f5069c500cd78843d\", element=\"cfe8e1f6-6de8-47ab-b65e-9e0614b12f19\")>,\n",
       " <selenium.webdriver.remote.webelement.WebElement (session=\"2a828a0c4b154e1f5069c500cd78843d\", element=\"957bb68f-a8dc-4920-aedf-c9c6dd6f435d\")>,\n",
       " <selenium.webdriver.remote.webelement.WebElement (session=\"2a828a0c4b154e1f5069c500cd78843d\", element=\"90ca909c-79f5-49b7-a616-6ccf0153ef2b\")>,\n",
       " <selenium.webdriver.remote.webelement.WebElement (session=\"2a828a0c4b154e1f5069c500cd78843d\", element=\"fa7c25f8-de82-4001-b3e8-f2a8b2abea9d\")>,\n",
       " <selenium.webdriver.remote.webelement.WebElement (session=\"2a828a0c4b154e1f5069c500cd78843d\", element=\"c7a7a41e-9433-4a38-b2cf-8f1543735473\")>,\n",
       " <selenium.webdriver.remote.webelement.WebElement (session=\"2a828a0c4b154e1f5069c500cd78843d\", element=\"8c2c39e8-b355-4a8a-b375-d6a218077ed4\")>,\n",
       " <selenium.webdriver.remote.webelement.WebElement (session=\"2a828a0c4b154e1f5069c500cd78843d\", element=\"808b7ce1-d117-43ad-8549-8cef1f038682\")>,\n",
       " <selenium.webdriver.remote.webelement.WebElement (session=\"2a828a0c4b154e1f5069c500cd78843d\", element=\"89e95046-d575-4125-bbb2-b30e73835cfb\")>,\n",
       " <selenium.webdriver.remote.webelement.WebElement (session=\"2a828a0c4b154e1f5069c500cd78843d\", element=\"eef7d6d0-2793-4692-be39-da34c278de8f\")>,\n",
       " <selenium.webdriver.remote.webelement.WebElement (session=\"2a828a0c4b154e1f5069c500cd78843d\", element=\"cb481caf-64de-485e-83bd-a0520d0c8bdf\")>,\n",
       " <selenium.webdriver.remote.webelement.WebElement (session=\"2a828a0c4b154e1f5069c500cd78843d\", element=\"b63e37d9-4f89-4ce8-a3cb-40c16d798f24\")>,\n",
       " <selenium.webdriver.remote.webelement.WebElement (session=\"2a828a0c4b154e1f5069c500cd78843d\", element=\"7ae40df8-4a73-4367-b71f-47ec86bf19d6\")>,\n",
       " <selenium.webdriver.remote.webelement.WebElement (session=\"2a828a0c4b154e1f5069c500cd78843d\", element=\"9b970405-890b-4b2c-aeb6-cb1750c4684e\")>,\n",
       " <selenium.webdriver.remote.webelement.WebElement (session=\"2a828a0c4b154e1f5069c500cd78843d\", element=\"c7a9eff4-83c8-48a0-bb90-304f14078d5a\")>,\n",
       " <selenium.webdriver.remote.webelement.WebElement (session=\"2a828a0c4b154e1f5069c500cd78843d\", element=\"37ac87e4-e634-4990-8fb2-7d279e9fd90f\")>,\n",
       " <selenium.webdriver.remote.webelement.WebElement (session=\"2a828a0c4b154e1f5069c500cd78843d\", element=\"39d9b4df-1e31-4e56-9132-810241bd0d51\")>]"
      ]
     },
     "execution_count": 87,
     "metadata": {},
     "output_type": "execute_result"
    }
   ],
   "source": [
    "Price_tags"
   ]
  },
  {
   "cell_type": "code",
   "execution_count": 88,
   "id": "cbd3e4e8",
   "metadata": {},
   "outputs": [
    {
     "data": {
      "text/plain": [
       "['₹1,999',\n",
       " '₹999',\n",
       " '₹999',\n",
       " '₹2,599',\n",
       " '₹799',\n",
       " '₹2,495',\n",
       " '₹1,599',\n",
       " '₹999',\n",
       " '₹1,299',\n",
       " '₹1,299',\n",
       " '₹1,599',\n",
       " '₹1,999',\n",
       " '₹1,699',\n",
       " '₹999',\n",
       " '₹2,599',\n",
       " '₹999',\n",
       " '₹2,599',\n",
       " '₹1,999',\n",
       " '₹2,499',\n",
       " '₹1,999',\n",
       " '₹1,299',\n",
       " '₹799',\n",
       " '₹1,299',\n",
       " '₹2,555',\n",
       " '₹1,999',\n",
       " '₹1,599',\n",
       " '₹599',\n",
       " '₹1,999',\n",
       " '₹1,599',\n",
       " '₹1,499',\n",
       " '₹1,499',\n",
       " '₹6,390',\n",
       " '₹1,599',\n",
       " '₹2,099',\n",
       " '₹1,499',\n",
       " '₹1,999',\n",
       " '₹1,245',\n",
       " '₹899',\n",
       " '₹899',\n",
       " '₹699',\n",
       " '₹1,199',\n",
       " '₹999',\n",
       " '₹1,199',\n",
       " '₹1,999',\n",
       " '₹1,699',\n",
       " '₹999',\n",
       " '₹1,299',\n",
       " '₹1,999',\n",
       " '₹1,299',\n",
       " '₹1,299',\n",
       " '₹1,499',\n",
       " '₹1,999',\n",
       " '₹1,999',\n",
       " '₹1,999',\n",
       " '₹1,999',\n",
       " '₹6,000',\n",
       " '₹1,499',\n",
       " '₹1,599',\n",
       " '₹999',\n",
       " '₹1,199',\n",
       " '₹998',\n",
       " '₹1,599',\n",
       " '₹2,599',\n",
       " '₹1,999',\n",
       " '₹2,225',\n",
       " '₹1,999',\n",
       " '₹899',\n",
       " '₹999',\n",
       " '₹999',\n",
       " '₹1,499',\n",
       " '₹1,199',\n",
       " '₹1,999',\n",
       " '₹1,499',\n",
       " '₹1,599',\n",
       " '₹3,200',\n",
       " '₹1,999',\n",
       " '₹1,599',\n",
       " '₹1,499',\n",
       " '₹790',\n",
       " '₹2,555',\n",
       " '₹1,199',\n",
       " '₹1,525',\n",
       " '₹1,499',\n",
       " '₹1,999',\n",
       " '₹1,599',\n",
       " '₹699',\n",
       " '₹1,099',\n",
       " '₹1,999',\n",
       " '₹2,500',\n",
       " '₹1,299',\n",
       " '₹899',\n",
       " '₹1,999',\n",
       " '₹1,999',\n",
       " '₹799',\n",
       " '₹1,299',\n",
       " '₹1,599',\n",
       " '₹2,999',\n",
       " '₹899',\n",
       " '₹1,999',\n",
       " '₹1,899']"
      ]
     },
     "execution_count": 88,
     "metadata": {},
     "output_type": "execute_result"
    }
   ],
   "source": [
    "# extracting all the price\n",
    "\n",
    "for i in Price_tags:\n",
    "    Prices=i.text\n",
    "    Price.append(Prices)  \n",
    "\n",
    "Price[0:100]"
   ]
  },
  {
   "cell_type": "raw",
   "id": "e1e3dd1c",
   "metadata": {},
   "source": [
    "Extracting Discount"
   ]
  },
  {
   "cell_type": "code",
   "execution_count": 89,
   "id": "f38d30f3",
   "metadata": {},
   "outputs": [
    {
     "data": {
      "text/plain": [
       "40"
      ]
     },
     "execution_count": 89,
     "metadata": {},
     "output_type": "execute_result"
    }
   ],
   "source": [
    "# extracting discount\n",
    "\n",
    "discount_tags=driver.find_elements_by_xpath(\"//div[@class='_3Ay6Sb']\")\n",
    "len(discount_tags)"
   ]
  },
  {
   "cell_type": "code",
   "execution_count": 90,
   "id": "1142815e",
   "metadata": {},
   "outputs": [
    {
     "data": {
      "text/plain": [
       "[<selenium.webdriver.remote.webelement.WebElement (session=\"2a828a0c4b154e1f5069c500cd78843d\", element=\"91b718dd-7653-471e-8ba0-f9684b5d9c2e\")>,\n",
       " <selenium.webdriver.remote.webelement.WebElement (session=\"2a828a0c4b154e1f5069c500cd78843d\", element=\"e83da14b-a7fa-425a-87ed-c684ddd37543\")>,\n",
       " <selenium.webdriver.remote.webelement.WebElement (session=\"2a828a0c4b154e1f5069c500cd78843d\", element=\"4e09ca2a-1bd0-4c40-9982-ce00cb99f76b\")>,\n",
       " <selenium.webdriver.remote.webelement.WebElement (session=\"2a828a0c4b154e1f5069c500cd78843d\", element=\"1605cf86-d0c4-4cbb-bee4-5a7d9d30058a\")>,\n",
       " <selenium.webdriver.remote.webelement.WebElement (session=\"2a828a0c4b154e1f5069c500cd78843d\", element=\"75831003-965b-427a-b7ee-ab84c4dc7557\")>,\n",
       " <selenium.webdriver.remote.webelement.WebElement (session=\"2a828a0c4b154e1f5069c500cd78843d\", element=\"0c6ba113-73cc-4321-a094-1145806d0704\")>,\n",
       " <selenium.webdriver.remote.webelement.WebElement (session=\"2a828a0c4b154e1f5069c500cd78843d\", element=\"a123238b-fb17-4bae-b7c8-ae6dd757ac49\")>,\n",
       " <selenium.webdriver.remote.webelement.WebElement (session=\"2a828a0c4b154e1f5069c500cd78843d\", element=\"6cdcaec4-7a14-4343-a04c-185a6b5a0a66\")>,\n",
       " <selenium.webdriver.remote.webelement.WebElement (session=\"2a828a0c4b154e1f5069c500cd78843d\", element=\"c2cd53e4-2aa8-4a0f-841e-183288141486\")>,\n",
       " <selenium.webdriver.remote.webelement.WebElement (session=\"2a828a0c4b154e1f5069c500cd78843d\", element=\"6d23ada3-3b12-4a65-b884-8d2754bf91c3\")>,\n",
       " <selenium.webdriver.remote.webelement.WebElement (session=\"2a828a0c4b154e1f5069c500cd78843d\", element=\"62e1e023-123a-41e5-bdb6-9b7b7fa31bd7\")>,\n",
       " <selenium.webdriver.remote.webelement.WebElement (session=\"2a828a0c4b154e1f5069c500cd78843d\", element=\"875945fd-4629-478f-a095-9e3d3f390146\")>,\n",
       " <selenium.webdriver.remote.webelement.WebElement (session=\"2a828a0c4b154e1f5069c500cd78843d\", element=\"905f6dc1-1c37-40bd-9e4f-6ddd485c8072\")>,\n",
       " <selenium.webdriver.remote.webelement.WebElement (session=\"2a828a0c4b154e1f5069c500cd78843d\", element=\"e71d7ef9-5900-4f7f-bf8a-dc816af5bdba\")>,\n",
       " <selenium.webdriver.remote.webelement.WebElement (session=\"2a828a0c4b154e1f5069c500cd78843d\", element=\"5a558af3-2404-4a6e-9c87-a2faeafb4df3\")>,\n",
       " <selenium.webdriver.remote.webelement.WebElement (session=\"2a828a0c4b154e1f5069c500cd78843d\", element=\"e080f81d-f83a-44a1-a9fc-89e0d78d3fa2\")>,\n",
       " <selenium.webdriver.remote.webelement.WebElement (session=\"2a828a0c4b154e1f5069c500cd78843d\", element=\"a95e22fb-6a65-43ab-b596-41d9f201c2a4\")>,\n",
       " <selenium.webdriver.remote.webelement.WebElement (session=\"2a828a0c4b154e1f5069c500cd78843d\", element=\"75a1179c-aab6-406b-8407-05d1c7e7df94\")>,\n",
       " <selenium.webdriver.remote.webelement.WebElement (session=\"2a828a0c4b154e1f5069c500cd78843d\", element=\"0b38754d-7a09-415f-90c7-f3f3b8f99bd0\")>,\n",
       " <selenium.webdriver.remote.webelement.WebElement (session=\"2a828a0c4b154e1f5069c500cd78843d\", element=\"93bf356c-5ed4-4c72-9777-4a7975afdd6b\")>,\n",
       " <selenium.webdriver.remote.webelement.WebElement (session=\"2a828a0c4b154e1f5069c500cd78843d\", element=\"1437f246-d289-46ac-bc14-4dd368ed4f28\")>,\n",
       " <selenium.webdriver.remote.webelement.WebElement (session=\"2a828a0c4b154e1f5069c500cd78843d\", element=\"17681ad9-8d7c-4a73-8fd0-5b2d7b973d6b\")>,\n",
       " <selenium.webdriver.remote.webelement.WebElement (session=\"2a828a0c4b154e1f5069c500cd78843d\", element=\"ca2f4018-501e-4d15-b198-19c84ae7e3ac\")>,\n",
       " <selenium.webdriver.remote.webelement.WebElement (session=\"2a828a0c4b154e1f5069c500cd78843d\", element=\"b75c9f01-ac1c-4d9a-94a1-8cb9ba3c7a1d\")>,\n",
       " <selenium.webdriver.remote.webelement.WebElement (session=\"2a828a0c4b154e1f5069c500cd78843d\", element=\"a3dd3bab-a830-42cc-9d10-7faf6654b23c\")>,\n",
       " <selenium.webdriver.remote.webelement.WebElement (session=\"2a828a0c4b154e1f5069c500cd78843d\", element=\"c79fcc9c-4d7b-4851-be3b-15df1d5f055c\")>,\n",
       " <selenium.webdriver.remote.webelement.WebElement (session=\"2a828a0c4b154e1f5069c500cd78843d\", element=\"fa0e5e35-0b98-468e-9b4d-9378cce7a0fe\")>,\n",
       " <selenium.webdriver.remote.webelement.WebElement (session=\"2a828a0c4b154e1f5069c500cd78843d\", element=\"14b04e29-73e1-4e35-adf2-7c7250f3abbc\")>,\n",
       " <selenium.webdriver.remote.webelement.WebElement (session=\"2a828a0c4b154e1f5069c500cd78843d\", element=\"f7d7c454-4a0d-4c02-8b22-51dafedf43de\")>,\n",
       " <selenium.webdriver.remote.webelement.WebElement (session=\"2a828a0c4b154e1f5069c500cd78843d\", element=\"19834053-c9ca-4c45-9e2e-106646d8bad4\")>,\n",
       " <selenium.webdriver.remote.webelement.WebElement (session=\"2a828a0c4b154e1f5069c500cd78843d\", element=\"b26f0680-e46c-4899-851d-ebd589e5c35d\")>,\n",
       " <selenium.webdriver.remote.webelement.WebElement (session=\"2a828a0c4b154e1f5069c500cd78843d\", element=\"02733452-3965-4159-acad-fe7376e80571\")>,\n",
       " <selenium.webdriver.remote.webelement.WebElement (session=\"2a828a0c4b154e1f5069c500cd78843d\", element=\"5f9d406a-7fe5-408d-8a5f-10e93feaa2a1\")>,\n",
       " <selenium.webdriver.remote.webelement.WebElement (session=\"2a828a0c4b154e1f5069c500cd78843d\", element=\"d9494ed5-8eb9-404a-9b08-2ee5130e192e\")>,\n",
       " <selenium.webdriver.remote.webelement.WebElement (session=\"2a828a0c4b154e1f5069c500cd78843d\", element=\"a03ee243-856c-4dbf-8dc6-bf5e5cadab5c\")>,\n",
       " <selenium.webdriver.remote.webelement.WebElement (session=\"2a828a0c4b154e1f5069c500cd78843d\", element=\"81384269-10e7-4696-bfda-2e484e6eb66a\")>,\n",
       " <selenium.webdriver.remote.webelement.WebElement (session=\"2a828a0c4b154e1f5069c500cd78843d\", element=\"bbf1c2ac-99af-4a4e-978b-f796f92dd872\")>,\n",
       " <selenium.webdriver.remote.webelement.WebElement (session=\"2a828a0c4b154e1f5069c500cd78843d\", element=\"d1509772-7447-4c01-a525-04552fccc41b\")>,\n",
       " <selenium.webdriver.remote.webelement.WebElement (session=\"2a828a0c4b154e1f5069c500cd78843d\", element=\"57c3529d-ab7a-4ca7-aa2e-3c04dc5421ef\")>,\n",
       " <selenium.webdriver.remote.webelement.WebElement (session=\"2a828a0c4b154e1f5069c500cd78843d\", element=\"3835f314-8063-492b-bc82-aa72e8d1c9d4\")>]"
      ]
     },
     "execution_count": 90,
     "metadata": {},
     "output_type": "execute_result"
    }
   ],
   "source": [
    "discount_tags"
   ]
  },
  {
   "cell_type": "code",
   "execution_count": 91,
   "id": "6246a1c5",
   "metadata": {},
   "outputs": [
    {
     "data": {
      "text/plain": [
       "['62% off',\n",
       " '35% off',\n",
       " '82% off',\n",
       " '89% off',\n",
       " '20% off',\n",
       " '88% off',\n",
       " '85% off',\n",
       " '68% off',\n",
       " '78% off',\n",
       " '83% off',\n",
       " '85% off',\n",
       " '81% off',\n",
       " '88% off',\n",
       " '28% off',\n",
       " '88% off',\n",
       " '76% off',\n",
       " '86% off',\n",
       " '83% off',\n",
       " '88% off',\n",
       " '69% off',\n",
       " '80% off',\n",
       " '20% off',\n",
       " '78% off',\n",
       " '75% off',\n",
       " '76% off',\n",
       " '85% off',\n",
       " '68% off',\n",
       " '84% off',\n",
       " '84% off',\n",
       " '84% off',\n",
       " '82% off',\n",
       " '49% off',\n",
       " '81% off',\n",
       " '74% off',\n",
       " '74% off',\n",
       " '62% off',\n",
       " '76% off',\n",
       " '20% off',\n",
       " '28% off',\n",
       " '71% off',\n",
       " '82% off',\n",
       " '75% off',\n",
       " '15% off',\n",
       " '60% off',\n",
       " '80% off',\n",
       " '78% off',\n",
       " '20% off',\n",
       " '64% off',\n",
       " '82% off',\n",
       " '85% off',\n",
       " '89% off',\n",
       " '57% off',\n",
       " '81% off',\n",
       " '65% off',\n",
       " '83% off',\n",
       " '50% off',\n",
       " '79% off',\n",
       " '79% off',\n",
       " '20% off',\n",
       " '55% off',\n",
       " '79% off',\n",
       " '84% off',\n",
       " '84% off',\n",
       " '69% off',\n",
       " '78% off',\n",
       " '82% off',\n",
       " '20% off',\n",
       " '70% off',\n",
       " '82% off',\n",
       " '80% off',\n",
       " '81% off',\n",
       " '65% off',\n",
       " '74% off',\n",
       " '86% off',\n",
       " '79% off',\n",
       " '71% off',\n",
       " '87% off',\n",
       " '74% off',\n",
       " '39% off',\n",
       " '75% off',\n",
       " '20% off',\n",
       " '67% off',\n",
       " '74% off',\n",
       " '84% off',\n",
       " '86% off',\n",
       " '62% off',\n",
       " '80% off',\n",
       " '62% off',\n",
       " '70% off',\n",
       " '79% off',\n",
       " '10% off',\n",
       " '60% off',\n",
       " '81% off',\n",
       " '20% off',\n",
       " '10% off',\n",
       " '81% off',\n",
       " '80% off',\n",
       " '15% off',\n",
       " '57% off',\n",
       " '74% off']"
      ]
     },
     "execution_count": 91,
     "metadata": {},
     "output_type": "execute_result"
    }
   ],
   "source": [
    "# extracting all the discount\n",
    "\n",
    "for i in discount_tags:\n",
    "    discount=i.text\n",
    "    Discounts.append(discount)  \n",
    "\n",
    "Discounts[0:100]"
   ]
  },
  {
   "cell_type": "code",
   "execution_count": 92,
   "id": "e2569200",
   "metadata": {},
   "outputs": [
    {
     "name": "stdout",
     "output_type": "stream",
     "text": [
      "40 40 120 120\n"
     ]
    }
   ],
   "source": [
    "# checking the length of each list\n",
    "\n",
    "print(len(Brand),len(Product_Description),len(Price),len(Discounts))"
   ]
  },
  {
   "cell_type": "code",
   "execution_count": 93,
   "id": "55b2a12a",
   "metadata": {},
   "outputs": [
    {
     "ename": "ValueError",
     "evalue": "Length of values (120) does not match length of index (40)",
     "output_type": "error",
     "traceback": [
      "\u001b[1;31m---------------------------------------------------------------------------\u001b[0m",
      "\u001b[1;31mValueError\u001b[0m                                Traceback (most recent call last)",
      "\u001b[1;32m<ipython-input-93-160827d63db4>\u001b[0m in \u001b[0;36m<module>\u001b[1;34m\u001b[0m\n\u001b[0;32m      5\u001b[0m \u001b[0mSunglasses\u001b[0m\u001b[1;33m[\u001b[0m\u001b[1;34m'Company'\u001b[0m\u001b[1;33m]\u001b[0m\u001b[1;33m=\u001b[0m\u001b[0mBrand\u001b[0m\u001b[1;33m\u001b[0m\u001b[1;33m\u001b[0m\u001b[0m\n\u001b[0;32m      6\u001b[0m \u001b[0mSunglasses\u001b[0m\u001b[1;33m[\u001b[0m\u001b[1;34m'Details'\u001b[0m\u001b[1;33m]\u001b[0m\u001b[1;33m=\u001b[0m\u001b[0mProduct_Description\u001b[0m\u001b[1;33m\u001b[0m\u001b[1;33m\u001b[0m\u001b[0m\n\u001b[1;32m----> 7\u001b[1;33m \u001b[0mSunglasses\u001b[0m\u001b[1;33m[\u001b[0m\u001b[1;34m'MRP'\u001b[0m\u001b[1;33m]\u001b[0m\u001b[1;33m=\u001b[0m\u001b[0mPrice\u001b[0m\u001b[1;33m\u001b[0m\u001b[1;33m\u001b[0m\u001b[0m\n\u001b[0m\u001b[0;32m      8\u001b[0m \u001b[0mSunglasses\u001b[0m\u001b[1;33m[\u001b[0m\u001b[1;34m'Offer'\u001b[0m\u001b[1;33m]\u001b[0m\u001b[1;33m=\u001b[0m\u001b[0mDiscounts\u001b[0m\u001b[1;33m\u001b[0m\u001b[1;33m\u001b[0m\u001b[0m\n",
      "\u001b[1;32m~\\anaconda3\\lib\\site-packages\\pandas\\core\\frame.py\u001b[0m in \u001b[0;36m__setitem__\u001b[1;34m(self, key, value)\u001b[0m\n\u001b[0;32m   3161\u001b[0m         \u001b[1;32melse\u001b[0m\u001b[1;33m:\u001b[0m\u001b[1;33m\u001b[0m\u001b[1;33m\u001b[0m\u001b[0m\n\u001b[0;32m   3162\u001b[0m             \u001b[1;31m# set column\u001b[0m\u001b[1;33m\u001b[0m\u001b[1;33m\u001b[0m\u001b[1;33m\u001b[0m\u001b[0m\n\u001b[1;32m-> 3163\u001b[1;33m             \u001b[0mself\u001b[0m\u001b[1;33m.\u001b[0m\u001b[0m_set_item\u001b[0m\u001b[1;33m(\u001b[0m\u001b[0mkey\u001b[0m\u001b[1;33m,\u001b[0m \u001b[0mvalue\u001b[0m\u001b[1;33m)\u001b[0m\u001b[1;33m\u001b[0m\u001b[1;33m\u001b[0m\u001b[0m\n\u001b[0m\u001b[0;32m   3164\u001b[0m \u001b[1;33m\u001b[0m\u001b[0m\n\u001b[0;32m   3165\u001b[0m     \u001b[1;32mdef\u001b[0m \u001b[0m_setitem_slice\u001b[0m\u001b[1;33m(\u001b[0m\u001b[0mself\u001b[0m\u001b[1;33m,\u001b[0m \u001b[0mkey\u001b[0m\u001b[1;33m:\u001b[0m \u001b[0mslice\u001b[0m\u001b[1;33m,\u001b[0m \u001b[0mvalue\u001b[0m\u001b[1;33m)\u001b[0m\u001b[1;33m:\u001b[0m\u001b[1;33m\u001b[0m\u001b[1;33m\u001b[0m\u001b[0m\n",
      "\u001b[1;32m~\\anaconda3\\lib\\site-packages\\pandas\\core\\frame.py\u001b[0m in \u001b[0;36m_set_item\u001b[1;34m(self, key, value)\u001b[0m\n\u001b[0;32m   3240\u001b[0m         \"\"\"\n\u001b[0;32m   3241\u001b[0m         \u001b[0mself\u001b[0m\u001b[1;33m.\u001b[0m\u001b[0m_ensure_valid_index\u001b[0m\u001b[1;33m(\u001b[0m\u001b[0mvalue\u001b[0m\u001b[1;33m)\u001b[0m\u001b[1;33m\u001b[0m\u001b[1;33m\u001b[0m\u001b[0m\n\u001b[1;32m-> 3242\u001b[1;33m         \u001b[0mvalue\u001b[0m \u001b[1;33m=\u001b[0m \u001b[0mself\u001b[0m\u001b[1;33m.\u001b[0m\u001b[0m_sanitize_column\u001b[0m\u001b[1;33m(\u001b[0m\u001b[0mkey\u001b[0m\u001b[1;33m,\u001b[0m \u001b[0mvalue\u001b[0m\u001b[1;33m)\u001b[0m\u001b[1;33m\u001b[0m\u001b[1;33m\u001b[0m\u001b[0m\n\u001b[0m\u001b[0;32m   3243\u001b[0m         \u001b[0mNDFrame\u001b[0m\u001b[1;33m.\u001b[0m\u001b[0m_set_item\u001b[0m\u001b[1;33m(\u001b[0m\u001b[0mself\u001b[0m\u001b[1;33m,\u001b[0m \u001b[0mkey\u001b[0m\u001b[1;33m,\u001b[0m \u001b[0mvalue\u001b[0m\u001b[1;33m)\u001b[0m\u001b[1;33m\u001b[0m\u001b[1;33m\u001b[0m\u001b[0m\n\u001b[0;32m   3244\u001b[0m \u001b[1;33m\u001b[0m\u001b[0m\n",
      "\u001b[1;32m~\\anaconda3\\lib\\site-packages\\pandas\\core\\frame.py\u001b[0m in \u001b[0;36m_sanitize_column\u001b[1;34m(self, key, value, broadcast)\u001b[0m\n\u001b[0;32m   3897\u001b[0m \u001b[1;33m\u001b[0m\u001b[0m\n\u001b[0;32m   3898\u001b[0m             \u001b[1;31m# turn me into an ndarray\u001b[0m\u001b[1;33m\u001b[0m\u001b[1;33m\u001b[0m\u001b[1;33m\u001b[0m\u001b[0m\n\u001b[1;32m-> 3899\u001b[1;33m             \u001b[0mvalue\u001b[0m \u001b[1;33m=\u001b[0m \u001b[0msanitize_index\u001b[0m\u001b[1;33m(\u001b[0m\u001b[0mvalue\u001b[0m\u001b[1;33m,\u001b[0m \u001b[0mself\u001b[0m\u001b[1;33m.\u001b[0m\u001b[0mindex\u001b[0m\u001b[1;33m)\u001b[0m\u001b[1;33m\u001b[0m\u001b[1;33m\u001b[0m\u001b[0m\n\u001b[0m\u001b[0;32m   3900\u001b[0m             \u001b[1;32mif\u001b[0m \u001b[1;32mnot\u001b[0m \u001b[0misinstance\u001b[0m\u001b[1;33m(\u001b[0m\u001b[0mvalue\u001b[0m\u001b[1;33m,\u001b[0m \u001b[1;33m(\u001b[0m\u001b[0mnp\u001b[0m\u001b[1;33m.\u001b[0m\u001b[0mndarray\u001b[0m\u001b[1;33m,\u001b[0m \u001b[0mIndex\u001b[0m\u001b[1;33m)\u001b[0m\u001b[1;33m)\u001b[0m\u001b[1;33m:\u001b[0m\u001b[1;33m\u001b[0m\u001b[1;33m\u001b[0m\u001b[0m\n\u001b[0;32m   3901\u001b[0m                 \u001b[1;32mif\u001b[0m \u001b[0misinstance\u001b[0m\u001b[1;33m(\u001b[0m\u001b[0mvalue\u001b[0m\u001b[1;33m,\u001b[0m \u001b[0mlist\u001b[0m\u001b[1;33m)\u001b[0m \u001b[1;32mand\u001b[0m \u001b[0mlen\u001b[0m\u001b[1;33m(\u001b[0m\u001b[0mvalue\u001b[0m\u001b[1;33m)\u001b[0m \u001b[1;33m>\u001b[0m \u001b[1;36m0\u001b[0m\u001b[1;33m:\u001b[0m\u001b[1;33m\u001b[0m\u001b[1;33m\u001b[0m\u001b[0m\n",
      "\u001b[1;32m~\\anaconda3\\lib\\site-packages\\pandas\\core\\internals\\construction.py\u001b[0m in \u001b[0;36msanitize_index\u001b[1;34m(data, index)\u001b[0m\n\u001b[0;32m    749\u001b[0m     \"\"\"\n\u001b[0;32m    750\u001b[0m     \u001b[1;32mif\u001b[0m \u001b[0mlen\u001b[0m\u001b[1;33m(\u001b[0m\u001b[0mdata\u001b[0m\u001b[1;33m)\u001b[0m \u001b[1;33m!=\u001b[0m \u001b[0mlen\u001b[0m\u001b[1;33m(\u001b[0m\u001b[0mindex\u001b[0m\u001b[1;33m)\u001b[0m\u001b[1;33m:\u001b[0m\u001b[1;33m\u001b[0m\u001b[1;33m\u001b[0m\u001b[0m\n\u001b[1;32m--> 751\u001b[1;33m         raise ValueError(\n\u001b[0m\u001b[0;32m    752\u001b[0m             \u001b[1;34m\"Length of values \"\u001b[0m\u001b[1;33m\u001b[0m\u001b[1;33m\u001b[0m\u001b[0m\n\u001b[0;32m    753\u001b[0m             \u001b[1;34mf\"({len(data)}) \"\u001b[0m\u001b[1;33m\u001b[0m\u001b[1;33m\u001b[0m\u001b[0m\n",
      "\u001b[1;31mValueError\u001b[0m: Length of values (120) does not match length of index (40)"
     ]
    }
   ],
   "source": [
    "# creating dataframe\n",
    "\n",
    "Sunglasses=pd.DataFrame({})\n",
    "\n",
    "Sunglasses['Company']=Brand\n",
    "Sunglasses['Details']=Product_Description\n",
    "Sunglasses['MRP']=Price\n",
    "Sunglasses['Offer']=Discounts\n"
   ]
  },
  {
   "cell_type": "raw",
   "id": "a0ad2086",
   "metadata": {},
   "source": [
    "Q5: Scrape 100 reviews data from flipkart.com for iphone11 phone.\n",
    "This task will be done in following steps:\n",
    "1. First get the webpage https://www.flipkart.com/\n",
    "2. Enter “iphone 11” in “Search” field . \n",
    "3. Then click the search button.\n",
    "You will reach to the below shown webpage\n",
    "\n",
    "As shown in the above page you have to scrape the tick marked attributes.These are:\n",
    "1. Rating\n",
    "2. Review summary\n",
    "3. Full review\n",
    "4. You have to scrape this data for first 100 reviews.\n",
    "Note: All the steps required during scraping should be done through code only and not manually."
   ]
  },
  {
   "cell_type": "code",
   "execution_count": null,
   "id": "2609998a",
   "metadata": {},
   "outputs": [],
   "source": [
    "# Lets first connect to the web driver\n",
    "\n",
    "driver=webdriver.Chrome(r\"C:\\Users\\Visual singh\\Downloads\\chromedriver_win32\\chromedriver.exe\")"
   ]
  },
  {
   "cell_type": "code",
   "execution_count": null,
   "id": "6f24d7df",
   "metadata": {},
   "outputs": [],
   "source": [
    "website='https://www.flipkart.com/'\n",
    "driver.get(website)"
   ]
  },
  {
   "cell_type": "code",
   "execution_count": null,
   "id": "ef0510ad",
   "metadata": {},
   "outputs": [],
   "source": [
    "search_field_iphone11=driver.find_element_by_class_name(\"_3704LK\")"
   ]
  },
  {
   "cell_type": "code",
   "execution_count": null,
   "id": "501a52bc",
   "metadata": {},
   "outputs": [],
   "source": [
    "# finding element for sunglasses search bar\n",
    "\n",
    "search_field_iphone11=driver.find_element_by_class_name('_3704LK')\n",
    "search_field_iphone11.send_keys('iphone11')"
   ]
  },
  {
   "cell_type": "code",
   "execution_count": null,
   "id": "a290971e",
   "metadata": {},
   "outputs": [],
   "source": [
    "search_button=driver.find_element_by_xpath('/html/body/div[1]/div/div[1]/div[1]/div[2]/div[2]/form/div/button')\n",
    "search_button.click()"
   ]
  },
  {
   "cell_type": "code",
   "execution_count": null,
   "id": "1c1cac6c",
   "metadata": {},
   "outputs": [],
   "source": [
    "iphone11=driver.find_element_by_xpath('//div[@class=\"_3LWZlK\"]')\n",
    "search_button.click()"
   ]
  },
  {
   "cell_type": "code",
   "execution_count": null,
   "id": "9ce425bd",
   "metadata": {},
   "outputs": [],
   "source": [
    "iphone11"
   ]
  },
  {
   "cell_type": "code",
   "execution_count": null,
   "id": "40eba57f",
   "metadata": {},
   "outputs": [],
   "source": [
    "# Creating empty list\n",
    "\n",
    "Rating=[]\n",
    "Review_Summery=[]\n",
    "Full_Review=[]"
   ]
  },
  {
   "cell_type": "code",
   "execution_count": null,
   "id": "49fdd5be",
   "metadata": {},
   "outputs": [],
   "source": [
    "Customer_Rating=driver.find_elements_by_xpath('//div[@class=\"_3LWZlK _1BLPMq\"]')\n",
    "len(Customer_Rating)"
   ]
  },
  {
   "cell_type": "code",
   "execution_count": null,
   "id": "1752639d",
   "metadata": {},
   "outputs": [],
   "source": [
    "Rating  = []\n",
    "for i in Customer_Rating  :\n",
    "    Rating.append(i.text)  \n",
    "\n",
    "len(Rating)"
   ]
  },
  {
   "cell_type": "code",
   "execution_count": null,
   "id": "0cfb6502",
   "metadata": {},
   "outputs": [],
   "source": [
    "Rating[0:100]"
   ]
  },
  {
   "cell_type": "code",
   "execution_count": null,
   "id": "2b77fc8e",
   "metadata": {},
   "outputs": [],
   "source": [
    "Product_Description[0:100]"
   ]
  },
  {
   "cell_type": "code",
   "execution_count": null,
   "id": "e3a98c2e",
   "metadata": {},
   "outputs": [],
   "source": [
    "Description_tag=driver.find_elements_by_xpath('//a[@class=\"IRpwTa\"]')\n",
    "len(Description_tag)"
   ]
  },
  {
   "cell_type": "code",
   "execution_count": null,
   "id": "06f98b63",
   "metadata": {},
   "outputs": [],
   "source": [
    "Product_Description  = []\n",
    "for i in Description_tag:\n",
    "    Product_Description.append(i.text)  \n",
    "\n",
    "len(Product_Description)"
   ]
  },
  {
   "cell_type": "code",
   "execution_count": null,
   "id": "fb3922cf",
   "metadata": {},
   "outputs": [],
   "source": [
    "Product_Description[0:100]"
   ]
  },
  {
   "cell_type": "code",
   "execution_count": null,
   "id": "0d291a9b",
   "metadata": {},
   "outputs": [],
   "source": [
    "Description_tag=driver.find_elements_by_xpath('//a[@class=\"IRpwTa\"]')\n",
    "len(Description_tag)"
   ]
  },
  {
   "cell_type": "code",
   "execution_count": null,
   "id": "ddc0d304",
   "metadata": {},
   "outputs": [],
   "source": [
    "Product_Description  = []\n",
    "for i in Description_tag:\n",
    "    Product_Description.append(i.text)  \n",
    "\n",
    "len(Product_Description)"
   ]
  },
  {
   "cell_type": "code",
   "execution_count": null,
   "id": "02a33150",
   "metadata": {},
   "outputs": [],
   "source": [
    "Product_Description[0:100]"
   ]
  },
  {
   "cell_type": "code",
   "execution_count": null,
   "id": "af25a691",
   "metadata": {},
   "outputs": [],
   "source": []
  },
  {
   "cell_type": "code",
   "execution_count": null,
   "id": "941a691f",
   "metadata": {},
   "outputs": [],
   "source": []
  },
  {
   "cell_type": "code",
   "execution_count": null,
   "id": "09d71daf",
   "metadata": {},
   "outputs": [],
   "source": []
  },
  {
   "cell_type": "code",
   "execution_count": null,
   "id": "c4eb4458",
   "metadata": {},
   "outputs": [],
   "source": []
  },
  {
   "cell_type": "code",
   "execution_count": null,
   "id": "e44b5a95",
   "metadata": {},
   "outputs": [],
   "source": []
  },
  {
   "cell_type": "code",
   "execution_count": null,
   "id": "10edba62",
   "metadata": {},
   "outputs": [],
   "source": []
  },
  {
   "cell_type": "code",
   "execution_count": null,
   "id": "e855e844",
   "metadata": {},
   "outputs": [],
   "source": []
  }
 ],
 "metadata": {
  "kernelspec": {
   "display_name": "Python 3 (ipykernel)",
   "language": "python",
   "name": "python3"
  },
  "language_info": {
   "codemirror_mode": {
    "name": "ipython",
    "version": 3
   },
   "file_extension": ".py",
   "mimetype": "text/x-python",
   "name": "python",
   "nbconvert_exporter": "python",
   "pygments_lexer": "ipython3",
   "version": "3.9.12"
  }
 },
 "nbformat": 4,
 "nbformat_minor": 5
}
